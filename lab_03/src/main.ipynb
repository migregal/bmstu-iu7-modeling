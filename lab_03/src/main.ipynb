{
 "cells": [
  {
   "cell_type": "code",
   "execution_count": 1,
   "metadata": {},
   "outputs": [],
   "source": [
    "import numpy as np\n",
    "import matplotlib.pyplot as plt\n",
    "import pandas as pd"
   ]
  },
  {
   "cell_type": "code",
   "execution_count": 2,
   "metadata": {},
   "outputs": [],
   "source": [
    "%matplotlib inline"
   ]
  },
  {
   "cell_type": "markdown",
   "metadata": {},
   "source": [
    "### Предопределенные константы"
   ]
  },
  {
   "cell_type": "code",
   "execution_count": 3,
   "metadata": {},
   "outputs": [],
   "source": [
    "c = 3e10"
   ]
  },
  {
   "cell_type": "code",
   "execution_count": 20,
   "metadata": {},
   "outputs": [],
   "source": [
    "h = 1e-2"
   ]
  },
  {
   "cell_type": "markdown",
   "metadata": {},
   "source": [
    "### Базовые функции"
   ]
  },
  {
   "cell_type": "code",
   "execution_count": 6,
   "metadata": {},
   "outputs": [],
   "source": [
    "def t(z):\n",
    "    return (t_w - t_0)*z**p + t_0\n",
    "\n",
    "def k(z):\n",
    "    return k_0 * (t(z) / 300)**2\n",
    "\n",
    "def u_p(z):    \n",
    "    return 3.084e-4 / (np.exp(4.709e4 / t(z)) - 1)"
   ]
  },
  {
   "cell_type": "code",
   "execution_count": 7,
   "metadata": {},
   "outputs": [],
   "source": [
    "def kappa(z):\n",
    "    return c * (k(z + h/2) + k(z - h/2)) / 6 / r / k(z + h/2) / k(z - h/2)"
   ]
  },
  {
   "cell_type": "code",
   "execution_count": 8,
   "metadata": {},
   "outputs": [],
   "source": [
    "def graph(x, y, title, color):\n",
    "    plt.plot(x, y, color=color)\n",
    "    plt.title(title)\n",
    "    plt.grid()"
   ]
  },
  {
   "cell_type": "code",
   "execution_count": 9,
   "metadata": {},
   "outputs": [],
   "source": [
    "def solve():\n",
    "    zh = np.linspace(h/2, 1, int(2 / h + 1))\n",
    "    \n",
    "    M0 = kappa(zh[0]) * zh[0] + c * r * h * h / 8 * k(zh[0]) * zh[0]\n",
    "    K0 = -kappa(zh[0]) * zh[0] + c * r * h * h / 8 * k(zh[0]) * zh[0]\n",
    "    P0 = c * r * h * h / 4 * k(zh[0]) * u_p(zh[0]) * zh[0]\n",
    "    xi = np.zeros((int(1 / h) + 1,))\n",
    "    xi[0] = -K0 / M0\n",
    "    etha = np.zeros((int(1 / h) + 1,))\n",
    "    etha[0] = P0 / M0\n",
    "    for i in range(int(1 / h)):\n",
    "        z = zh[2*i]\n",
    "        a_n = kappa(z) * z\n",
    "        \n",
    "        z = zh[2*i + 1]\n",
    "        b_n = a_n + c * k(z) * z * h * h * r\n",
    "        f_n = c * k(z) * u_p(z) * h * h * z * r\n",
    "        \n",
    "        z = zh[2*i + 2]\n",
    "        c_n = kappa(z) * z\n",
    "        b_n += c_n\n",
    "        xi[i+1] = c_n / (b_n - a_n * xi[i])\n",
    "        etha[i+1] = (f_n + a_n * etha[i])/(b_n - a_n * xi[i])\n",
    "\n",
    "    y = np.zeros(xi.shape)\n",
    "    z = zh[-2]\n",
    "    MN = -kappa(z) * z + r * c * h * h / 8 * k(z) * z\n",
    "    KN = kappa(z) * z + m * c * h / 2 + r * c * h * h / 8 * k(z) * z + r * c * h * h / 4 * k(1)\n",
    "    PN = c * r * h * h / 4 * (k(z) * u_p(z) * z + k(1) * u_p(1))\n",
    "    \n",
    "    y[-1] = (PN - MN * etha[-1]) / (MN * xi[-1] + KN)\n",
    "    for i in range(len(y) - 2, -1, -1):\n",
    "        y[i] = y[i+1] * xi[i+1] + etha[i+1]\n",
    "\n",
    "    return y, np.linspace(0, 1, y.shape[0])"
   ]
  },
  {
   "cell_type": "code",
   "execution_count": 10,
   "metadata": {},
   "outputs": [],
   "source": [
    "def get_f_derivatives(y, z):\n",
    "    dy = np.zeros(y.shape)\n",
    "    dy[0] = (-3 * y[0] + 4 * y[1] - y[2]) / 2 / h\n",
    "    for i in range(1, len(y) - 1):\n",
    "        dy[i] = (y[i+1] - y[i-1]) / 2 / h\n",
    "    dy[-1] = (3 * y[-1] - 4 * y[-2] + y[-3]) / 2 / h\n",
    "    \n",
    "    f = [-c / 3 / r / k(z[i]) * dy[i] for i in range(len(z))]\n",
    "    f[0] = 0\n",
    "\n",
    "    return f"
   ]
  },
  {
   "cell_type": "code",
   "execution_count": 11,
   "metadata": {},
   "outputs": [],
   "source": [
    "def get_f_integrals(u, z):\n",
    "    f = np.zeros(z.shape)\n",
    "    zs = np.linspace(0, 1, f.shape[0])\n",
    "\n",
    "    s = 0\n",
    "    for i in range(1, len(f)):        \n",
    "        s += h / 2 * (k(zs[i - 1]) * (u_p(zs[i - 1]) - u[i - 1]) * zs[i - 1] + k(zs[i]) * (u_p(zs[i]) - u[i]) * zs[i])\n",
    "        f[i] = c * r / zs[i] * s\n",
    "\n",
    "    return f"
   ]
  },
  {
   "cell_type": "code",
   "execution_count": 18,
   "metadata": {},
   "outputs": [],
   "source": [
    "def get_div(u, z):\n",
    "    return c * k(z) * (u_p(z) - u)"
   ]
  },
  {
   "cell_type": "code",
   "execution_count": 21,
   "metadata": {},
   "outputs": [
    {
     "data": {
      "image/png": "[encoded data removed]",
      "text/plain": [
       "<Figure size 432x288 with 1 Axes>"
      ]
     },
     "metadata": {
      "needs_background": "light"
     },
     "output_type": "display_data"
    }
   ],
   "source": [
    "u, z = solve()\n",
    "graph(z, u, \"Распределение плотности излучения U от z\", 'r')"
   ]
  },
  {
   "cell_type": "code",
   "execution_count": 22,
   "metadata": {},
   "outputs": [
    {
     "data": {
      "image/png": "[encoded data removed]",
      "text/plain": [
       "<Figure size 432x288 with 1 Axes>"
      ]
     },
     "metadata": {
      "needs_background": "light"
     },
     "output_type": "display_data"
    }
   ],
   "source": [
    "graph(z, u_p(z), \"Распределение равновесной плотности излучения U_p от z\", 'b')"
   ]
  },
  {
   "cell_type": "code",
   "execution_count": 23,
   "metadata": {},
   "outputs": [
    {
     "data": {
      "image/png": "[encoded data removed]",
      "text/plain": [
       "<Figure size 432x288 with 1 Axes>"
      ]
     },
     "metadata": {
      "needs_background": "light"
     },
     "output_type": "display_data"
    }
   ],
   "source": [
    "graph(z, get_f_derivatives(u, z), \"Распределение плотности излучения F от z\", 'g')"
   ]
  },
  {
   "cell_type": "code",
   "execution_count": 24,
   "metadata": {},
   "outputs": [
    {
     "data": {
      "image/png": "[encoded data removed]",
      "text/plain": [
       "<Figure size 432x288 with 1 Axes>"
      ]
     },
     "metadata": {
      "needs_background": "light"
     },
     "output_type": "display_data"
    }
   ],
   "source": [
    "graph(z, get_f_integrals(u, z), \"Распределение плотности излучения F1 от z\", 'b')"
   ]
  },
  {
   "cell_type": "code",
   "execution_count": 25,
   "metadata": {},
   "outputs": [
    {
     "data": {
      "image/png": "[encoded data removed]",
      "text/plain": [
       "<Figure size 432x288 with 1 Axes>"
      ]
     },
     "metadata": {
      "needs_background": "light"
     },
     "output_type": "display_data"
    }
   ],
   "source": [
    "graph(z, get_div(u, z), \"Распределение div F от z\", 'b')"
   ]
  },
  {
   "cell_type": "code",
   "execution_count": 26,
   "metadata": {},
   "outputs": [
    {
     "data": {
      "text/html": [
       "<div>\n",
       "<style scoped>\n",
       "    .dataframe tbody tr th:only-of-type {\n",
       "        vertical-align: middle;\n",
       "    }\n",
       "\n",
       "    .dataframe tbody tr th {\n",
       "        vertical-align: top;\n",
       "    }\n",
       "\n",
       "    .dataframe thead th {\n",
       "        text-align: right;\n",
       "    }\n",
       "</style>\n",
       "<table border=\"1\" class=\"dataframe\">\n",
       "  <thead>\n",
       "    <tr style=\"text-align: right;\">\n",
       "      <th></th>\n",
       "      <th>U</th>\n",
       "      <th>U_p</th>\n",
       "      <th>F</th>\n",
       "      <th>F1</th>\n",
       "      <th>dF</th>\n",
       "    </tr>\n",
       "  </thead>\n",
       "  <tbody>\n",
       "    <tr>\n",
       "      <th>0</th>\n",
       "      <td>3.557130e-07</td>\n",
       "      <td>2.805137e-06</td>\n",
       "      <td>0.000000</td>\n",
       "      <td>0.000000</td>\n",
       "      <td>65317.968484</td>\n",
       "    </tr>\n",
       "    <tr>\n",
       "      <th>1</th>\n",
       "      <td>3.535784e-07</td>\n",
       "      <td>2.804071e-06</td>\n",
       "      <td>1257.729889</td>\n",
       "      <td>1143.362431</td>\n",
       "      <td>65336.002800</td>\n",
       "    </tr>\n",
       "    <tr>\n",
       "      <th>2</th>\n",
       "      <td>3.478993e-07</td>\n",
       "      <td>2.788105e-06</td>\n",
       "      <td>2394.200919</td>\n",
       "      <td>2282.603834</td>\n",
       "      <td>64905.687588</td>\n",
       "    </tr>\n",
       "    <tr>\n",
       "      <th>3</th>\n",
       "      <td>3.387943e-07</td>\n",
       "      <td>2.719543e-06</td>\n",
       "      <td>3487.363524</td>\n",
       "      <td>3386.563580</td>\n",
       "      <td>62666.512657</td>\n",
       "    </tr>\n",
       "    <tr>\n",
       "      <th>4</th>\n",
       "      <td>3.267106e-07</td>\n",
       "      <td>2.539947e-06</td>\n",
       "      <td>4449.575418</td>\n",
       "      <td>4374.374321</td>\n",
       "      <td>56626.937851</td>\n",
       "    </tr>\n",
       "    <tr>\n",
       "      <th>5</th>\n",
       "      <td>3.127002e-07</td>\n",
       "      <td>2.184999e-06</td>\n",
       "      <td>5139.965601</td>\n",
       "      <td>5109.624877</td>\n",
       "      <td>45059.998280</td>\n",
       "    </tr>\n",
       "    <tr>\n",
       "      <th>6</th>\n",
       "      <td>2.985375e-07</td>\n",
       "      <td>1.620825e-06</td>\n",
       "      <td>5406.138583</td>\n",
       "      <td>5437.035794</td>\n",
       "      <td>28328.324014</td>\n",
       "    </tr>\n",
       "    <tr>\n",
       "      <th>7</th>\n",
       "      <td>2.863690e-07</td>\n",
       "      <td>9.100979e-07</td>\n",
       "      <td>5185.672809</td>\n",
       "      <td>5281.942629</td>\n",
       "      <td>10856.787603</td>\n",
       "    </tr>\n",
       "    <tr>\n",
       "      <th>8</th>\n",
       "      <td>2.778314e-07</td>\n",
       "      <td>2.803269e-07</td>\n",
       "      <td>4613.866362</td>\n",
       "      <td>4769.659776</td>\n",
       "      <td>30.079863</td>\n",
       "    </tr>\n",
       "    <tr>\n",
       "      <th>9</th>\n",
       "      <td>2.732755e-07</td>\n",
       "      <td>1.530259e-08</td>\n",
       "      <td>3954.566927</td>\n",
       "      <td>4195.200578</td>\n",
       "      <td>-1552.921472</td>\n",
       "    </tr>\n",
       "    <tr>\n",
       "      <th>10</th>\n",
       "      <td>2.718420e-07</td>\n",
       "      <td>1.835062e-14</td>\n",
       "      <td>3023.102840</td>\n",
       "      <td>3746.253593</td>\n",
       "      <td>-289.964742</td>\n",
       "    </tr>\n",
       "  </tbody>\n",
       "</table>\n",
       "</div>"
      ],
      "text/plain": [
       "               U           U_p            F           F1            dF\n",
       "0   3.557130e-07  2.805137e-06     0.000000     0.000000  65317.968484\n",
       "1   3.535784e-07  2.804071e-06  1257.729889  1143.362431  65336.002800\n",
       "2   3.478993e-07  2.788105e-06  2394.200919  2282.603834  64905.687588\n",
       "3   3.387943e-07  2.719543e-06  3487.363524  3386.563580  62666.512657\n",
       "4   3.267106e-07  2.539947e-06  4449.575418  4374.374321  56626.937851\n",
       "5   3.127002e-07  2.184999e-06  5139.965601  5109.624877  45059.998280\n",
       "6   2.985375e-07  1.620825e-06  5406.138583  5437.035794  28328.324014\n",
       "7   2.863690e-07  9.100979e-07  5185.672809  5281.942629  10856.787603\n",
       "8   2.778314e-07  2.803269e-07  4613.866362  4769.659776     30.079863\n",
       "9   2.732755e-07  1.530259e-08  3954.566927  4195.200578  -1552.921472\n",
       "10  2.718420e-07  1.835062e-14  3023.102840  3746.253593   -289.964742"
      ]
     },
     "execution_count": 26,
     "metadata": {},
     "output_type": "execute_result"
    }
   ],
   "source": [
    "df = pd.DataFrame({'U': u[::10],\n",
    "                   'U_p': u_p(z)[::10],\n",
    "                   'F': get_f_derivatives(u, z)[::10],\n",
    "                   'F1': get_f_integrals(u, z)[::10],\n",
    "                   'dF': get_div(u, z)[::10]})\n",
    "\n",
    "df"
   ]
  },
  {
   "cell_type": "code",
   "execution_count": null,
   "metadata": {},
   "outputs": [],
   "source": []
  }
 ],
 "metadata": {
  "kernelspec": {
   "display_name": "Python 3 (ipykernel)",
   "language": "python",
   "name": "python3"
  },
  "language_info": {
   "codemirror_mode": {
    "name": "ipython",
    "version": 3
   },
   "file_extension": ".py",
   "mimetype": "text/x-python",
   "name": "python",
   "nbconvert_exporter": "python",
   "pygments_lexer": "ipython3",
   "version": "3.10.4"
  }
 },
 "nbformat": 4,
 "nbformat_minor": 2
}
