{
 "cells": [
  {
   "cell_type": "code",
   "execution_count": 82,
   "id": "95cb5ad6",
   "metadata": {},
   "outputs": [],
   "source": [
    "import os\n",
    "from itertools import islice\n",
    "\n",
    "import numpy as np\n",
    "import pandas as pd\n",
    "\n",
    "import matplotlib.pyplot as plt"
   ]
  },
  {
   "cell_type": "code",
   "execution_count": 155,
   "id": "f04e53a2",
   "metadata": {},
   "outputs": [],
   "source": [
    "%matplotlib inline\n",
    "import matplotlib_inline\n",
    "matplotlib_inline.backend_inline.set_matplotlib_formats('svg')"
   ]
  },
  {
   "cell_type": "code",
   "execution_count": 156,
   "id": "c51a1ea4",
   "metadata": {},
   "outputs": [],
   "source": [
    "NUMBERS_COUNT = 5000"
   ]
  },
  {
   "cell_type": "markdown",
   "id": "5010c8ad",
   "metadata": {},
   "source": [
    "### Table"
   ]
  },
  {
   "cell_type": "code",
   "execution_count": 157,
   "id": "7a40153e",
   "metadata": {},
   "outputs": [],
   "source": [
    "notebook_path = os.path.abspath(\"main.ipynb\")\n",
    "\n",
    "table = os.path.join(os.path.dirname(notebook_path), \"data/numbers.txt\")\n",
    "\n",
    "def read_numbers(filename: str, count: int) -> set[int]:\n",
    "    numbers = set()\n",
    "    with open(filename) as file: \n",
    "        line_num = 0\n",
    "\n",
    "        for l in islice(file, line_num, None):\n",
    "            numbers.update(set(l.split(\" \")[1:-1]))\n",
    "            if len(numbers) >= count + 1:\n",
    "                break\n",
    "            line_num += 1\n",
    "\n",
    "        numbers.remove(\"\") \n",
    "        numbers = list(numbers)[:count]\n",
    "\n",
    "    return numbers\n",
    "\n",
    "def table_rand(filename: str, count: int=5000) -> tuple[np.ndarray]:\n",
    "    numbers = read_numbers(filename, 3*count)\n",
    "\n",
    "    one_digit = np.array([int(i)%10 for i in numbers[:count]])\n",
    "    two_digits = np.array([int(i)%90 + 10 for i in numbers[count:count*2]])\n",
    "    three_digits = np.array([int(i)%900 + 100 for i in numbers[count*2:3*count]])\n",
    "\n",
    "    return one_digit, two_digits, three_digits"
   ]
  },
  {
   "cell_type": "markdown",
   "id": "2aaf2198",
   "metadata": {},
   "source": [
    "### Algorytmic"
   ]
  },
  {
   "cell_type": "code",
   "execution_count": 158,
   "id": "97cd22de",
   "metadata": {},
   "outputs": [],
   "source": [
    "# Linear congruent method\n",
    "\n",
    "# one of\n",
    "# a          c          m\n",
    "# 4096       150889     714025\n",
    "# 36261      66037      312500\n",
    "# 84589      45989      217728\n",
    "\n",
    "# 1664525    1013904223 2^32\n",
    "# 22695477   1          2^32\n",
    "# 1103515245 12345      2^31\n",
    "\n",
    "class RNG:\n",
    "    def __init__(self, seed: int = 10):\n",
    "        self.a, self.c, self.m = 84589, 45989, 217728\n",
    "        self.current = seed\n",
    "        \n",
    "    def get_number(self, low=0, high=100) -> int:\n",
    "        self.current = (self.a * self.current + self.c) % self.m\n",
    "        return int(low + self.current % (high - low))\n",
    "\n",
    "def alg_rand(seed: int=10, count: int=5000) -> tuple[np.ndarray]:\n",
    "    random = RNG(seed)\n",
    "    \n",
    "    one_digit = np.array([random.get_number(0, 10) for i in range(count)])\n",
    "    two_digits = np.array([random.get_number(10, 100) for i in range(count)])\n",
    "    three_digits = np.array([random.get_number(100, 1000) for i in range(count)])\n",
    "    \n",
    "    return  one_digit, two_digits, three_digits"
   ]
  },
  {
   "cell_type": "markdown",
   "id": "be4aba5f",
   "metadata": {},
   "source": [
    "### Main"
   ]
  },
  {
   "cell_type": "code",
   "execution_count": 159,
   "id": "eaa3d040",
   "metadata": {},
   "outputs": [],
   "source": [
    "tbl = table_rand(table, NUMBERS_COUNT)\n",
    "\n",
    "alg = alg_rand(seed=150, count=NUMBERS_COUNT)\n",
    "\n",
    "io = [1, 9, 1, 9, 1, 9, 1, 9, 1, 9]"
   ]
  },
  {
   "cell_type": "code",
   "execution_count": 160,
   "id": "2ff591d5",
   "metadata": {},
   "outputs": [
    {
     "data": {
      "text/html": [
       "<div>\n",
       "<style scoped>\n",
       "    .dataframe tbody tr th:only-of-type {\n",
       "        vertical-align: middle;\n",
       "    }\n",
       "\n",
       "    .dataframe tbody tr th {\n",
       "        vertical-align: top;\n",
       "    }\n",
       "\n",
       "    .dataframe thead th {\n",
       "        text-align: right;\n",
       "    }\n",
       "</style>\n",
       "<table border=\"1\" class=\"dataframe\">\n",
       "  <thead>\n",
       "    <tr style=\"text-align: right;\">\n",
       "      <th></th>\n",
       "      <th>алг. 0-9</th>\n",
       "      <th>алг. 10-99</th>\n",
       "      <th>алг. 100-999</th>\n",
       "      <th>табл. 0-9</th>\n",
       "      <th>табл. 10-99</th>\n",
       "      <th>табл. 100-999</th>\n",
       "    </tr>\n",
       "  </thead>\n",
       "  <tbody>\n",
       "    <tr>\n",
       "      <th>0</th>\n",
       "      <td>5</td>\n",
       "      <td>37</td>\n",
       "      <td>791</td>\n",
       "      <td>5</td>\n",
       "      <td>75</td>\n",
       "      <td>451</td>\n",
       "    </tr>\n",
       "    <tr>\n",
       "      <th>500</th>\n",
       "      <td>5</td>\n",
       "      <td>53</td>\n",
       "      <td>675</td>\n",
       "      <td>2</td>\n",
       "      <td>88</td>\n",
       "      <td>355</td>\n",
       "    </tr>\n",
       "    <tr>\n",
       "      <th>1000</th>\n",
       "      <td>3</td>\n",
       "      <td>45</td>\n",
       "      <td>319</td>\n",
       "      <td>4</td>\n",
       "      <td>80</td>\n",
       "      <td>940</td>\n",
       "    </tr>\n",
       "    <tr>\n",
       "      <th>1500</th>\n",
       "      <td>1</td>\n",
       "      <td>13</td>\n",
       "      <td>335</td>\n",
       "      <td>4</td>\n",
       "      <td>24</td>\n",
       "      <td>367</td>\n",
       "    </tr>\n",
       "    <tr>\n",
       "      <th>2000</th>\n",
       "      <td>3</td>\n",
       "      <td>29</td>\n",
       "      <td>219</td>\n",
       "      <td>5</td>\n",
       "      <td>77</td>\n",
       "      <td>664</td>\n",
       "    </tr>\n",
       "    <tr>\n",
       "      <th>2500</th>\n",
       "      <td>9</td>\n",
       "      <td>93</td>\n",
       "      <td>619</td>\n",
       "      <td>7</td>\n",
       "      <td>97</td>\n",
       "      <td>279</td>\n",
       "    </tr>\n",
       "    <tr>\n",
       "      <th>3000</th>\n",
       "      <td>9</td>\n",
       "      <td>25</td>\n",
       "      <td>599</td>\n",
       "      <td>2</td>\n",
       "      <td>15</td>\n",
       "      <td>268</td>\n",
       "    </tr>\n",
       "    <tr>\n",
       "      <th>3500</th>\n",
       "      <td>7</td>\n",
       "      <td>95</td>\n",
       "      <td>807</td>\n",
       "      <td>2</td>\n",
       "      <td>77</td>\n",
       "      <td>515</td>\n",
       "    </tr>\n",
       "    <tr>\n",
       "      <th>4000</th>\n",
       "      <td>7</td>\n",
       "      <td>51</td>\n",
       "      <td>415</td>\n",
       "      <td>3</td>\n",
       "      <td>16</td>\n",
       "      <td>851</td>\n",
       "    </tr>\n",
       "    <tr>\n",
       "      <th>4500</th>\n",
       "      <td>1</td>\n",
       "      <td>73</td>\n",
       "      <td>611</td>\n",
       "      <td>3</td>\n",
       "      <td>18</td>\n",
       "      <td>662</td>\n",
       "    </tr>\n",
       "  </tbody>\n",
       "</table>\n",
       "</div>"
      ],
      "text/plain": [
       "      алг. 0-9  алг. 10-99  алг. 100-999  табл. 0-9  табл. 10-99  \\\n",
       "0            5          37           791          5           75   \n",
       "500          5          53           675          2           88   \n",
       "1000         3          45           319          4           80   \n",
       "1500         1          13           335          4           24   \n",
       "2000         3          29           219          5           77   \n",
       "2500         9          93           619          7           97   \n",
       "3000         9          25           599          2           15   \n",
       "3500         7          95           807          2           77   \n",
       "4000         7          51           415          3           16   \n",
       "4500         1          73           611          3           18   \n",
       "\n",
       "      табл. 100-999  \n",
       "0               451  \n",
       "500             355  \n",
       "1000            940  \n",
       "1500            367  \n",
       "2000            664  \n",
       "2500            279  \n",
       "3000            268  \n",
       "3500            515  \n",
       "4000            851  \n",
       "4500            662  "
      ]
     },
     "execution_count": 160,
     "metadata": {},
     "output_type": "execute_result"
    }
   ],
   "source": [
    "data = pd.DataFrame()\n",
    "\n",
    "data[\"алг. 0-9\"] = alg[0]\n",
    "data[\"алг. 10-99\"] = alg[1]\n",
    "data[\"алг. 100-999\"] = alg[2]\n",
    "data[\"табл. 0-9\"] = tbl[0]\n",
    "data[\"табл. 10-99\"] = tbl[1]\n",
    "data[\"табл. 100-999\"] = tbl[2]\n",
    "\n",
    "data[::500]"
   ]
  },
  {
   "cell_type": "markdown",
   "id": "c7af3660",
   "metadata": {},
   "source": [
    "### $\\chi^2$"
   ]
  },
  {
   "cell_type": "code",
   "execution_count": 161,
   "id": "f884de80",
   "metadata": {},
   "outputs": [],
   "source": [
    "def calc_hi(cnt: np.ndarray, n: int) -> int:     \n",
    "    r = 0\n",
    "    for i in range(len(cnt)):\n",
    "        if i == len(cnt) - 1:\n",
    "            p = (1/np.math.factorial(i+1))\n",
    "        else:\n",
    "            p = (1/np.math.factorial(i+1) - 1/np.math.factorial(i+1+1))\n",
    "\n",
    "        r += cnt[i]**2 / p\n",
    "    \n",
    "    r = r / n - n\n",
    "\n",
    "    return r"
   ]
  },
  {
   "cell_type": "markdown",
   "id": "5238ee86",
   "metadata": {},
   "source": [
    "### Monotonicity criterion"
   ]
  },
  {
   "cell_type": "code",
   "execution_count": 162,
   "id": "d4250119",
   "metadata": {},
   "outputs": [],
   "source": [
    "def monotonicity_criterion(arr: np.ndarray):\n",
    "    tabs = np.zeros(6, dtype='int64')\n",
    "    \n",
    "    i, length = 0, 1\n",
    "    while i < len(arr):\n",
    "        if (i == len(arr) - 1) or (arr[i] > arr[i+1]):\n",
    "            tabs[5 if length >= 6 else length-1] += 1\n",
    "\n",
    "            i, length = i+1, 0\n",
    "\n",
    "        i += 1\n",
    "        length += 1\n",
    "\n",
    "    n = sum(i * tabs[i] for i in range(len(tabs)))\n",
    "    return calc_hi(tabs, n)"
   ]
  },
  {
   "cell_type": "code",
   "execution_count": 163,
   "id": "3c3fcd86",
   "metadata": {},
   "outputs": [
    {
     "data": {
      "text/html": [
       "<div>\n",
       "<style scoped>\n",
       "    .dataframe tbody tr th:only-of-type {\n",
       "        vertical-align: middle;\n",
       "    }\n",
       "\n",
       "    .dataframe tbody tr th {\n",
       "        vertical-align: top;\n",
       "    }\n",
       "\n",
       "    .dataframe thead th {\n",
       "        text-align: right;\n",
       "    }\n",
       "</style>\n",
       "<table border=\"1\" class=\"dataframe\">\n",
       "  <thead>\n",
       "    <tr style=\"text-align: right;\">\n",
       "      <th></th>\n",
       "      <th>0-9</th>\n",
       "      <th>10-99</th>\n",
       "      <th>100-999</th>\n",
       "    </tr>\n",
       "  </thead>\n",
       "  <tbody>\n",
       "    <tr>\n",
       "      <th>ввод</th>\n",
       "      <td>34.000000</td>\n",
       "      <td>-</td>\n",
       "      <td>-</td>\n",
       "    </tr>\n",
       "    <tr>\n",
       "      <th>алг.</th>\n",
       "      <td>1585.342147</td>\n",
       "      <td>1459.579608</td>\n",
       "      <td>1055.301611</td>\n",
       "    </tr>\n",
       "    <tr>\n",
       "      <th>табл.</th>\n",
       "      <td>666.491240</td>\n",
       "      <td>1228.049094</td>\n",
       "      <td>1185.293633</td>\n",
       "    </tr>\n",
       "  </tbody>\n",
       "</table>\n",
       "</div>"
      ],
      "text/plain": [
       "               0-9        10-99      100-999\n",
       "ввод     34.000000            -            -\n",
       "алг.   1585.342147  1459.579608  1055.301611\n",
       "табл.   666.491240  1228.049094  1185.293633"
      ]
     },
     "execution_count": 163,
     "metadata": {},
     "output_type": "execute_result"
    }
   ],
   "source": [
    "data = pd.DataFrame()\n",
    "data.loc[\"ввод\", \"0-9\"] = monotonicity_criterion(io)\n",
    "data.loc[\"ввод\", \"10-99\"] = data.loc[\"ввод\", \"100-999\"] = \"-\"\n",
    "\n",
    "data.loc[\"алг.\", \"0-9\"] = monotonicity_criterion(alg[0])\n",
    "data.loc[\"алг.\", \"10-99\"] = monotonicity_criterion(alg[1])\n",
    "data.loc[\"алг.\", \"100-999\"] = monotonicity_criterion(alg[2])\n",
    "data.loc[\"табл.\", \"0-9\"] = monotonicity_criterion(tbl[0])\n",
    "data.loc[\"табл.\", \"10-99\"] = monotonicity_criterion(tbl[1])\n",
    "data.loc[\"табл.\", \"100-999\"] = monotonicity_criterion(tbl[2])\n",
    "\n",
    "data"
   ]
  },
  {
   "cell_type": "markdown",
   "id": "7594c983",
   "metadata": {},
   "source": [
    "### Plots"
   ]
  },
  {
   "cell_type": "code",
   "execution_count": 164,
   "id": "1b863daf",
   "metadata": {},
   "outputs": [
    {
     "data": {
      "image/svg+xml": "<?xml version=\"1.0\" encoding=\"utf-8\" standalone=\"no\"?>\n<!DOCTYPE svg PUBLIC \"-//W3C//DTD SVG 1.1//EN\"\n  \"http://www.w3.org/Graphics/SVG/1.1/DTD/svg11.dtd\">\n<svg xmlns:xlink=\"http://www.w3.org/1999/xlink\" width=\"714.05978pt\" height=\"434.27625pt\" viewBox=\"0 0 714.05978 434.27625\" xmlns=\"http://www.w3.org/2000/svg\" version=\"1.1\">\n <metadata>\n  <rdf:RDF xmlns:dc=\"http://purl.org/dc/elements/1.1/\" xmlns:cc=\"http://creativecommons.org/ns#\" xmlns:rdf=\"http://www.w3.org/1999/02/22-rdf-syntax-ns#\">\n   <cc:Work>\n    <dc:type rdf:resource=\"http://purl.org/dc/dcmitype/StillImage\"/>\n    <dc:date>2022-11-08T10:07:26.715217</dc:date>\n    <dc:format>image/svg+xml</dc:format>\n    <dc:creator>\n     <cc:Agent>\n      <dc:title>Matplotlib v3.6.0, https://matplotlib.org/</dc:title>\n     </cc:Agent>\n    </dc:creator>\n   </cc:Work>\n  </rdf:RDF>\n </metadata>\n <defs>\n  <style type=\"text/css\">*{stroke-linejoin: round; stroke-linecap: butt}</style>\n </defs>\n <g id=\"figure_1\">\n  <g id=\"patch_1\">\n   <path d=\"M 0 434.27625 \nL 714.05978 434.27625 \nL 714.05978 0 \nL 0 0 \nz\n\" style=\"fill: #ffffff\"/>\n  </g>\n  <g id=\"axes_1\">\n   <g id=\"patch_2\">\n    <path d=\"M 33.2875 198.718125 \nL 230.228676 198.718125 \nL 230.228676 22.318125 \nL 33.2875 22.318125 \nz\n\" style=\"fill: #ffffff\"/>\n   </g>\n   <g id=\"patch_3\">\n    <path d=\"M 42.239372 198.718125 \nL 60.143115 198.718125 \nL 60.143115 52.061138 \nL 42.239372 52.061138 \nz\n\" clip-path=\"url(#p53907904f5)\" style=\"fill: #1f77b4\"/>\n   </g>\n   <g id=\"patch_4\">\n    <path d=\"M 60.143115 198.718125 \nL 78.046858 198.718125 \nL 78.046858 45.353334 \nL 60.143115 45.353334 \nz\n\" clip-path=\"url(#p53907904f5)\" style=\"fill: #1f77b4\"/>\n   </g>\n   <g id=\"patch_5\">\n    <path d=\"M 78.046858 198.718125 \nL 95.950602 198.718125 \nL 95.950602 39.56023 \nL 78.046858 39.56023 \nz\n\" clip-path=\"url(#p53907904f5)\" style=\"fill: #1f77b4\"/>\n   </g>\n   <g id=\"patch_6\">\n    <path d=\"M 95.950602 198.718125 \nL 113.854345 198.718125 \nL 113.854345 48.097435 \nL 95.950602 48.097435 \nz\n\" clip-path=\"url(#p53907904f5)\" style=\"fill: #1f77b4\"/>\n   </g>\n   <g id=\"patch_7\">\n    <path d=\"M 113.854345 198.718125 \nL 131.758088 198.718125 \nL 131.758088 32.547526 \nL 113.854345 32.547526 \nz\n\" clip-path=\"url(#p53907904f5)\" style=\"fill: #1f77b4\"/>\n   </g>\n   <g id=\"patch_8\">\n    <path d=\"M 131.758088 198.718125 \nL 149.661832 198.718125 \nL 149.661832 30.718125 \nL 131.758088 30.718125 \nz\n\" clip-path=\"url(#p53907904f5)\" style=\"fill: #1f77b4\"/>\n   </g>\n   <g id=\"patch_9\">\n    <path d=\"M 149.661832 198.718125 \nL 167.565575 198.718125 \nL 167.565575 51.756238 \nL 149.661832 51.756238 \nz\n\" clip-path=\"url(#p53907904f5)\" style=\"fill: #1f77b4\"/>\n   </g>\n   <g id=\"patch_10\">\n    <path d=\"M 167.565575 198.718125 \nL 185.469318 198.718125 \nL 185.469318 56.32974 \nL 167.565575 56.32974 \nz\n\" clip-path=\"url(#p53907904f5)\" style=\"fill: #1f77b4\"/>\n   </g>\n   <g id=\"patch_11\">\n    <path d=\"M 185.469318 198.718125 \nL 203.373061 198.718125 \nL 203.373061 52.975838 \nL 185.469318 52.975838 \nz\n\" clip-path=\"url(#p53907904f5)\" style=\"fill: #1f77b4\"/>\n   </g>\n   <g id=\"patch_12\">\n    <path d=\"M 203.373061 198.718125 \nL 221.276805 198.718125 \nL 221.276805 53.280738 \nL 203.373061 53.280738 \nz\n\" clip-path=\"url(#p53907904f5)\" style=\"fill: #1f77b4\"/>\n   </g>\n   <g id=\"matplotlib.axis_1\">\n    <g id=\"xtick_1\">\n     <g id=\"line2d_1\">\n      <defs>\n       <path id=\"mbf27fa747e\" d=\"M 0 0 \nL 0 3.5 \n\" style=\"stroke: #000000; stroke-width: 0.8\"/>\n      </defs>\n      <g>\n       <use xlink:href=\"#mbf27fa747e\" x=\"42.239372\" y=\"198.718125\" style=\"stroke: #000000; stroke-width: 0.8\"/>\n      </g>\n     </g>\n     <g id=\"text_1\">\n      <!-- 0 -->\n      <g transform=\"translate(39.058122 213.316562) scale(0.1 -0.1)\">\n       <defs>\n        <path id=\"DejaVuSans-30\" d=\"M 2034 4250 \nQ 1547 4250 1301 3770 \nQ 1056 3291 1056 2328 \nQ 1056 1369 1301 889 \nQ 1547 409 2034 409 \nQ 2525 409 2770 889 \nQ 3016 1369 3016 2328 \nQ 3016 3291 2770 3770 \nQ 2525 4250 2034 4250 \nz\nM 2034 4750 \nQ 2819 4750 3233 4129 \nQ 3647 3509 3647 2328 \nQ 3647 1150 3233 529 \nQ 2819 -91 2034 -91 \nQ 1250 -91 836 529 \nQ 422 1150 422 2328 \nQ 422 3509 836 4129 \nQ 1250 4750 2034 4750 \nz\n\" transform=\"scale(0.015625)\"/>\n       </defs>\n       <use xlink:href=\"#DejaVuSans-30\"/>\n      </g>\n     </g>\n    </g>\n    <g id=\"xtick_2\">\n     <g id=\"line2d_2\">\n      <g>\n       <use xlink:href=\"#mbf27fa747e\" x=\"82.025468\" y=\"198.718125\" style=\"stroke: #000000; stroke-width: 0.8\"/>\n      </g>\n     </g>\n     <g id=\"text_2\">\n      <!-- 2 -->\n      <g transform=\"translate(78.844218 213.316562) scale(0.1 -0.1)\">\n       <defs>\n        <path id=\"DejaVuSans-32\" d=\"M 1228 531 \nL 3431 531 \nL 3431 0 \nL 469 0 \nL 469 531 \nQ 828 903 1448 1529 \nQ 2069 2156 2228 2338 \nQ 2531 2678 2651 2914 \nQ 2772 3150 2772 3378 \nQ 2772 3750 2511 3984 \nQ 2250 4219 1831 4219 \nQ 1534 4219 1204 4116 \nQ 875 4013 500 3803 \nL 500 4441 \nQ 881 4594 1212 4672 \nQ 1544 4750 1819 4750 \nQ 2544 4750 2975 4387 \nQ 3406 4025 3406 3419 \nQ 3406 3131 3298 2873 \nQ 3191 2616 2906 2266 \nQ 2828 2175 2409 1742 \nQ 1991 1309 1228 531 \nz\n\" transform=\"scale(0.015625)\"/>\n       </defs>\n       <use xlink:href=\"#DejaVuSans-32\"/>\n      </g>\n     </g>\n    </g>\n    <g id=\"xtick_3\">\n     <g id=\"line2d_3\">\n      <g>\n       <use xlink:href=\"#mbf27fa747e\" x=\"121.811564\" y=\"198.718125\" style=\"stroke: #000000; stroke-width: 0.8\"/>\n      </g>\n     </g>\n     <g id=\"text_3\">\n      <!-- 4 -->\n      <g transform=\"translate(118.630314 213.316562) scale(0.1 -0.1)\">\n       <defs>\n        <path id=\"DejaVuSans-34\" d=\"M 2419 4116 \nL 825 1625 \nL 2419 1625 \nL 2419 4116 \nz\nM 2253 4666 \nL 3047 4666 \nL 3047 1625 \nL 3713 1625 \nL 3713 1100 \nL 3047 1100 \nL 3047 0 \nL 2419 0 \nL 2419 1100 \nL 313 1100 \nL 313 1709 \nL 2253 4666 \nz\n\" transform=\"scale(0.015625)\"/>\n       </defs>\n       <use xlink:href=\"#DejaVuSans-34\"/>\n      </g>\n     </g>\n    </g>\n    <g id=\"xtick_4\">\n     <g id=\"line2d_4\">\n      <g>\n       <use xlink:href=\"#mbf27fa747e\" x=\"161.59766\" y=\"198.718125\" style=\"stroke: #000000; stroke-width: 0.8\"/>\n      </g>\n     </g>\n     <g id=\"text_4\">\n      <!-- 6 -->\n      <g transform=\"translate(158.41641 213.316562) scale(0.1 -0.1)\">\n       <defs>\n        <path id=\"DejaVuSans-36\" d=\"M 2113 2584 \nQ 1688 2584 1439 2293 \nQ 1191 2003 1191 1497 \nQ 1191 994 1439 701 \nQ 1688 409 2113 409 \nQ 2538 409 2786 701 \nQ 3034 994 3034 1497 \nQ 3034 2003 2786 2293 \nQ 2538 2584 2113 2584 \nz\nM 3366 4563 \nL 3366 3988 \nQ 3128 4100 2886 4159 \nQ 2644 4219 2406 4219 \nQ 1781 4219 1451 3797 \nQ 1122 3375 1075 2522 \nQ 1259 2794 1537 2939 \nQ 1816 3084 2150 3084 \nQ 2853 3084 3261 2657 \nQ 3669 2231 3669 1497 \nQ 3669 778 3244 343 \nQ 2819 -91 2113 -91 \nQ 1303 -91 875 529 \nQ 447 1150 447 2328 \nQ 447 3434 972 4092 \nQ 1497 4750 2381 4750 \nQ 2619 4750 2861 4703 \nQ 3103 4656 3366 4563 \nz\n\" transform=\"scale(0.015625)\"/>\n       </defs>\n       <use xlink:href=\"#DejaVuSans-36\"/>\n      </g>\n     </g>\n    </g>\n    <g id=\"xtick_5\">\n     <g id=\"line2d_5\">\n      <g>\n       <use xlink:href=\"#mbf27fa747e\" x=\"201.383757\" y=\"198.718125\" style=\"stroke: #000000; stroke-width: 0.8\"/>\n      </g>\n     </g>\n     <g id=\"text_5\">\n      <!-- 8 -->\n      <g transform=\"translate(198.202507 213.316562) scale(0.1 -0.1)\">\n       <defs>\n        <path id=\"DejaVuSans-38\" d=\"M 2034 2216 \nQ 1584 2216 1326 1975 \nQ 1069 1734 1069 1313 \nQ 1069 891 1326 650 \nQ 1584 409 2034 409 \nQ 2484 409 2743 651 \nQ 3003 894 3003 1313 \nQ 3003 1734 2745 1975 \nQ 2488 2216 2034 2216 \nz\nM 1403 2484 \nQ 997 2584 770 2862 \nQ 544 3141 544 3541 \nQ 544 4100 942 4425 \nQ 1341 4750 2034 4750 \nQ 2731 4750 3128 4425 \nQ 3525 4100 3525 3541 \nQ 3525 3141 3298 2862 \nQ 3072 2584 2669 2484 \nQ 3125 2378 3379 2068 \nQ 3634 1759 3634 1313 \nQ 3634 634 3220 271 \nQ 2806 -91 2034 -91 \nQ 1263 -91 848 271 \nQ 434 634 434 1313 \nQ 434 1759 690 2068 \nQ 947 2378 1403 2484 \nz\nM 1172 3481 \nQ 1172 3119 1398 2916 \nQ 1625 2713 2034 2713 \nQ 2441 2713 2670 2916 \nQ 2900 3119 2900 3481 \nQ 2900 3844 2670 4047 \nQ 2441 4250 2034 4250 \nQ 1625 4250 1398 4047 \nQ 1172 3844 1172 3481 \nz\n\" transform=\"scale(0.015625)\"/>\n       </defs>\n       <use xlink:href=\"#DejaVuSans-38\"/>\n      </g>\n     </g>\n    </g>\n   </g>\n   <g id=\"matplotlib.axis_2\">\n    <g id=\"ytick_1\">\n     <g id=\"line2d_6\">\n      <defs>\n       <path id=\"m107335b3a7\" d=\"M 0 0 \nL -3.5 0 \n\" style=\"stroke: #000000; stroke-width: 0.8\"/>\n      </defs>\n      <g>\n       <use xlink:href=\"#m107335b3a7\" x=\"33.2875\" y=\"198.718125\" style=\"stroke: #000000; stroke-width: 0.8\"/>\n      </g>\n     </g>\n     <g id=\"text_6\">\n      <!-- 0 -->\n      <g transform=\"translate(19.925 202.517344) scale(0.1 -0.1)\">\n       <use xlink:href=\"#DejaVuSans-30\"/>\n      </g>\n     </g>\n    </g>\n    <g id=\"ytick_2\">\n     <g id=\"line2d_7\">\n      <g>\n       <use xlink:href=\"#m107335b3a7\" x=\"33.2875\" y=\"168.228107\" style=\"stroke: #000000; stroke-width: 0.8\"/>\n      </g>\n     </g>\n     <g id=\"text_7\">\n      <!-- 100 -->\n      <g transform=\"translate(7.2 172.027326) scale(0.1 -0.1)\">\n       <defs>\n        <path id=\"DejaVuSans-31\" d=\"M 794 531 \nL 1825 531 \nL 1825 4091 \nL 703 3866 \nL 703 4441 \nL 1819 4666 \nL 2450 4666 \nL 2450 531 \nL 3481 531 \nL 3481 0 \nL 794 0 \nL 794 531 \nz\n\" transform=\"scale(0.015625)\"/>\n       </defs>\n       <use xlink:href=\"#DejaVuSans-31\"/>\n       <use xlink:href=\"#DejaVuSans-30\" x=\"63.623047\"/>\n       <use xlink:href=\"#DejaVuSans-30\" x=\"127.246094\"/>\n      </g>\n     </g>\n    </g>\n    <g id=\"ytick_3\">\n     <g id=\"line2d_8\">\n      <g>\n       <use xlink:href=\"#m107335b3a7\" x=\"33.2875\" y=\"137.738089\" style=\"stroke: #000000; stroke-width: 0.8\"/>\n      </g>\n     </g>\n     <g id=\"text_8\">\n      <!-- 200 -->\n      <g transform=\"translate(7.2 141.537307) scale(0.1 -0.1)\">\n       <use xlink:href=\"#DejaVuSans-32\"/>\n       <use xlink:href=\"#DejaVuSans-30\" x=\"63.623047\"/>\n       <use xlink:href=\"#DejaVuSans-30\" x=\"127.246094\"/>\n      </g>\n     </g>\n    </g>\n    <g id=\"ytick_4\">\n     <g id=\"line2d_9\">\n      <g>\n       <use xlink:href=\"#m107335b3a7\" x=\"33.2875\" y=\"107.248071\" style=\"stroke: #000000; stroke-width: 0.8\"/>\n      </g>\n     </g>\n     <g id=\"text_9\">\n      <!-- 300 -->\n      <g transform=\"translate(7.2 111.047289) scale(0.1 -0.1)\">\n       <defs>\n        <path id=\"DejaVuSans-33\" d=\"M 2597 2516 \nQ 3050 2419 3304 2112 \nQ 3559 1806 3559 1356 \nQ 3559 666 3084 287 \nQ 2609 -91 1734 -91 \nQ 1441 -91 1130 -33 \nQ 819 25 488 141 \nL 488 750 \nQ 750 597 1062 519 \nQ 1375 441 1716 441 \nQ 2309 441 2620 675 \nQ 2931 909 2931 1356 \nQ 2931 1769 2642 2001 \nQ 2353 2234 1838 2234 \nL 1294 2234 \nL 1294 2753 \nL 1863 2753 \nQ 2328 2753 2575 2939 \nQ 2822 3125 2822 3475 \nQ 2822 3834 2567 4026 \nQ 2313 4219 1838 4219 \nQ 1578 4219 1281 4162 \nQ 984 4106 628 3988 \nL 628 4550 \nQ 988 4650 1302 4700 \nQ 1616 4750 1894 4750 \nQ 2613 4750 3031 4423 \nQ 3450 4097 3450 3541 \nQ 3450 3153 3228 2886 \nQ 3006 2619 2597 2516 \nz\n\" transform=\"scale(0.015625)\"/>\n       </defs>\n       <use xlink:href=\"#DejaVuSans-33\"/>\n       <use xlink:href=\"#DejaVuSans-30\" x=\"63.623047\"/>\n       <use xlink:href=\"#DejaVuSans-30\" x=\"127.246094\"/>\n      </g>\n     </g>\n    </g>\n    <g id=\"ytick_5\">\n     <g id=\"line2d_10\">\n      <g>\n       <use xlink:href=\"#m107335b3a7\" x=\"33.2875\" y=\"76.758052\" style=\"stroke: #000000; stroke-width: 0.8\"/>\n      </g>\n     </g>\n     <g id=\"text_10\">\n      <!-- 400 -->\n      <g transform=\"translate(7.2 80.557271) scale(0.1 -0.1)\">\n       <use xlink:href=\"#DejaVuSans-34\"/>\n       <use xlink:href=\"#DejaVuSans-30\" x=\"63.623047\"/>\n       <use xlink:href=\"#DejaVuSans-30\" x=\"127.246094\"/>\n      </g>\n     </g>\n    </g>\n    <g id=\"ytick_6\">\n     <g id=\"line2d_11\">\n      <g>\n       <use xlink:href=\"#m107335b3a7\" x=\"33.2875\" y=\"46.268034\" style=\"stroke: #000000; stroke-width: 0.8\"/>\n      </g>\n     </g>\n     <g id=\"text_11\">\n      <!-- 500 -->\n      <g transform=\"translate(7.2 50.067253) scale(0.1 -0.1)\">\n       <defs>\n        <path id=\"DejaVuSans-35\" d=\"M 691 4666 \nL 3169 4666 \nL 3169 4134 \nL 1269 4134 \nL 1269 2991 \nQ 1406 3038 1543 3061 \nQ 1681 3084 1819 3084 \nQ 2600 3084 3056 2656 \nQ 3513 2228 3513 1497 \nQ 3513 744 3044 326 \nQ 2575 -91 1722 -91 \nQ 1428 -91 1123 -41 \nQ 819 9 494 109 \nL 494 744 \nQ 775 591 1075 516 \nQ 1375 441 1709 441 \nQ 2250 441 2565 725 \nQ 2881 1009 2881 1497 \nQ 2881 1984 2565 2268 \nQ 2250 2553 1709 2553 \nQ 1456 2553 1204 2497 \nQ 953 2441 691 2322 \nL 691 4666 \nz\n\" transform=\"scale(0.015625)\"/>\n       </defs>\n       <use xlink:href=\"#DejaVuSans-35\"/>\n       <use xlink:href=\"#DejaVuSans-30\" x=\"63.623047\"/>\n       <use xlink:href=\"#DejaVuSans-30\" x=\"127.246094\"/>\n      </g>\n     </g>\n    </g>\n   </g>\n   <g id=\"patch_13\">\n    <path d=\"M 33.2875 198.718125 \nL 33.2875 22.318125 \n\" style=\"fill: none; stroke: #000000; stroke-width: 0.8; stroke-linejoin: miter; stroke-linecap: square\"/>\n   </g>\n   <g id=\"patch_14\">\n    <path d=\"M 230.228676 198.718125 \nL 230.228676 22.318125 \n\" style=\"fill: none; stroke: #000000; stroke-width: 0.8; stroke-linejoin: miter; stroke-linecap: square\"/>\n   </g>\n   <g id=\"patch_15\">\n    <path d=\"M 33.2875 198.718125 \nL 230.228676 198.718125 \n\" style=\"fill: none; stroke: #000000; stroke-width: 0.8; stroke-linejoin: miter; stroke-linecap: square\"/>\n   </g>\n   <g id=\"patch_16\">\n    <path d=\"M 33.2875 22.318125 \nL 230.228676 22.318125 \n\" style=\"fill: none; stroke: #000000; stroke-width: 0.8; stroke-linejoin: miter; stroke-linecap: square\"/>\n   </g>\n   <g id=\"text_12\">\n    <!-- Table 1 -->\n    <g transform=\"translate(110.514338 16.318125) scale(0.12 -0.12)\">\n     <defs>\n      <path id=\"DejaVuSans-54\" d=\"M -19 4666 \nL 3928 4666 \nL 3928 4134 \nL 2272 4134 \nL 2272 0 \nL 1638 0 \nL 1638 4134 \nL -19 4134 \nL -19 4666 \nz\n\" transform=\"scale(0.015625)\"/>\n      <path id=\"DejaVuSans-61\" d=\"M 2194 1759 \nQ 1497 1759 1228 1600 \nQ 959 1441 959 1056 \nQ 959 750 1161 570 \nQ 1363 391 1709 391 \nQ 2188 391 2477 730 \nQ 2766 1069 2766 1631 \nL 2766 1759 \nL 2194 1759 \nz\nM 3341 1997 \nL 3341 0 \nL 2766 0 \nL 2766 531 \nQ 2569 213 2275 61 \nQ 1981 -91 1556 -91 \nQ 1019 -91 701 211 \nQ 384 513 384 1019 \nQ 384 1609 779 1909 \nQ 1175 2209 1959 2209 \nL 2766 2209 \nL 2766 2266 \nQ 2766 2663 2505 2880 \nQ 2244 3097 1772 3097 \nQ 1472 3097 1187 3025 \nQ 903 2953 641 2809 \nL 641 3341 \nQ 956 3463 1253 3523 \nQ 1550 3584 1831 3584 \nQ 2591 3584 2966 3190 \nQ 3341 2797 3341 1997 \nz\n\" transform=\"scale(0.015625)\"/>\n      <path id=\"DejaVuSans-62\" d=\"M 3116 1747 \nQ 3116 2381 2855 2742 \nQ 2594 3103 2138 3103 \nQ 1681 3103 1420 2742 \nQ 1159 2381 1159 1747 \nQ 1159 1113 1420 752 \nQ 1681 391 2138 391 \nQ 2594 391 2855 752 \nQ 3116 1113 3116 1747 \nz\nM 1159 2969 \nQ 1341 3281 1617 3432 \nQ 1894 3584 2278 3584 \nQ 2916 3584 3314 3078 \nQ 3713 2572 3713 1747 \nQ 3713 922 3314 415 \nQ 2916 -91 2278 -91 \nQ 1894 -91 1617 61 \nQ 1341 213 1159 525 \nL 1159 0 \nL 581 0 \nL 581 4863 \nL 1159 4863 \nL 1159 2969 \nz\n\" transform=\"scale(0.015625)\"/>\n      <path id=\"DejaVuSans-6c\" d=\"M 603 4863 \nL 1178 4863 \nL 1178 0 \nL 603 0 \nL 603 4863 \nz\n\" transform=\"scale(0.015625)\"/>\n      <path id=\"DejaVuSans-65\" d=\"M 3597 1894 \nL 3597 1613 \nL 953 1613 \nQ 991 1019 1311 708 \nQ 1631 397 2203 397 \nQ 2534 397 2845 478 \nQ 3156 559 3463 722 \nL 3463 178 \nQ 3153 47 2828 -22 \nQ 2503 -91 2169 -91 \nQ 1331 -91 842 396 \nQ 353 884 353 1716 \nQ 353 2575 817 3079 \nQ 1281 3584 2069 3584 \nQ 2775 3584 3186 3129 \nQ 3597 2675 3597 1894 \nz\nM 3022 2063 \nQ 3016 2534 2758 2815 \nQ 2500 3097 2075 3097 \nQ 1594 3097 1305 2825 \nQ 1016 2553 972 2059 \nL 3022 2063 \nz\n\" transform=\"scale(0.015625)\"/>\n      <path id=\"DejaVuSans-20\" transform=\"scale(0.015625)\"/>\n     </defs>\n     <use xlink:href=\"#DejaVuSans-54\"/>\n     <use xlink:href=\"#DejaVuSans-61\" x=\"44.583984\"/>\n     <use xlink:href=\"#DejaVuSans-62\" x=\"105.863281\"/>\n     <use xlink:href=\"#DejaVuSans-6c\" x=\"169.339844\"/>\n     <use xlink:href=\"#DejaVuSans-65\" x=\"197.123047\"/>\n     <use xlink:href=\"#DejaVuSans-20\" x=\"258.646484\"/>\n     <use xlink:href=\"#DejaVuSans-31\" x=\"290.433594\"/>\n    </g>\n   </g>\n  </g>\n  <g id=\"axes_2\">\n   <g id=\"patch_17\">\n    <path d=\"M 269.616912 198.718125 \nL 466.558088 198.718125 \nL 466.558088 22.318125 \nL 269.616912 22.318125 \nz\n\" style=\"fill: #ffffff\"/>\n   </g>\n   <g id=\"patch_18\">\n    <path d=\"M 278.568783 198.718125 \nL 296.472527 198.718125 \nL 296.472527 30.718125 \nL 278.568783 30.718125 \nz\n\" clip-path=\"url(#pe45b82b6de)\" style=\"fill: #1f77b4\"/>\n   </g>\n   <g id=\"patch_19\">\n    <path d=\"M 296.472527 198.718125 \nL 314.37627 198.718125 \nL 314.37627 38.398125 \nL 296.472527 38.398125 \nz\n\" clip-path=\"url(#pe45b82b6de)\" style=\"fill: #1f77b4\"/>\n   </g>\n   <g id=\"patch_20\">\n    <path d=\"M 314.37627 198.718125 \nL 332.280013 198.718125 \nL 332.280013 35.198125 \nL 314.37627 35.198125 \nz\n\" clip-path=\"url(#pe45b82b6de)\" style=\"fill: #1f77b4\"/>\n   </g>\n   <g id=\"patch_21\">\n    <path d=\"M 332.280013 198.718125 \nL 350.183757 198.718125 \nL 350.183757 35.838125 \nL 332.280013 35.838125 \nz\n\" clip-path=\"url(#pe45b82b6de)\" style=\"fill: #1f77b4\"/>\n   </g>\n   <g id=\"patch_22\">\n    <path d=\"M 350.183757 198.718125 \nL 368.0875 198.718125 \nL 368.0875 41.278125 \nL 350.183757 41.278125 \nz\n\" clip-path=\"url(#pe45b82b6de)\" style=\"fill: #1f77b4\"/>\n   </g>\n   <g id=\"patch_23\">\n    <path d=\"M 368.0875 198.718125 \nL 385.991243 198.718125 \nL 385.991243 39.038125 \nL 368.0875 39.038125 \nz\n\" clip-path=\"url(#pe45b82b6de)\" style=\"fill: #1f77b4\"/>\n   </g>\n   <g id=\"patch_24\">\n    <path d=\"M 385.991243 198.718125 \nL 403.894987 198.718125 \nL 403.894987 45.758125 \nL 385.991243 45.758125 \nz\n\" clip-path=\"url(#pe45b82b6de)\" style=\"fill: #1f77b4\"/>\n   </g>\n   <g id=\"patch_25\">\n    <path d=\"M 403.894987 198.718125 \nL 421.79873 198.718125 \nL 421.79873 41.918125 \nL 403.894987 41.918125 \nz\n\" clip-path=\"url(#pe45b82b6de)\" style=\"fill: #1f77b4\"/>\n   </g>\n   <g id=\"patch_26\">\n    <path d=\"M 421.79873 198.718125 \nL 439.702473 198.718125 \nL 439.702473 39.678125 \nL 421.79873 39.678125 \nz\n\" clip-path=\"url(#pe45b82b6de)\" style=\"fill: #1f77b4\"/>\n   </g>\n   <g id=\"patch_27\">\n    <path d=\"M 439.702473 198.718125 \nL 457.606217 198.718125 \nL 457.606217 39.358125 \nL 439.702473 39.358125 \nz\n\" clip-path=\"url(#pe45b82b6de)\" style=\"fill: #1f77b4\"/>\n   </g>\n   <g id=\"matplotlib.axis_3\">\n    <g id=\"xtick_6\">\n     <g id=\"line2d_12\">\n      <g>\n       <use xlink:href=\"#mbf27fa747e\" x=\"298.685349\" y=\"198.718125\" style=\"stroke: #000000; stroke-width: 0.8\"/>\n      </g>\n     </g>\n     <g id=\"text_13\">\n      <!-- 20 -->\n      <g transform=\"translate(292.322849 213.316562) scale(0.1 -0.1)\">\n       <use xlink:href=\"#DejaVuSans-32\"/>\n       <use xlink:href=\"#DejaVuSans-30\" x=\"63.623047\"/>\n      </g>\n     </g>\n    </g>\n    <g id=\"xtick_7\">\n     <g id=\"line2d_13\">\n      <g>\n       <use xlink:href=\"#mbf27fa747e\" x=\"338.91848\" y=\"198.718125\" style=\"stroke: #000000; stroke-width: 0.8\"/>\n      </g>\n     </g>\n     <g id=\"text_14\">\n      <!-- 40 -->\n      <g transform=\"translate(332.55598 213.316562) scale(0.1 -0.1)\">\n       <use xlink:href=\"#DejaVuSans-34\"/>\n       <use xlink:href=\"#DejaVuSans-30\" x=\"63.623047\"/>\n      </g>\n     </g>\n    </g>\n    <g id=\"xtick_8\">\n     <g id=\"line2d_14\">\n      <g>\n       <use xlink:href=\"#mbf27fa747e\" x=\"379.151611\" y=\"198.718125\" style=\"stroke: #000000; stroke-width: 0.8\"/>\n      </g>\n     </g>\n     <g id=\"text_15\">\n      <!-- 60 -->\n      <g transform=\"translate(372.789111 213.316562) scale(0.1 -0.1)\">\n       <use xlink:href=\"#DejaVuSans-36\"/>\n       <use xlink:href=\"#DejaVuSans-30\" x=\"63.623047\"/>\n      </g>\n     </g>\n    </g>\n    <g id=\"xtick_9\">\n     <g id=\"line2d_15\">\n      <g>\n       <use xlink:href=\"#mbf27fa747e\" x=\"419.384742\" y=\"198.718125\" style=\"stroke: #000000; stroke-width: 0.8\"/>\n      </g>\n     </g>\n     <g id=\"text_16\">\n      <!-- 80 -->\n      <g transform=\"translate(413.022242 213.316562) scale(0.1 -0.1)\">\n       <use xlink:href=\"#DejaVuSans-38\"/>\n       <use xlink:href=\"#DejaVuSans-30\" x=\"63.623047\"/>\n      </g>\n     </g>\n    </g>\n    <g id=\"xtick_10\">\n     <g id=\"line2d_16\">\n      <g>\n       <use xlink:href=\"#mbf27fa747e\" x=\"459.617873\" y=\"198.718125\" style=\"stroke: #000000; stroke-width: 0.8\"/>\n      </g>\n     </g>\n     <g id=\"text_17\">\n      <!-- 100 -->\n      <g transform=\"translate(450.074123 213.316562) scale(0.1 -0.1)\">\n       <use xlink:href=\"#DejaVuSans-31\"/>\n       <use xlink:href=\"#DejaVuSans-30\" x=\"63.623047\"/>\n       <use xlink:href=\"#DejaVuSans-30\" x=\"127.246094\"/>\n      </g>\n     </g>\n    </g>\n   </g>\n   <g id=\"matplotlib.axis_4\">\n    <g id=\"ytick_7\">\n     <g id=\"line2d_17\">\n      <g>\n       <use xlink:href=\"#m107335b3a7\" x=\"269.616912\" y=\"198.718125\" style=\"stroke: #000000; stroke-width: 0.8\"/>\n      </g>\n     </g>\n     <g id=\"text_18\">\n      <!-- 0 -->\n      <g transform=\"translate(256.254412 202.517344) scale(0.1 -0.1)\">\n       <use xlink:href=\"#DejaVuSans-30\"/>\n      </g>\n     </g>\n    </g>\n    <g id=\"ytick_8\">\n     <g id=\"line2d_18\">\n      <g>\n       <use xlink:href=\"#m107335b3a7\" x=\"269.616912\" y=\"166.718125\" style=\"stroke: #000000; stroke-width: 0.8\"/>\n      </g>\n     </g>\n     <g id=\"text_19\">\n      <!-- 100 -->\n      <g transform=\"translate(243.529412 170.517344) scale(0.1 -0.1)\">\n       <use xlink:href=\"#DejaVuSans-31\"/>\n       <use xlink:href=\"#DejaVuSans-30\" x=\"63.623047\"/>\n       <use xlink:href=\"#DejaVuSans-30\" x=\"127.246094\"/>\n      </g>\n     </g>\n    </g>\n    <g id=\"ytick_9\">\n     <g id=\"line2d_19\">\n      <g>\n       <use xlink:href=\"#m107335b3a7\" x=\"269.616912\" y=\"134.718125\" style=\"stroke: #000000; stroke-width: 0.8\"/>\n      </g>\n     </g>\n     <g id=\"text_20\">\n      <!-- 200 -->\n      <g transform=\"translate(243.529412 138.517344) scale(0.1 -0.1)\">\n       <use xlink:href=\"#DejaVuSans-32\"/>\n       <use xlink:href=\"#DejaVuSans-30\" x=\"63.623047\"/>\n       <use xlink:href=\"#DejaVuSans-30\" x=\"127.246094\"/>\n      </g>\n     </g>\n    </g>\n    <g id=\"ytick_10\">\n     <g id=\"line2d_20\">\n      <g>\n       <use xlink:href=\"#m107335b3a7\" x=\"269.616912\" y=\"102.718125\" style=\"stroke: #000000; stroke-width: 0.8\"/>\n      </g>\n     </g>\n     <g id=\"text_21\">\n      <!-- 300 -->\n      <g transform=\"translate(243.529412 106.517344) scale(0.1 -0.1)\">\n       <use xlink:href=\"#DejaVuSans-33\"/>\n       <use xlink:href=\"#DejaVuSans-30\" x=\"63.623047\"/>\n       <use xlink:href=\"#DejaVuSans-30\" x=\"127.246094\"/>\n      </g>\n     </g>\n    </g>\n    <g id=\"ytick_11\">\n     <g id=\"line2d_21\">\n      <g>\n       <use xlink:href=\"#m107335b3a7\" x=\"269.616912\" y=\"70.718125\" style=\"stroke: #000000; stroke-width: 0.8\"/>\n      </g>\n     </g>\n     <g id=\"text_22\">\n      <!-- 400 -->\n      <g transform=\"translate(243.529412 74.517344) scale(0.1 -0.1)\">\n       <use xlink:href=\"#DejaVuSans-34\"/>\n       <use xlink:href=\"#DejaVuSans-30\" x=\"63.623047\"/>\n       <use xlink:href=\"#DejaVuSans-30\" x=\"127.246094\"/>\n      </g>\n     </g>\n    </g>\n    <g id=\"ytick_12\">\n     <g id=\"line2d_22\">\n      <g>\n       <use xlink:href=\"#m107335b3a7\" x=\"269.616912\" y=\"38.718125\" style=\"stroke: #000000; stroke-width: 0.8\"/>\n      </g>\n     </g>\n     <g id=\"text_23\">\n      <!-- 500 -->\n      <g transform=\"translate(243.529412 42.517344) scale(0.1 -0.1)\">\n       <use xlink:href=\"#DejaVuSans-35\"/>\n       <use xlink:href=\"#DejaVuSans-30\" x=\"63.623047\"/>\n       <use xlink:href=\"#DejaVuSans-30\" x=\"127.246094\"/>\n      </g>\n     </g>\n    </g>\n   </g>\n   <g id=\"patch_28\">\n    <path d=\"M 269.616912 198.718125 \nL 269.616912 22.318125 \n\" style=\"fill: none; stroke: #000000; stroke-width: 0.8; stroke-linejoin: miter; stroke-linecap: square\"/>\n   </g>\n   <g id=\"patch_29\">\n    <path d=\"M 466.558088 198.718125 \nL 466.558088 22.318125 \n\" style=\"fill: none; stroke: #000000; stroke-width: 0.8; stroke-linejoin: miter; stroke-linecap: square\"/>\n   </g>\n   <g id=\"patch_30\">\n    <path d=\"M 269.616912 198.718125 \nL 466.558088 198.718125 \n\" style=\"fill: none; stroke: #000000; stroke-width: 0.8; stroke-linejoin: miter; stroke-linecap: square\"/>\n   </g>\n   <g id=\"patch_31\">\n    <path d=\"M 269.616912 22.318125 \nL 466.558088 22.318125 \n\" style=\"fill: none; stroke: #000000; stroke-width: 0.8; stroke-linejoin: miter; stroke-linecap: square\"/>\n   </g>\n   <g id=\"text_24\">\n    <!-- Table 2 -->\n    <g transform=\"translate(346.84375 16.318125) scale(0.12 -0.12)\">\n     <use xlink:href=\"#DejaVuSans-54\"/>\n     <use xlink:href=\"#DejaVuSans-61\" x=\"44.583984\"/>\n     <use xlink:href=\"#DejaVuSans-62\" x=\"105.863281\"/>\n     <use xlink:href=\"#DejaVuSans-6c\" x=\"169.339844\"/>\n     <use xlink:href=\"#DejaVuSans-65\" x=\"197.123047\"/>\n     <use xlink:href=\"#DejaVuSans-20\" x=\"258.646484\"/>\n     <use xlink:href=\"#DejaVuSans-32\" x=\"290.433594\"/>\n    </g>\n   </g>\n  </g>\n  <g id=\"axes_3\">\n   <g id=\"patch_32\">\n    <path d=\"M 505.946324 198.718125 \nL 702.8875 198.718125 \nL 702.8875 22.318125 \nL 505.946324 22.318125 \nz\n\" style=\"fill: #ffffff\"/>\n   </g>\n   <g id=\"patch_33\">\n    <path d=\"M 514.898195 198.718125 \nL 532.801939 198.718125 \nL 532.801939 30.718125 \nL 514.898195 30.718125 \nz\n\" clip-path=\"url(#pe846b1a2a0)\" style=\"fill: #1f77b4\"/>\n   </g>\n   <g id=\"patch_34\">\n    <path d=\"M 532.801939 198.718125 \nL 550.705682 198.718125 \nL 550.705682 46.925917 \nL 532.801939 46.925917 \nz\n\" clip-path=\"url(#pe846b1a2a0)\" style=\"fill: #1f77b4\"/>\n   </g>\n   <g id=\"patch_35\">\n    <path d=\"M 550.705682 198.718125 \nL 568.609425 198.718125 \nL 568.609425 45.679164 \nL 550.705682 45.679164 \nz\n\" clip-path=\"url(#pe846b1a2a0)\" style=\"fill: #1f77b4\"/>\n   </g>\n   <g id=\"patch_36\">\n    <path d=\"M 568.609425 198.718125 \nL 586.513168 198.718125 \nL 586.513168 38.822021 \nL 568.609425 38.822021 \nz\n\" clip-path=\"url(#pe846b1a2a0)\" style=\"fill: #1f77b4\"/>\n   </g>\n   <g id=\"patch_37\">\n    <path d=\"M 586.513168 198.718125 \nL 604.416912 198.718125 \nL 604.416912 46.925917 \nL 586.513168 46.925917 \nz\n\" clip-path=\"url(#pe846b1a2a0)\" style=\"fill: #1f77b4\"/>\n   </g>\n   <g id=\"patch_38\">\n    <path d=\"M 604.416912 198.718125 \nL 622.320655 198.718125 \nL 622.320655 41.003839 \nL 604.416912 41.003839 \nz\n\" clip-path=\"url(#pe846b1a2a0)\" style=\"fill: #1f77b4\"/>\n   </g>\n   <g id=\"patch_39\">\n    <path d=\"M 622.320655 198.718125 \nL 640.224398 198.718125 \nL 640.224398 41.627216 \nL 622.320655 41.627216 \nz\n\" clip-path=\"url(#pe846b1a2a0)\" style=\"fill: #1f77b4\"/>\n   </g>\n   <g id=\"patch_40\">\n    <path d=\"M 640.224398 198.718125 \nL 658.128142 198.718125 \nL 658.128142 50.0428 \nL 640.224398 50.0428 \nz\n\" clip-path=\"url(#pe846b1a2a0)\" style=\"fill: #1f77b4\"/>\n   </g>\n   <g id=\"patch_41\">\n    <path d=\"M 658.128142 198.718125 \nL 676.031885 198.718125 \nL 676.031885 35.081761 \nL 658.128142 35.081761 \nz\n\" clip-path=\"url(#pe846b1a2a0)\" style=\"fill: #1f77b4\"/>\n   </g>\n   <g id=\"patch_42\">\n    <path d=\"M 676.031885 198.718125 \nL 693.935628 198.718125 \nL 693.935628 51.91293 \nL 676.031885 51.91293 \nz\n\" clip-path=\"url(#pe846b1a2a0)\" style=\"fill: #1f77b4\"/>\n   </g>\n   <g id=\"matplotlib.axis_5\">\n    <g id=\"xtick_11\">\n     <g id=\"line2d_23\">\n      <g>\n       <use xlink:href=\"#mbf27fa747e\" x=\"534.813371\" y=\"198.718125\" style=\"stroke: #000000; stroke-width: 0.8\"/>\n      </g>\n     </g>\n     <g id=\"text_25\">\n      <!-- 200 -->\n      <g transform=\"translate(525.269621 213.316562) scale(0.1 -0.1)\">\n       <use xlink:href=\"#DejaVuSans-32\"/>\n       <use xlink:href=\"#DejaVuSans-30\" x=\"63.623047\"/>\n       <use xlink:href=\"#DejaVuSans-30\" x=\"127.246094\"/>\n      </g>\n     </g>\n    </g>\n    <g id=\"xtick_12\">\n     <g id=\"line2d_24\">\n      <g>\n       <use xlink:href=\"#mbf27fa747e\" x=\"574.643723\" y=\"198.718125\" style=\"stroke: #000000; stroke-width: 0.8\"/>\n      </g>\n     </g>\n     <g id=\"text_26\">\n      <!-- 400 -->\n      <g transform=\"translate(565.099973 213.316562) scale(0.1 -0.1)\">\n       <use xlink:href=\"#DejaVuSans-34\"/>\n       <use xlink:href=\"#DejaVuSans-30\" x=\"63.623047\"/>\n       <use xlink:href=\"#DejaVuSans-30\" x=\"127.246094\"/>\n      </g>\n     </g>\n    </g>\n    <g id=\"xtick_13\">\n     <g id=\"line2d_25\">\n      <g>\n       <use xlink:href=\"#mbf27fa747e\" x=\"614.474076\" y=\"198.718125\" style=\"stroke: #000000; stroke-width: 0.8\"/>\n      </g>\n     </g>\n     <g id=\"text_27\">\n      <!-- 600 -->\n      <g transform=\"translate(604.930326 213.316562) scale(0.1 -0.1)\">\n       <use xlink:href=\"#DejaVuSans-36\"/>\n       <use xlink:href=\"#DejaVuSans-30\" x=\"63.623047\"/>\n       <use xlink:href=\"#DejaVuSans-30\" x=\"127.246094\"/>\n      </g>\n     </g>\n    </g>\n    <g id=\"xtick_14\">\n     <g id=\"line2d_26\">\n      <g>\n       <use xlink:href=\"#mbf27fa747e\" x=\"654.304428\" y=\"198.718125\" style=\"stroke: #000000; stroke-width: 0.8\"/>\n      </g>\n     </g>\n     <g id=\"text_28\">\n      <!-- 800 -->\n      <g transform=\"translate(644.760678 213.316562) scale(0.1 -0.1)\">\n       <use xlink:href=\"#DejaVuSans-38\"/>\n       <use xlink:href=\"#DejaVuSans-30\" x=\"63.623047\"/>\n       <use xlink:href=\"#DejaVuSans-30\" x=\"127.246094\"/>\n      </g>\n     </g>\n    </g>\n    <g id=\"xtick_15\">\n     <g id=\"line2d_27\">\n      <g>\n       <use xlink:href=\"#mbf27fa747e\" x=\"694.13478\" y=\"198.718125\" style=\"stroke: #000000; stroke-width: 0.8\"/>\n      </g>\n     </g>\n     <g id=\"text_29\">\n      <!-- 1000 -->\n      <g transform=\"translate(681.40978 213.316562) scale(0.1 -0.1)\">\n       <use xlink:href=\"#DejaVuSans-31\"/>\n       <use xlink:href=\"#DejaVuSans-30\" x=\"63.623047\"/>\n       <use xlink:href=\"#DejaVuSans-30\" x=\"127.246094\"/>\n       <use xlink:href=\"#DejaVuSans-30\" x=\"190.869141\"/>\n      </g>\n     </g>\n    </g>\n   </g>\n   <g id=\"matplotlib.axis_6\">\n    <g id=\"ytick_13\">\n     <g id=\"line2d_28\">\n      <g>\n       <use xlink:href=\"#m107335b3a7\" x=\"505.946324\" y=\"198.718125\" style=\"stroke: #000000; stroke-width: 0.8\"/>\n      </g>\n     </g>\n     <g id=\"text_30\">\n      <!-- 0 -->\n      <g transform=\"translate(492.583824 202.517344) scale(0.1 -0.1)\">\n       <use xlink:href=\"#DejaVuSans-30\"/>\n      </g>\n     </g>\n    </g>\n    <g id=\"ytick_14\">\n     <g id=\"line2d_29\">\n      <g>\n       <use xlink:href=\"#m107335b3a7\" x=\"505.946324\" y=\"167.549294\" style=\"stroke: #000000; stroke-width: 0.8\"/>\n      </g>\n     </g>\n     <g id=\"text_31\">\n      <!-- 100 -->\n      <g transform=\"translate(479.858824 171.348513) scale(0.1 -0.1)\">\n       <use xlink:href=\"#DejaVuSans-31\"/>\n       <use xlink:href=\"#DejaVuSans-30\" x=\"63.623047\"/>\n       <use xlink:href=\"#DejaVuSans-30\" x=\"127.246094\"/>\n      </g>\n     </g>\n    </g>\n    <g id=\"ytick_15\">\n     <g id=\"line2d_30\">\n      <g>\n       <use xlink:href=\"#m107335b3a7\" x=\"505.946324\" y=\"136.380463\" style=\"stroke: #000000; stroke-width: 0.8\"/>\n      </g>\n     </g>\n     <g id=\"text_32\">\n      <!-- 200 -->\n      <g transform=\"translate(479.858824 140.179681) scale(0.1 -0.1)\">\n       <use xlink:href=\"#DejaVuSans-32\"/>\n       <use xlink:href=\"#DejaVuSans-30\" x=\"63.623047\"/>\n       <use xlink:href=\"#DejaVuSans-30\" x=\"127.246094\"/>\n      </g>\n     </g>\n    </g>\n    <g id=\"ytick_16\">\n     <g id=\"line2d_31\">\n      <g>\n       <use xlink:href=\"#m107335b3a7\" x=\"505.946324\" y=\"105.211631\" style=\"stroke: #000000; stroke-width: 0.8\"/>\n      </g>\n     </g>\n     <g id=\"text_33\">\n      <!-- 300 -->\n      <g transform=\"translate(479.858824 109.01085) scale(0.1 -0.1)\">\n       <use xlink:href=\"#DejaVuSans-33\"/>\n       <use xlink:href=\"#DejaVuSans-30\" x=\"63.623047\"/>\n       <use xlink:href=\"#DejaVuSans-30\" x=\"127.246094\"/>\n      </g>\n     </g>\n    </g>\n    <g id=\"ytick_17\">\n     <g id=\"line2d_32\">\n      <g>\n       <use xlink:href=\"#m107335b3a7\" x=\"505.946324\" y=\"74.0428\" style=\"stroke: #000000; stroke-width: 0.8\"/>\n      </g>\n     </g>\n     <g id=\"text_34\">\n      <!-- 400 -->\n      <g transform=\"translate(479.858824 77.842019) scale(0.1 -0.1)\">\n       <use xlink:href=\"#DejaVuSans-34\"/>\n       <use xlink:href=\"#DejaVuSans-30\" x=\"63.623047\"/>\n       <use xlink:href=\"#DejaVuSans-30\" x=\"127.246094\"/>\n      </g>\n     </g>\n    </g>\n    <g id=\"ytick_18\">\n     <g id=\"line2d_33\">\n      <g>\n       <use xlink:href=\"#m107335b3a7\" x=\"505.946324\" y=\"42.873969\" style=\"stroke: #000000; stroke-width: 0.8\"/>\n      </g>\n     </g>\n     <g id=\"text_35\">\n      <!-- 500 -->\n      <g transform=\"translate(479.858824 46.673188) scale(0.1 -0.1)\">\n       <use xlink:href=\"#DejaVuSans-35\"/>\n       <use xlink:href=\"#DejaVuSans-30\" x=\"63.623047\"/>\n       <use xlink:href=\"#DejaVuSans-30\" x=\"127.246094\"/>\n      </g>\n     </g>\n    </g>\n   </g>\n   <g id=\"patch_43\">\n    <path d=\"M 505.946324 198.718125 \nL 505.946324 22.318125 \n\" style=\"fill: none; stroke: #000000; stroke-width: 0.8; stroke-linejoin: miter; stroke-linecap: square\"/>\n   </g>\n   <g id=\"patch_44\">\n    <path d=\"M 702.8875 198.718125 \nL 702.8875 22.318125 \n\" style=\"fill: none; stroke: #000000; stroke-width: 0.8; stroke-linejoin: miter; stroke-linecap: square\"/>\n   </g>\n   <g id=\"patch_45\">\n    <path d=\"M 505.946324 198.718125 \nL 702.8875 198.718125 \n\" style=\"fill: none; stroke: #000000; stroke-width: 0.8; stroke-linejoin: miter; stroke-linecap: square\"/>\n   </g>\n   <g id=\"patch_46\">\n    <path d=\"M 505.946324 22.318125 \nL 702.8875 22.318125 \n\" style=\"fill: none; stroke: #000000; stroke-width: 0.8; stroke-linejoin: miter; stroke-linecap: square\"/>\n   </g>\n   <g id=\"text_36\">\n    <!-- Table 3 -->\n    <g transform=\"translate(583.173162 16.318125) scale(0.12 -0.12)\">\n     <use xlink:href=\"#DejaVuSans-54\"/>\n     <use xlink:href=\"#DejaVuSans-61\" x=\"44.583984\"/>\n     <use xlink:href=\"#DejaVuSans-62\" x=\"105.863281\"/>\n     <use xlink:href=\"#DejaVuSans-6c\" x=\"169.339844\"/>\n     <use xlink:href=\"#DejaVuSans-65\" x=\"197.123047\"/>\n     <use xlink:href=\"#DejaVuSans-20\" x=\"258.646484\"/>\n     <use xlink:href=\"#DejaVuSans-33\" x=\"290.433594\"/>\n    </g>\n   </g>\n  </g>\n  <g id=\"axes_4\">\n   <g id=\"patch_47\">\n    <path d=\"M 33.2875 410.398125 \nL 230.228676 410.398125 \nL 230.228676 233.998125 \nL 33.2875 233.998125 \nz\n\" style=\"fill: #ffffff\"/>\n   </g>\n   <g id=\"patch_48\">\n    <path d=\"M 42.239372 410.398125 \nL 60.143115 410.398125 \nL 60.143115 249.60708 \nL 42.239372 249.60708 \nz\n\" clip-path=\"url(#pefefcf5c2b)\" style=\"fill: #1f77b4\"/>\n   </g>\n   <g id=\"patch_49\">\n    <path d=\"M 60.143115 410.398125 \nL 78.046858 410.398125 \nL 78.046858 255.875737 \nL 60.143115 255.875737 \nz\n\" clip-path=\"url(#pefefcf5c2b)\" style=\"fill: #1f77b4\"/>\n   </g>\n   <g id=\"patch_50\">\n    <path d=\"M 78.046858 410.398125 \nL 95.950602 410.398125 \nL 95.950602 258.696632 \nL 78.046858 258.696632 \nz\n\" clip-path=\"url(#pefefcf5c2b)\" style=\"fill: #1f77b4\"/>\n   </g>\n   <g id=\"patch_51\">\n    <path d=\"M 95.950602 410.398125 \nL 113.854345 410.398125 \nL 113.854345 261.830961 \nL 95.950602 261.830961 \nz\n\" clip-path=\"url(#pefefcf5c2b)\" style=\"fill: #1f77b4\"/>\n   </g>\n   <g id=\"patch_52\">\n    <path d=\"M 113.854345 410.398125 \nL 131.758088 410.398125 \nL 131.758088 258.069767 \nL 113.854345 258.069767 \nz\n\" clip-path=\"url(#pefefcf5c2b)\" style=\"fill: #1f77b4\"/>\n   </g>\n   <g id=\"patch_53\">\n    <path d=\"M 131.758088 410.398125 \nL 149.661832 410.398125 \nL 149.661832 253.99514 \nL 131.758088 253.99514 \nz\n\" clip-path=\"url(#pefefcf5c2b)\" style=\"fill: #1f77b4\"/>\n   </g>\n   <g id=\"patch_54\">\n    <path d=\"M 149.661832 410.398125 \nL 167.565575 410.398125 \nL 167.565575 252.427976 \nL 149.661832 252.427976 \nz\n\" clip-path=\"url(#pefefcf5c2b)\" style=\"fill: #1f77b4\"/>\n   </g>\n   <g id=\"patch_55\">\n    <path d=\"M 167.565575 410.398125 \nL 185.469318 410.398125 \nL 185.469318 242.398125 \nL 167.565575 242.398125 \nz\n\" clip-path=\"url(#pefefcf5c2b)\" style=\"fill: #1f77b4\"/>\n   </g>\n   <g id=\"patch_56\">\n    <path d=\"M 185.469318 410.398125 \nL 203.373061 410.398125 \nL 203.373061 249.60708 \nL 185.469318 249.60708 \nz\n\" clip-path=\"url(#pefefcf5c2b)\" style=\"fill: #1f77b4\"/>\n   </g>\n   <g id=\"patch_57\">\n    <path d=\"M 203.373061 410.398125 \nL 221.276805 410.398125 \nL 221.276805 254.308573 \nL 203.373061 254.308573 \nz\n\" clip-path=\"url(#pefefcf5c2b)\" style=\"fill: #1f77b4\"/>\n   </g>\n   <g id=\"matplotlib.axis_7\">\n    <g id=\"xtick_16\">\n     <g id=\"line2d_34\">\n      <g>\n       <use xlink:href=\"#mbf27fa747e\" x=\"42.239372\" y=\"410.398125\" style=\"stroke: #000000; stroke-width: 0.8\"/>\n      </g>\n     </g>\n     <g id=\"text_37\">\n      <!-- 0 -->\n      <g transform=\"translate(39.058122 424.996562) scale(0.1 -0.1)\">\n       <use xlink:href=\"#DejaVuSans-30\"/>\n      </g>\n     </g>\n    </g>\n    <g id=\"xtick_17\">\n     <g id=\"line2d_35\">\n      <g>\n       <use xlink:href=\"#mbf27fa747e\" x=\"82.025468\" y=\"410.398125\" style=\"stroke: #000000; stroke-width: 0.8\"/>\n      </g>\n     </g>\n     <g id=\"text_38\">\n      <!-- 2 -->\n      <g transform=\"translate(78.844218 424.996562) scale(0.1 -0.1)\">\n       <use xlink:href=\"#DejaVuSans-32\"/>\n      </g>\n     </g>\n    </g>\n    <g id=\"xtick_18\">\n     <g id=\"line2d_36\">\n      <g>\n       <use xlink:href=\"#mbf27fa747e\" x=\"121.811564\" y=\"410.398125\" style=\"stroke: #000000; stroke-width: 0.8\"/>\n      </g>\n     </g>\n     <g id=\"text_39\">\n      <!-- 4 -->\n      <g transform=\"translate(118.630314 424.996562) scale(0.1 -0.1)\">\n       <use xlink:href=\"#DejaVuSans-34\"/>\n      </g>\n     </g>\n    </g>\n    <g id=\"xtick_19\">\n     <g id=\"line2d_37\">\n      <g>\n       <use xlink:href=\"#mbf27fa747e\" x=\"161.59766\" y=\"410.398125\" style=\"stroke: #000000; stroke-width: 0.8\"/>\n      </g>\n     </g>\n     <g id=\"text_40\">\n      <!-- 6 -->\n      <g transform=\"translate(158.41641 424.996562) scale(0.1 -0.1)\">\n       <use xlink:href=\"#DejaVuSans-36\"/>\n      </g>\n     </g>\n    </g>\n    <g id=\"xtick_20\">\n     <g id=\"line2d_38\">\n      <g>\n       <use xlink:href=\"#mbf27fa747e\" x=\"201.383757\" y=\"410.398125\" style=\"stroke: #000000; stroke-width: 0.8\"/>\n      </g>\n     </g>\n     <g id=\"text_41\">\n      <!-- 8 -->\n      <g transform=\"translate(198.202507 424.996562) scale(0.1 -0.1)\">\n       <use xlink:href=\"#DejaVuSans-38\"/>\n      </g>\n     </g>\n    </g>\n   </g>\n   <g id=\"matplotlib.axis_8\">\n    <g id=\"ytick_19\">\n     <g id=\"line2d_39\">\n      <g>\n       <use xlink:href=\"#m107335b3a7\" x=\"33.2875\" y=\"410.398125\" style=\"stroke: #000000; stroke-width: 0.8\"/>\n      </g>\n     </g>\n     <g id=\"text_42\">\n      <!-- 0 -->\n      <g transform=\"translate(19.925 414.197344) scale(0.1 -0.1)\">\n       <use xlink:href=\"#DejaVuSans-30\"/>\n      </g>\n     </g>\n    </g>\n    <g id=\"ytick_20\">\n     <g id=\"line2d_40\">\n      <g>\n       <use xlink:href=\"#m107335b3a7\" x=\"33.2875\" y=\"379.054841\" style=\"stroke: #000000; stroke-width: 0.8\"/>\n      </g>\n     </g>\n     <g id=\"text_43\">\n      <!-- 100 -->\n      <g transform=\"translate(7.2 382.85406) scale(0.1 -0.1)\">\n       <use xlink:href=\"#DejaVuSans-31\"/>\n       <use xlink:href=\"#DejaVuSans-30\" x=\"63.623047\"/>\n       <use xlink:href=\"#DejaVuSans-30\" x=\"127.246094\"/>\n      </g>\n     </g>\n    </g>\n    <g id=\"ytick_21\">\n     <g id=\"line2d_41\">\n      <g>\n       <use xlink:href=\"#m107335b3a7\" x=\"33.2875\" y=\"347.711558\" style=\"stroke: #000000; stroke-width: 0.8\"/>\n      </g>\n     </g>\n     <g id=\"text_44\">\n      <!-- 200 -->\n      <g transform=\"translate(7.2 351.510777) scale(0.1 -0.1)\">\n       <use xlink:href=\"#DejaVuSans-32\"/>\n       <use xlink:href=\"#DejaVuSans-30\" x=\"63.623047\"/>\n       <use xlink:href=\"#DejaVuSans-30\" x=\"127.246094\"/>\n      </g>\n     </g>\n    </g>\n    <g id=\"ytick_22\">\n     <g id=\"line2d_42\">\n      <g>\n       <use xlink:href=\"#m107335b3a7\" x=\"33.2875\" y=\"316.368274\" style=\"stroke: #000000; stroke-width: 0.8\"/>\n      </g>\n     </g>\n     <g id=\"text_45\">\n      <!-- 300 -->\n      <g transform=\"translate(7.2 320.167493) scale(0.1 -0.1)\">\n       <use xlink:href=\"#DejaVuSans-33\"/>\n       <use xlink:href=\"#DejaVuSans-30\" x=\"63.623047\"/>\n       <use xlink:href=\"#DejaVuSans-30\" x=\"127.246094\"/>\n      </g>\n     </g>\n    </g>\n    <g id=\"ytick_23\">\n     <g id=\"line2d_43\">\n      <g>\n       <use xlink:href=\"#m107335b3a7\" x=\"33.2875\" y=\"285.024991\" style=\"stroke: #000000; stroke-width: 0.8\"/>\n      </g>\n     </g>\n     <g id=\"text_46\">\n      <!-- 400 -->\n      <g transform=\"translate(7.2 288.824209) scale(0.1 -0.1)\">\n       <use xlink:href=\"#DejaVuSans-34\"/>\n       <use xlink:href=\"#DejaVuSans-30\" x=\"63.623047\"/>\n       <use xlink:href=\"#DejaVuSans-30\" x=\"127.246094\"/>\n      </g>\n     </g>\n    </g>\n    <g id=\"ytick_24\">\n     <g id=\"line2d_44\">\n      <g>\n       <use xlink:href=\"#m107335b3a7\" x=\"33.2875\" y=\"253.681707\" style=\"stroke: #000000; stroke-width: 0.8\"/>\n      </g>\n     </g>\n     <g id=\"text_47\">\n      <!-- 500 -->\n      <g transform=\"translate(7.2 257.480926) scale(0.1 -0.1)\">\n       <use xlink:href=\"#DejaVuSans-35\"/>\n       <use xlink:href=\"#DejaVuSans-30\" x=\"63.623047\"/>\n       <use xlink:href=\"#DejaVuSans-30\" x=\"127.246094\"/>\n      </g>\n     </g>\n    </g>\n   </g>\n   <g id=\"patch_58\">\n    <path d=\"M 33.2875 410.398125 \nL 33.2875 233.998125 \n\" style=\"fill: none; stroke: #000000; stroke-width: 0.8; stroke-linejoin: miter; stroke-linecap: square\"/>\n   </g>\n   <g id=\"patch_59\">\n    <path d=\"M 230.228676 410.398125 \nL 230.228676 233.998125 \n\" style=\"fill: none; stroke: #000000; stroke-width: 0.8; stroke-linejoin: miter; stroke-linecap: square\"/>\n   </g>\n   <g id=\"patch_60\">\n    <path d=\"M 33.2875 410.398125 \nL 230.228676 410.398125 \n\" style=\"fill: none; stroke: #000000; stroke-width: 0.8; stroke-linejoin: miter; stroke-linecap: square\"/>\n   </g>\n   <g id=\"patch_61\">\n    <path d=\"M 33.2875 233.998125 \nL 230.228676 233.998125 \n\" style=\"fill: none; stroke: #000000; stroke-width: 0.8; stroke-linejoin: miter; stroke-linecap: square\"/>\n   </g>\n   <g id=\"text_48\">\n    <!-- Algorythmic 1 -->\n    <g transform=\"translate(89.799338 227.998125) scale(0.12 -0.12)\">\n     <defs>\n      <path id=\"DejaVuSans-41\" d=\"M 2188 4044 \nL 1331 1722 \nL 3047 1722 \nL 2188 4044 \nz\nM 1831 4666 \nL 2547 4666 \nL 4325 0 \nL 3669 0 \nL 3244 1197 \nL 1141 1197 \nL 716 0 \nL 50 0 \nL 1831 4666 \nz\n\" transform=\"scale(0.015625)\"/>\n      <path id=\"DejaVuSans-67\" d=\"M 2906 1791 \nQ 2906 2416 2648 2759 \nQ 2391 3103 1925 3103 \nQ 1463 3103 1205 2759 \nQ 947 2416 947 1791 \nQ 947 1169 1205 825 \nQ 1463 481 1925 481 \nQ 2391 481 2648 825 \nQ 2906 1169 2906 1791 \nz\nM 3481 434 \nQ 3481 -459 3084 -895 \nQ 2688 -1331 1869 -1331 \nQ 1566 -1331 1297 -1286 \nQ 1028 -1241 775 -1147 \nL 775 -588 \nQ 1028 -725 1275 -790 \nQ 1522 -856 1778 -856 \nQ 2344 -856 2625 -561 \nQ 2906 -266 2906 331 \nL 2906 616 \nQ 2728 306 2450 153 \nQ 2172 0 1784 0 \nQ 1141 0 747 490 \nQ 353 981 353 1791 \nQ 353 2603 747 3093 \nQ 1141 3584 1784 3584 \nQ 2172 3584 2450 3431 \nQ 2728 3278 2906 2969 \nL 2906 3500 \nL 3481 3500 \nL 3481 434 \nz\n\" transform=\"scale(0.015625)\"/>\n      <path id=\"DejaVuSans-6f\" d=\"M 1959 3097 \nQ 1497 3097 1228 2736 \nQ 959 2375 959 1747 \nQ 959 1119 1226 758 \nQ 1494 397 1959 397 \nQ 2419 397 2687 759 \nQ 2956 1122 2956 1747 \nQ 2956 2369 2687 2733 \nQ 2419 3097 1959 3097 \nz\nM 1959 3584 \nQ 2709 3584 3137 3096 \nQ 3566 2609 3566 1747 \nQ 3566 888 3137 398 \nQ 2709 -91 1959 -91 \nQ 1206 -91 779 398 \nQ 353 888 353 1747 \nQ 353 2609 779 3096 \nQ 1206 3584 1959 3584 \nz\n\" transform=\"scale(0.015625)\"/>\n      <path id=\"DejaVuSans-72\" d=\"M 2631 2963 \nQ 2534 3019 2420 3045 \nQ 2306 3072 2169 3072 \nQ 1681 3072 1420 2755 \nQ 1159 2438 1159 1844 \nL 1159 0 \nL 581 0 \nL 581 3500 \nL 1159 3500 \nL 1159 2956 \nQ 1341 3275 1631 3429 \nQ 1922 3584 2338 3584 \nQ 2397 3584 2469 3576 \nQ 2541 3569 2628 3553 \nL 2631 2963 \nz\n\" transform=\"scale(0.015625)\"/>\n      <path id=\"DejaVuSans-79\" d=\"M 2059 -325 \nQ 1816 -950 1584 -1140 \nQ 1353 -1331 966 -1331 \nL 506 -1331 \nL 506 -850 \nL 844 -850 \nQ 1081 -850 1212 -737 \nQ 1344 -625 1503 -206 \nL 1606 56 \nL 191 3500 \nL 800 3500 \nL 1894 763 \nL 2988 3500 \nL 3597 3500 \nL 2059 -325 \nz\n\" transform=\"scale(0.015625)\"/>\n      <path id=\"DejaVuSans-74\" d=\"M 1172 4494 \nL 1172 3500 \nL 2356 3500 \nL 2356 3053 \nL 1172 3053 \nL 1172 1153 \nQ 1172 725 1289 603 \nQ 1406 481 1766 481 \nL 2356 481 \nL 2356 0 \nL 1766 0 \nQ 1100 0 847 248 \nQ 594 497 594 1153 \nL 594 3053 \nL 172 3053 \nL 172 3500 \nL 594 3500 \nL 594 4494 \nL 1172 4494 \nz\n\" transform=\"scale(0.015625)\"/>\n      <path id=\"DejaVuSans-68\" d=\"M 3513 2113 \nL 3513 0 \nL 2938 0 \nL 2938 2094 \nQ 2938 2591 2744 2837 \nQ 2550 3084 2163 3084 \nQ 1697 3084 1428 2787 \nQ 1159 2491 1159 1978 \nL 1159 0 \nL 581 0 \nL 581 4863 \nL 1159 4863 \nL 1159 2956 \nQ 1366 3272 1645 3428 \nQ 1925 3584 2291 3584 \nQ 2894 3584 3203 3211 \nQ 3513 2838 3513 2113 \nz\n\" transform=\"scale(0.015625)\"/>\n      <path id=\"DejaVuSans-6d\" d=\"M 3328 2828 \nQ 3544 3216 3844 3400 \nQ 4144 3584 4550 3584 \nQ 5097 3584 5394 3201 \nQ 5691 2819 5691 2113 \nL 5691 0 \nL 5113 0 \nL 5113 2094 \nQ 5113 2597 4934 2840 \nQ 4756 3084 4391 3084 \nQ 3944 3084 3684 2787 \nQ 3425 2491 3425 1978 \nL 3425 0 \nL 2847 0 \nL 2847 2094 \nQ 2847 2600 2669 2842 \nQ 2491 3084 2119 3084 \nQ 1678 3084 1418 2786 \nQ 1159 2488 1159 1978 \nL 1159 0 \nL 581 0 \nL 581 3500 \nL 1159 3500 \nL 1159 2956 \nQ 1356 3278 1631 3431 \nQ 1906 3584 2284 3584 \nQ 2666 3584 2933 3390 \nQ 3200 3197 3328 2828 \nz\n\" transform=\"scale(0.015625)\"/>\n      <path id=\"DejaVuSans-69\" d=\"M 603 3500 \nL 1178 3500 \nL 1178 0 \nL 603 0 \nL 603 3500 \nz\nM 603 4863 \nL 1178 4863 \nL 1178 4134 \nL 603 4134 \nL 603 4863 \nz\n\" transform=\"scale(0.015625)\"/>\n      <path id=\"DejaVuSans-63\" d=\"M 3122 3366 \nL 3122 2828 \nQ 2878 2963 2633 3030 \nQ 2388 3097 2138 3097 \nQ 1578 3097 1268 2742 \nQ 959 2388 959 1747 \nQ 959 1106 1268 751 \nQ 1578 397 2138 397 \nQ 2388 397 2633 464 \nQ 2878 531 3122 666 \nL 3122 134 \nQ 2881 22 2623 -34 \nQ 2366 -91 2075 -91 \nQ 1284 -91 818 406 \nQ 353 903 353 1747 \nQ 353 2603 823 3093 \nQ 1294 3584 2113 3584 \nQ 2378 3584 2631 3529 \nQ 2884 3475 3122 3366 \nz\n\" transform=\"scale(0.015625)\"/>\n     </defs>\n     <use xlink:href=\"#DejaVuSans-41\"/>\n     <use xlink:href=\"#DejaVuSans-6c\" x=\"68.408203\"/>\n     <use xlink:href=\"#DejaVuSans-67\" x=\"96.191406\"/>\n     <use xlink:href=\"#DejaVuSans-6f\" x=\"159.667969\"/>\n     <use xlink:href=\"#DejaVuSans-72\" x=\"220.849609\"/>\n     <use xlink:href=\"#DejaVuSans-79\" x=\"261.962891\"/>\n     <use xlink:href=\"#DejaVuSans-74\" x=\"321.142578\"/>\n     <use xlink:href=\"#DejaVuSans-68\" x=\"360.351562\"/>\n     <use xlink:href=\"#DejaVuSans-6d\" x=\"423.730469\"/>\n     <use xlink:href=\"#DejaVuSans-69\" x=\"521.142578\"/>\n     <use xlink:href=\"#DejaVuSans-63\" x=\"548.925781\"/>\n     <use xlink:href=\"#DejaVuSans-20\" x=\"603.90625\"/>\n     <use xlink:href=\"#DejaVuSans-31\" x=\"635.693359\"/>\n    </g>\n   </g>\n  </g>\n  <g id=\"axes_5\">\n   <g id=\"patch_62\">\n    <path d=\"M 269.616912 410.398125 \nL 466.558088 410.398125 \nL 466.558088 233.998125 \nL 269.616912 233.998125 \nz\n\" style=\"fill: #ffffff\"/>\n   </g>\n   <g id=\"patch_63\">\n    <path d=\"M 278.568783 410.398125 \nL 296.472527 410.398125 \nL 296.472527 247.2724 \nL 278.568783 247.2724 \nz\n\" clip-path=\"url(#pf687e9301c)\" style=\"fill: #1f77b4\"/>\n   </g>\n   <g id=\"patch_64\">\n    <path d=\"M 296.472527 410.398125 \nL 314.37627 410.398125 \nL 314.37627 250.521916 \nL 296.472527 250.521916 \nz\n\" clip-path=\"url(#pf687e9301c)\" style=\"fill: #1f77b4\"/>\n   </g>\n   <g id=\"patch_65\">\n    <path d=\"M 314.37627 410.398125 \nL 332.280013 410.398125 \nL 332.280013 244.997738 \nL 314.37627 244.997738 \nz\n\" clip-path=\"url(#pf687e9301c)\" style=\"fill: #1f77b4\"/>\n   </g>\n   <g id=\"patch_66\">\n    <path d=\"M 332.280013 410.398125 \nL 350.183757 410.398125 \nL 350.183757 250.521916 \nL 332.280013 250.521916 \nz\n\" clip-path=\"url(#pf687e9301c)\" style=\"fill: #1f77b4\"/>\n   </g>\n   <g id=\"patch_67\">\n    <path d=\"M 350.183757 410.398125 \nL 368.0875 410.398125 \nL 368.0875 242.723077 \nL 350.183757 242.723077 \nz\n\" clip-path=\"url(#pf687e9301c)\" style=\"fill: #1f77b4\"/>\n   </g>\n   <g id=\"patch_68\">\n    <path d=\"M 368.0875 410.398125 \nL 385.991243 410.398125 \nL 385.991243 249.547061 \nL 368.0875 249.547061 \nz\n\" clip-path=\"url(#pf687e9301c)\" style=\"fill: #1f77b4\"/>\n   </g>\n   <g id=\"patch_69\">\n    <path d=\"M 385.991243 410.398125 \nL 403.894987 410.398125 \nL 403.894987 246.297545 \nL 385.991243 246.297545 \nz\n\" clip-path=\"url(#pf687e9301c)\" style=\"fill: #1f77b4\"/>\n   </g>\n   <g id=\"patch_70\">\n    <path d=\"M 403.894987 410.398125 \nL 421.79873 410.398125 \nL 421.79873 246.622496 \nL 403.894987 246.622496 \nz\n\" clip-path=\"url(#pf687e9301c)\" style=\"fill: #1f77b4\"/>\n   </g>\n   <g id=\"patch_71\">\n    <path d=\"M 421.79873 410.398125 \nL 439.702473 410.398125 \nL 439.702473 258.320756 \nL 421.79873 258.320756 \nz\n\" clip-path=\"url(#pf687e9301c)\" style=\"fill: #1f77b4\"/>\n   </g>\n   <g id=\"patch_72\">\n    <path d=\"M 439.702473 410.398125 \nL 457.606217 410.398125 \nL 457.606217 242.398125 \nL 439.702473 242.398125 \nz\n\" clip-path=\"url(#pf687e9301c)\" style=\"fill: #1f77b4\"/>\n   </g>\n   <g id=\"matplotlib.axis_9\">\n    <g id=\"xtick_21\">\n     <g id=\"line2d_45\">\n      <g>\n       <use xlink:href=\"#mbf27fa747e\" x=\"298.685349\" y=\"410.398125\" style=\"stroke: #000000; stroke-width: 0.8\"/>\n      </g>\n     </g>\n     <g id=\"text_49\">\n      <!-- 20 -->\n      <g transform=\"translate(292.322849 424.996562) scale(0.1 -0.1)\">\n       <use xlink:href=\"#DejaVuSans-32\"/>\n       <use xlink:href=\"#DejaVuSans-30\" x=\"63.623047\"/>\n      </g>\n     </g>\n    </g>\n    <g id=\"xtick_22\">\n     <g id=\"line2d_46\">\n      <g>\n       <use xlink:href=\"#mbf27fa747e\" x=\"338.91848\" y=\"410.398125\" style=\"stroke: #000000; stroke-width: 0.8\"/>\n      </g>\n     </g>\n     <g id=\"text_50\">\n      <!-- 40 -->\n      <g transform=\"translate(332.55598 424.996562) scale(0.1 -0.1)\">\n       <use xlink:href=\"#DejaVuSans-34\"/>\n       <use xlink:href=\"#DejaVuSans-30\" x=\"63.623047\"/>\n      </g>\n     </g>\n    </g>\n    <g id=\"xtick_23\">\n     <g id=\"line2d_47\">\n      <g>\n       <use xlink:href=\"#mbf27fa747e\" x=\"379.151611\" y=\"410.398125\" style=\"stroke: #000000; stroke-width: 0.8\"/>\n      </g>\n     </g>\n     <g id=\"text_51\">\n      <!-- 60 -->\n      <g transform=\"translate(372.789111 424.996562) scale(0.1 -0.1)\">\n       <use xlink:href=\"#DejaVuSans-36\"/>\n       <use xlink:href=\"#DejaVuSans-30\" x=\"63.623047\"/>\n      </g>\n     </g>\n    </g>\n    <g id=\"xtick_24\">\n     <g id=\"line2d_48\">\n      <g>\n       <use xlink:href=\"#mbf27fa747e\" x=\"419.384742\" y=\"410.398125\" style=\"stroke: #000000; stroke-width: 0.8\"/>\n      </g>\n     </g>\n     <g id=\"text_52\">\n      <!-- 80 -->\n      <g transform=\"translate(413.022242 424.996562) scale(0.1 -0.1)\">\n       <use xlink:href=\"#DejaVuSans-38\"/>\n       <use xlink:href=\"#DejaVuSans-30\" x=\"63.623047\"/>\n      </g>\n     </g>\n    </g>\n    <g id=\"xtick_25\">\n     <g id=\"line2d_49\">\n      <g>\n       <use xlink:href=\"#mbf27fa747e\" x=\"459.617873\" y=\"410.398125\" style=\"stroke: #000000; stroke-width: 0.8\"/>\n      </g>\n     </g>\n     <g id=\"text_53\">\n      <!-- 100 -->\n      <g transform=\"translate(450.074123 424.996562) scale(0.1 -0.1)\">\n       <use xlink:href=\"#DejaVuSans-31\"/>\n       <use xlink:href=\"#DejaVuSans-30\" x=\"63.623047\"/>\n       <use xlink:href=\"#DejaVuSans-30\" x=\"127.246094\"/>\n      </g>\n     </g>\n    </g>\n   </g>\n   <g id=\"matplotlib.axis_10\">\n    <g id=\"ytick_25\">\n     <g id=\"line2d_50\">\n      <g>\n       <use xlink:href=\"#m107335b3a7\" x=\"269.616912\" y=\"410.398125\" style=\"stroke: #000000; stroke-width: 0.8\"/>\n      </g>\n     </g>\n     <g id=\"text_54\">\n      <!-- 0 -->\n      <g transform=\"translate(256.254412 414.197344) scale(0.1 -0.1)\">\n       <use xlink:href=\"#DejaVuSans-30\"/>\n      </g>\n     </g>\n    </g>\n    <g id=\"ytick_26\">\n     <g id=\"line2d_51\">\n      <g>\n       <use xlink:href=\"#m107335b3a7\" x=\"269.616912\" y=\"377.902961\" style=\"stroke: #000000; stroke-width: 0.8\"/>\n      </g>\n     </g>\n     <g id=\"text_55\">\n      <!-- 100 -->\n      <g transform=\"translate(243.529412 381.702179) scale(0.1 -0.1)\">\n       <use xlink:href=\"#DejaVuSans-31\"/>\n       <use xlink:href=\"#DejaVuSans-30\" x=\"63.623047\"/>\n       <use xlink:href=\"#DejaVuSans-30\" x=\"127.246094\"/>\n      </g>\n     </g>\n    </g>\n    <g id=\"ytick_27\">\n     <g id=\"line2d_52\">\n      <g>\n       <use xlink:href=\"#m107335b3a7\" x=\"269.616912\" y=\"345.407796\" style=\"stroke: #000000; stroke-width: 0.8\"/>\n      </g>\n     </g>\n     <g id=\"text_56\">\n      <!-- 200 -->\n      <g transform=\"translate(243.529412 349.207015) scale(0.1 -0.1)\">\n       <use xlink:href=\"#DejaVuSans-32\"/>\n       <use xlink:href=\"#DejaVuSans-30\" x=\"63.623047\"/>\n       <use xlink:href=\"#DejaVuSans-30\" x=\"127.246094\"/>\n      </g>\n     </g>\n    </g>\n    <g id=\"ytick_28\">\n     <g id=\"line2d_53\">\n      <g>\n       <use xlink:href=\"#m107335b3a7\" x=\"269.616912\" y=\"312.912632\" style=\"stroke: #000000; stroke-width: 0.8\"/>\n      </g>\n     </g>\n     <g id=\"text_57\">\n      <!-- 300 -->\n      <g transform=\"translate(243.529412 316.711851) scale(0.1 -0.1)\">\n       <use xlink:href=\"#DejaVuSans-33\"/>\n       <use xlink:href=\"#DejaVuSans-30\" x=\"63.623047\"/>\n       <use xlink:href=\"#DejaVuSans-30\" x=\"127.246094\"/>\n      </g>\n     </g>\n    </g>\n    <g id=\"ytick_29\">\n     <g id=\"line2d_54\">\n      <g>\n       <use xlink:href=\"#m107335b3a7\" x=\"269.616912\" y=\"280.417467\" style=\"stroke: #000000; stroke-width: 0.8\"/>\n      </g>\n     </g>\n     <g id=\"text_58\">\n      <!-- 400 -->\n      <g transform=\"translate(243.529412 284.216686) scale(0.1 -0.1)\">\n       <use xlink:href=\"#DejaVuSans-34\"/>\n       <use xlink:href=\"#DejaVuSans-30\" x=\"63.623047\"/>\n       <use xlink:href=\"#DejaVuSans-30\" x=\"127.246094\"/>\n      </g>\n     </g>\n    </g>\n    <g id=\"ytick_30\">\n     <g id=\"line2d_55\">\n      <g>\n       <use xlink:href=\"#m107335b3a7\" x=\"269.616912\" y=\"247.922303\" style=\"stroke: #000000; stroke-width: 0.8\"/>\n      </g>\n     </g>\n     <g id=\"text_59\">\n      <!-- 500 -->\n      <g transform=\"translate(243.529412 251.721522) scale(0.1 -0.1)\">\n       <use xlink:href=\"#DejaVuSans-35\"/>\n       <use xlink:href=\"#DejaVuSans-30\" x=\"63.623047\"/>\n       <use xlink:href=\"#DejaVuSans-30\" x=\"127.246094\"/>\n      </g>\n     </g>\n    </g>\n   </g>\n   <g id=\"patch_73\">\n    <path d=\"M 269.616912 410.398125 \nL 269.616912 233.998125 \n\" style=\"fill: none; stroke: #000000; stroke-width: 0.8; stroke-linejoin: miter; stroke-linecap: square\"/>\n   </g>\n   <g id=\"patch_74\">\n    <path d=\"M 466.558088 410.398125 \nL 466.558088 233.998125 \n\" style=\"fill: none; stroke: #000000; stroke-width: 0.8; stroke-linejoin: miter; stroke-linecap: square\"/>\n   </g>\n   <g id=\"patch_75\">\n    <path d=\"M 269.616912 410.398125 \nL 466.558088 410.398125 \n\" style=\"fill: none; stroke: #000000; stroke-width: 0.8; stroke-linejoin: miter; stroke-linecap: square\"/>\n   </g>\n   <g id=\"patch_76\">\n    <path d=\"M 269.616912 233.998125 \nL 466.558088 233.998125 \n\" style=\"fill: none; stroke: #000000; stroke-width: 0.8; stroke-linejoin: miter; stroke-linecap: square\"/>\n   </g>\n   <g id=\"text_60\">\n    <!-- Algorythmic 2 -->\n    <g transform=\"translate(326.12875 227.998125) scale(0.12 -0.12)\">\n     <use xlink:href=\"#DejaVuSans-41\"/>\n     <use xlink:href=\"#DejaVuSans-6c\" x=\"68.408203\"/>\n     <use xlink:href=\"#DejaVuSans-67\" x=\"96.191406\"/>\n     <use xlink:href=\"#DejaVuSans-6f\" x=\"159.667969\"/>\n     <use xlink:href=\"#DejaVuSans-72\" x=\"220.849609\"/>\n     <use xlink:href=\"#DejaVuSans-79\" x=\"261.962891\"/>\n     <use xlink:href=\"#DejaVuSans-74\" x=\"321.142578\"/>\n     <use xlink:href=\"#DejaVuSans-68\" x=\"360.351562\"/>\n     <use xlink:href=\"#DejaVuSans-6d\" x=\"423.730469\"/>\n     <use xlink:href=\"#DejaVuSans-69\" x=\"521.142578\"/>\n     <use xlink:href=\"#DejaVuSans-63\" x=\"548.925781\"/>\n     <use xlink:href=\"#DejaVuSans-20\" x=\"603.90625\"/>\n     <use xlink:href=\"#DejaVuSans-32\" x=\"635.693359\"/>\n    </g>\n   </g>\n  </g>\n  <g id=\"axes_6\">\n   <g id=\"patch_77\">\n    <path d=\"M 505.946324 410.398125 \nL 702.8875 410.398125 \nL 702.8875 233.998125 \nL 505.946324 233.998125 \nz\n\" style=\"fill: #ffffff\"/>\n   </g>\n   <g id=\"patch_78\">\n    <path d=\"M 514.898195 410.398125 \nL 532.801939 410.398125 \nL 532.801939 250.181909 \nL 514.898195 250.181909 \nz\n\" clip-path=\"url(#p7dffd17da0)\" style=\"fill: #1f77b4\"/>\n   </g>\n   <g id=\"patch_79\">\n    <path d=\"M 532.801939 410.398125 \nL 550.705682 410.398125 \nL 550.705682 242.722449 \nL 532.801939 242.722449 \nz\n\" clip-path=\"url(#p7dffd17da0)\" style=\"fill: #1f77b4\"/>\n   </g>\n   <g id=\"patch_80\">\n    <path d=\"M 550.705682 410.398125 \nL 568.609425 410.398125 \nL 568.609425 246.290017 \nL 550.705682 246.290017 \nz\n\" clip-path=\"url(#p7dffd17da0)\" style=\"fill: #1f77b4\"/>\n   </g>\n   <g id=\"patch_81\">\n    <path d=\"M 568.609425 410.398125 \nL 586.513168 410.398125 \nL 586.513168 253.749476 \nL 568.609425 253.749476 \nz\n\" clip-path=\"url(#p7dffd17da0)\" style=\"fill: #1f77b4\"/>\n   </g>\n   <g id=\"patch_82\">\n    <path d=\"M 586.513168 410.398125 \nL 604.416912 410.398125 \nL 604.416912 245.317044 \nL 586.513168 245.317044 \nz\n\" clip-path=\"url(#p7dffd17da0)\" style=\"fill: #1f77b4\"/>\n   </g>\n   <g id=\"patch_83\">\n    <path d=\"M 604.416912 410.398125 \nL 622.320655 410.398125 \nL 622.320655 242.398125 \nL 604.416912 242.398125 \nz\n\" clip-path=\"url(#p7dffd17da0)\" style=\"fill: #1f77b4\"/>\n   </g>\n   <g id=\"patch_84\">\n    <path d=\"M 622.320655 410.398125 \nL 640.224398 410.398125 \nL 640.224398 249.53326 \nL 622.320655 249.53326 \nz\n\" clip-path=\"url(#p7dffd17da0)\" style=\"fill: #1f77b4\"/>\n   </g>\n   <g id=\"patch_85\">\n    <path d=\"M 640.224398 410.398125 \nL 658.128142 410.398125 \nL 658.128142 252.776503 \nL 640.224398 252.776503 \nz\n\" clip-path=\"url(#p7dffd17da0)\" style=\"fill: #1f77b4\"/>\n   </g>\n   <g id=\"patch_86\">\n    <path d=\"M 658.128142 410.398125 \nL 676.031885 410.398125 \nL 676.031885 247.911639 \nL 658.128142 247.911639 \nz\n\" clip-path=\"url(#p7dffd17da0)\" style=\"fill: #1f77b4\"/>\n   </g>\n   <g id=\"patch_87\">\n    <path d=\"M 676.031885 410.398125 \nL 693.935628 410.398125 \nL 693.935628 251.479206 \nL 676.031885 251.479206 \nz\n\" clip-path=\"url(#p7dffd17da0)\" style=\"fill: #1f77b4\"/>\n   </g>\n   <g id=\"matplotlib.axis_11\">\n    <g id=\"xtick_26\">\n     <g id=\"line2d_56\">\n      <g>\n       <use xlink:href=\"#mbf27fa747e\" x=\"534.813371\" y=\"410.398125\" style=\"stroke: #000000; stroke-width: 0.8\"/>\n      </g>\n     </g>\n     <g id=\"text_61\">\n      <!-- 200 -->\n      <g transform=\"translate(525.269621 424.996562) scale(0.1 -0.1)\">\n       <use xlink:href=\"#DejaVuSans-32\"/>\n       <use xlink:href=\"#DejaVuSans-30\" x=\"63.623047\"/>\n       <use xlink:href=\"#DejaVuSans-30\" x=\"127.246094\"/>\n      </g>\n     </g>\n    </g>\n    <g id=\"xtick_27\">\n     <g id=\"line2d_57\">\n      <g>\n       <use xlink:href=\"#mbf27fa747e\" x=\"574.643723\" y=\"410.398125\" style=\"stroke: #000000; stroke-width: 0.8\"/>\n      </g>\n     </g>\n     <g id=\"text_62\">\n      <!-- 400 -->\n      <g transform=\"translate(565.099973 424.996562) scale(0.1 -0.1)\">\n       <use xlink:href=\"#DejaVuSans-34\"/>\n       <use xlink:href=\"#DejaVuSans-30\" x=\"63.623047\"/>\n       <use xlink:href=\"#DejaVuSans-30\" x=\"127.246094\"/>\n      </g>\n     </g>\n    </g>\n    <g id=\"xtick_28\">\n     <g id=\"line2d_58\">\n      <g>\n       <use xlink:href=\"#mbf27fa747e\" x=\"614.474076\" y=\"410.398125\" style=\"stroke: #000000; stroke-width: 0.8\"/>\n      </g>\n     </g>\n     <g id=\"text_63\">\n      <!-- 600 -->\n      <g transform=\"translate(604.930326 424.996562) scale(0.1 -0.1)\">\n       <use xlink:href=\"#DejaVuSans-36\"/>\n       <use xlink:href=\"#DejaVuSans-30\" x=\"63.623047\"/>\n       <use xlink:href=\"#DejaVuSans-30\" x=\"127.246094\"/>\n      </g>\n     </g>\n    </g>\n    <g id=\"xtick_29\">\n     <g id=\"line2d_59\">\n      <g>\n       <use xlink:href=\"#mbf27fa747e\" x=\"654.304428\" y=\"410.398125\" style=\"stroke: #000000; stroke-width: 0.8\"/>\n      </g>\n     </g>\n     <g id=\"text_64\">\n      <!-- 800 -->\n      <g transform=\"translate(644.760678 424.996562) scale(0.1 -0.1)\">\n       <use xlink:href=\"#DejaVuSans-38\"/>\n       <use xlink:href=\"#DejaVuSans-30\" x=\"63.623047\"/>\n       <use xlink:href=\"#DejaVuSans-30\" x=\"127.246094\"/>\n      </g>\n     </g>\n    </g>\n    <g id=\"xtick_30\">\n     <g id=\"line2d_60\">\n      <g>\n       <use xlink:href=\"#mbf27fa747e\" x=\"694.13478\" y=\"410.398125\" style=\"stroke: #000000; stroke-width: 0.8\"/>\n      </g>\n     </g>\n     <g id=\"text_65\">\n      <!-- 1000 -->\n      <g transform=\"translate(681.40978 424.996562) scale(0.1 -0.1)\">\n       <use xlink:href=\"#DejaVuSans-31\"/>\n       <use xlink:href=\"#DejaVuSans-30\" x=\"63.623047\"/>\n       <use xlink:href=\"#DejaVuSans-30\" x=\"127.246094\"/>\n       <use xlink:href=\"#DejaVuSans-30\" x=\"190.869141\"/>\n      </g>\n     </g>\n    </g>\n   </g>\n   <g id=\"matplotlib.axis_12\">\n    <g id=\"ytick_31\">\n     <g id=\"line2d_61\">\n      <g>\n       <use xlink:href=\"#m107335b3a7\" x=\"505.946324\" y=\"410.398125\" style=\"stroke: #000000; stroke-width: 0.8\"/>\n      </g>\n     </g>\n     <g id=\"text_66\">\n      <!-- 0 -->\n      <g transform=\"translate(492.583824 414.197344) scale(0.1 -0.1)\">\n       <use xlink:href=\"#DejaVuSans-30\"/>\n      </g>\n     </g>\n    </g>\n    <g id=\"ytick_32\">\n     <g id=\"line2d_62\">\n      <g>\n       <use xlink:href=\"#m107335b3a7\" x=\"505.946324\" y=\"377.965693\" style=\"stroke: #000000; stroke-width: 0.8\"/>\n      </g>\n     </g>\n     <g id=\"text_67\">\n      <!-- 100 -->\n      <g transform=\"translate(479.858824 381.764911) scale(0.1 -0.1)\">\n       <use xlink:href=\"#DejaVuSans-31\"/>\n       <use xlink:href=\"#DejaVuSans-30\" x=\"63.623047\"/>\n       <use xlink:href=\"#DejaVuSans-30\" x=\"127.246094\"/>\n      </g>\n     </g>\n    </g>\n    <g id=\"ytick_33\">\n     <g id=\"line2d_63\">\n      <g>\n       <use xlink:href=\"#m107335b3a7\" x=\"505.946324\" y=\"345.53326\" style=\"stroke: #000000; stroke-width: 0.8\"/>\n      </g>\n     </g>\n     <g id=\"text_68\">\n      <!-- 200 -->\n      <g transform=\"translate(479.858824 349.332479) scale(0.1 -0.1)\">\n       <use xlink:href=\"#DejaVuSans-32\"/>\n       <use xlink:href=\"#DejaVuSans-30\" x=\"63.623047\"/>\n       <use xlink:href=\"#DejaVuSans-30\" x=\"127.246094\"/>\n      </g>\n     </g>\n    </g>\n    <g id=\"ytick_34\">\n     <g id=\"line2d_64\">\n      <g>\n       <use xlink:href=\"#m107335b3a7\" x=\"505.946324\" y=\"313.100828\" style=\"stroke: #000000; stroke-width: 0.8\"/>\n      </g>\n     </g>\n     <g id=\"text_69\">\n      <!-- 300 -->\n      <g transform=\"translate(479.858824 316.900046) scale(0.1 -0.1)\">\n       <use xlink:href=\"#DejaVuSans-33\"/>\n       <use xlink:href=\"#DejaVuSans-30\" x=\"63.623047\"/>\n       <use xlink:href=\"#DejaVuSans-30\" x=\"127.246094\"/>\n      </g>\n     </g>\n    </g>\n    <g id=\"ytick_35\">\n     <g id=\"line2d_65\">\n      <g>\n       <use xlink:href=\"#m107335b3a7\" x=\"505.946324\" y=\"280.668395\" style=\"stroke: #000000; stroke-width: 0.8\"/>\n      </g>\n     </g>\n     <g id=\"text_70\">\n      <!-- 400 -->\n      <g transform=\"translate(479.858824 284.467614) scale(0.1 -0.1)\">\n       <use xlink:href=\"#DejaVuSans-34\"/>\n       <use xlink:href=\"#DejaVuSans-30\" x=\"63.623047\"/>\n       <use xlink:href=\"#DejaVuSans-30\" x=\"127.246094\"/>\n      </g>\n     </g>\n    </g>\n    <g id=\"ytick_36\">\n     <g id=\"line2d_66\">\n      <g>\n       <use xlink:href=\"#m107335b3a7\" x=\"505.946324\" y=\"248.235963\" style=\"stroke: #000000; stroke-width: 0.8\"/>\n      </g>\n     </g>\n     <g id=\"text_71\">\n      <!-- 500 -->\n      <g transform=\"translate(479.858824 252.035182) scale(0.1 -0.1)\">\n       <use xlink:href=\"#DejaVuSans-35\"/>\n       <use xlink:href=\"#DejaVuSans-30\" x=\"63.623047\"/>\n       <use xlink:href=\"#DejaVuSans-30\" x=\"127.246094\"/>\n      </g>\n     </g>\n    </g>\n   </g>\n   <g id=\"patch_88\">\n    <path d=\"M 505.946324 410.398125 \nL 505.946324 233.998125 \n\" style=\"fill: none; stroke: #000000; stroke-width: 0.8; stroke-linejoin: miter; stroke-linecap: square\"/>\n   </g>\n   <g id=\"patch_89\">\n    <path d=\"M 702.8875 410.398125 \nL 702.8875 233.998125 \n\" style=\"fill: none; stroke: #000000; stroke-width: 0.8; stroke-linejoin: miter; stroke-linecap: square\"/>\n   </g>\n   <g id=\"patch_90\">\n    <path d=\"M 505.946324 410.398125 \nL 702.8875 410.398125 \n\" style=\"fill: none; stroke: #000000; stroke-width: 0.8; stroke-linejoin: miter; stroke-linecap: square\"/>\n   </g>\n   <g id=\"patch_91\">\n    <path d=\"M 505.946324 233.998125 \nL 702.8875 233.998125 \n\" style=\"fill: none; stroke: #000000; stroke-width: 0.8; stroke-linejoin: miter; stroke-linecap: square\"/>\n   </g>\n   <g id=\"text_72\">\n    <!-- Algorythmic 3 -->\n    <g transform=\"translate(562.458162 227.998125) scale(0.12 -0.12)\">\n     <use xlink:href=\"#DejaVuSans-41\"/>\n     <use xlink:href=\"#DejaVuSans-6c\" x=\"68.408203\"/>\n     <use xlink:href=\"#DejaVuSans-67\" x=\"96.191406\"/>\n     <use xlink:href=\"#DejaVuSans-6f\" x=\"159.667969\"/>\n     <use xlink:href=\"#DejaVuSans-72\" x=\"220.849609\"/>\n     <use xlink:href=\"#DejaVuSans-79\" x=\"261.962891\"/>\n     <use xlink:href=\"#DejaVuSans-74\" x=\"321.142578\"/>\n     <use xlink:href=\"#DejaVuSans-68\" x=\"360.351562\"/>\n     <use xlink:href=\"#DejaVuSans-6d\" x=\"423.730469\"/>\n     <use xlink:href=\"#DejaVuSans-69\" x=\"521.142578\"/>\n     <use xlink:href=\"#DejaVuSans-63\" x=\"548.925781\"/>\n     <use xlink:href=\"#DejaVuSans-20\" x=\"603.90625\"/>\n     <use xlink:href=\"#DejaVuSans-33\" x=\"635.693359\"/>\n    </g>\n   </g>\n  </g>\n </g>\n <defs>\n  <clipPath id=\"p53907904f5\">\n   <rect x=\"33.2875\" y=\"22.318125\" width=\"196.941176\" height=\"176.4\"/>\n  </clipPath>\n  <clipPath id=\"pe45b82b6de\">\n   <rect x=\"269.616912\" y=\"22.318125\" width=\"196.941176\" height=\"176.4\"/>\n  </clipPath>\n  <clipPath id=\"pe846b1a2a0\">\n   <rect x=\"505.946324\" y=\"22.318125\" width=\"196.941176\" height=\"176.4\"/>\n  </clipPath>\n  <clipPath id=\"pefefcf5c2b\">\n   <rect x=\"33.2875\" y=\"233.998125\" width=\"196.941176\" height=\"176.4\"/>\n  </clipPath>\n  <clipPath id=\"pf687e9301c\">\n   <rect x=\"269.616912\" y=\"233.998125\" width=\"196.941176\" height=\"176.4\"/>\n  </clipPath>\n  <clipPath id=\"p7dffd17da0\">\n   <rect x=\"505.946324\" y=\"233.998125\" width=\"196.941176\" height=\"176.4\"/>\n  </clipPath>\n </defs>\n</svg>\n",
      "text/plain": [
       "<Figure size 1200x700 with 6 Axes>"
      ]
     },
     "metadata": {},
     "output_type": "display_data"
    }
   ],
   "source": [
    "fig, axis = plt.subplots(2, 3, figsize=(12,7))\n",
    "\n",
    "for i in range(len(tbl)):    \n",
    "    axis[0][i].set_title(f\"Table {i+1}\")\n",
    "    axis[0][i].hist(tbl[i])\n",
    "\n",
    "for i in range(len(alg)):    \n",
    "    axis[1][i].set_title(f\"Algorythmic {i+1}\")\n",
    "    axis[1][i].hist(alg[i])\n",
    "\n",
    "plt.show()"
   ]
  },
  {
   "cell_type": "code",
   "execution_count": null,
   "id": "6f1e103a",
   "metadata": {},
   "outputs": [],
   "source": []
  }
 ],
 "metadata": {
  "kernelspec": {
   "display_name": "Python 3 (ipykernel)",
   "language": "python",
   "name": "python3"
  },
  "language_info": {
   "codemirror_mode": {
    "name": "ipython",
    "version": 3
   },
   "file_extension": ".py",
   "mimetype": "text/x-python",
   "name": "python",
   "nbconvert_exporter": "python",
   "pygments_lexer": "ipython3",
   "version": "3.9.13"
  }
 },
 "nbformat": 4,
 "nbformat_minor": 5
}
