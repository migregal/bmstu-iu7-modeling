{
 "cells": [
  {
   "cell_type": "code",
   "execution_count": 1,
   "id": "2e12397f",
   "metadata": {},
   "outputs": [],
   "source": [
    "import random\n",
    "import time\n",
    "random.seed(time.time())"
   ]
  },
  {
   "cell_type": "code",
   "execution_count": 2,
   "id": "093baa17",
   "metadata": {},
   "outputs": [],
   "source": [
    "import matplotlib.pyplot as plt\n",
    "import scipy.integrate as integrate\n",
    "import numpy as np\n",
    "import pandas as pd\n",
    "import networkx as nx"
   ]
  },
  {
   "cell_type": "code",
   "execution_count": 3,
   "id": "d32b7410",
   "metadata": {},
   "outputs": [],
   "source": [
    "%matplotlib inline\n",
    "# import matplotlib_inline\n",
    "# matplotlib_inline.backend_inline.set_matplotlib_formats('svg')"
   ]
  },
  {
   "cell_type": "code",
   "execution_count": 4,
   "id": "9ec78160",
   "metadata": {},
   "outputs": [],
   "source": [
    "import ipywidgets as widgets"
   ]
  },
  {
   "cell_type": "markdown",
   "id": "ab1f23b1",
   "metadata": {},
   "source": [
    "### Matrix input"
   ]
  },
  {
   "cell_type": "code",
   "execution_count": 5,
   "id": "33a0a80c",
   "metadata": {},
   "outputs": [
    {
     "data": {
      "application/vnd.jupyter.widget-view+json": {
       "model_id": "1cfcde7e60d54e868bb79ddb225ad3c4",
       "version_major": 2,
       "version_minor": 0
      },
      "text/plain": [
       "Label(value='Количество состояний в системе')"
      ]
     },
     "metadata": {},
     "output_type": "display_data"
    },
    {
     "data": {
      "application/vnd.jupyter.widget-view+json": {
       "model_id": "341b275d37254395813bacd5d6e80b57",
       "version_major": 2,
       "version_minor": 0
      },
      "text/plain": [
       "BoundedIntText(value=0, layout=Layout(width='50px'))"
      ]
     },
     "metadata": {},
     "output_type": "display_data"
    },
    {
     "data": {
      "application/vnd.jupyter.widget-view+json": {
       "model_id": "7bc72e21bfbc446babd43f9cc9c7b8f9",
       "version_major": 2,
       "version_minor": 0
      },
      "text/plain": [
       "Checkbox(value=False, description='Случайное заполнение', indent=False)"
      ]
     },
     "metadata": {},
     "output_type": "display_data"
    }
   ],
   "source": [
    "states_number_input = widgets.BoundedIntText(value=0, min=0, max=100, step=1,\n",
    "                                             layout=widgets.Layout(width=\"50px\"))\n",
    "\n",
    "randomize_input = widgets.Checkbox(value=False, description='Случайное заполнение', indent=False)\n",
    "\n",
    "display(widgets.Label(\"Количество состояний в системе\"))\n",
    "display(states_number_input)\n",
    "display(randomize_input)"
   ]
  },
  {
   "cell_type": "code",
   "execution_count": 6,
   "id": "886f1cf0",
   "metadata": {},
   "outputs": [
    {
     "data": {
      "application/vnd.jupyter.widget-view+json": {
       "model_id": "10871da1ddae451595e540c295af6435",
       "version_major": 2,
       "version_minor": 0
      },
      "text/plain": [
       "Label(value='Таблица вероятностей перехода')"
      ]
     },
     "metadata": {},
     "output_type": "display_data"
    },
    {
     "data": {
      "application/vnd.jupyter.widget-view+json": {
       "model_id": "1095b9260d1f492c80a4f2fb7ce72292",
       "version_major": 2,
       "version_minor": 0
      },
      "text/plain": [
       "GridBox(children=(Label(value='Состояния'), Label(value='$\\\\text{в }S_{1}$'), Label(value='$\\\\text{в }S_{2}$')…"
      ]
     },
     "metadata": {},
     "output_type": "display_data"
    }
   ],
   "source": [
    "states_n = states_number_input.value\n",
    "\n",
    "matrix_inputs = []\n",
    "items = []\n",
    "\n",
    "items += [widgets.Label(\"Состояния\")]\n",
    "items += [widgets.Label(f\"$\\\\text{{в }}S_{{{i+1}}}$\") for i in range(states_n)]\n",
    "\n",
    "for i in range(states_n):\n",
    "    items += [widgets.Label(f\"$\\\\text{{из }}S_{{{i+1}}}$\")]\n",
    "    \n",
    "    inputs = [\n",
    "        widgets.BoundedFloatText(value=0 if not randomize_input.value else round(random.random(), 2), min=0, max=10, step=0.01,\n",
    "                                 layout=widgets.Layout(width=\"50px\"))\n",
    "        for _ in range(states_n)\n",
    "    ]\n",
    "    matrix_inputs += [inputs]\n",
    "    items += inputs\n",
    "\n",
    "display(widgets.Label(\"Таблица вероятностей перехода\"))\n",
    "display(widgets.GridBox(items, layout=widgets.Layout(grid_template_columns=f\"repeat({states_n + 1}, 1fr)\", overflow=\"auto\")))"
   ]
  },
  {
   "cell_type": "code",
   "execution_count": 7,
   "id": "9d3411ef",
   "metadata": {},
   "outputs": [],
   "source": [
    "def get_matrix():\n",
    "    return np.array([[float(matrix_inputs[i][j].value) for j in range(states_n)] \n",
    "             for i in range(states_n)])"
   ]
  },
  {
   "cell_type": "markdown",
   "id": "9f43f601",
   "metadata": {},
   "source": [
    "### Graph"
   ]
  },
  {
   "cell_type": "code",
   "execution_count": 8,
   "id": "a3c28283",
   "metadata": {},
   "outputs": [
    {
     "data": {
      "image/png": "[encoded data removed]",
      "text/plain": [
       "<Figure size 640x480 with 1 Axes>"
      ]
     },
     "metadata": {},
     "output_type": "display_data"
    }
   ],
   "source": [
    "def draw_graph(matrix) -> None:\n",
    "    G = nx.from_numpy_matrix(matrix, create_using=nx.DiGraph)\n",
    "    layout = nx.circular_layout(G)\n",
    "\n",
    "    nx.draw(G, layout, node_size=600)\n",
    "    nx.draw_networkx_labels(\n",
    "        G,\n",
    "        pos=layout,\n",
    "        labels={i: f\"$S_{i+1}$\" for i in range(len(matrix))},\n",
    "        font_color=\"yellow\",\n",
    "        font_size=12,\n",
    "    )\n",
    "    nx.draw_networkx_edge_labels(\n",
    "        G, pos=layout, edge_labels=nx.get_edge_attributes(G, \"weight\"), label_pos=0.2\n",
    "    )\n",
    "    plt.show()\n",
    "    \n",
    "draw_graph(get_matrix())"
   ]
  },
  {
   "cell_type": "markdown",
   "id": "ef9576e2",
   "metadata": {},
   "source": [
    "### Solution"
   ]
  },
  {
   "cell_type": "code",
   "execution_count": 9,
   "id": "6911aaa0",
   "metadata": {},
   "outputs": [
    {
     "data": {
      "application/vnd.jupyter.widget-view+json": {
       "model_id": "10fb90f04b5e43aaa1ab0ae2aa8d4840",
       "version_major": 2,
       "version_minor": 0
      },
      "text/plain": [
       "Label(value='Время моделирования')"
      ]
     },
     "metadata": {},
     "output_type": "display_data"
    },
    {
     "data": {
      "application/vnd.jupyter.widget-view+json": {
       "model_id": "a62b9482998248b9b2aa5a78d4ebab83",
       "version_major": 2,
       "version_minor": 0
      },
      "text/plain": [
       "BoundedFloatText(value=0.0, description='Tmax', max=1000.0, step=1.0)"
      ]
     },
     "metadata": {},
     "output_type": "display_data"
    },
    {
     "data": {
      "application/vnd.jupyter.widget-view+json": {
       "model_id": "42d1217ce00441d4ae003d8ae4a94e4c",
       "version_major": 2,
       "version_minor": 0
      },
      "text/plain": [
       "BoundedIntText(value=0, description='N', max=100000)"
      ]
     },
     "metadata": {},
     "output_type": "display_data"
    }
   ],
   "source": [
    "t_max_input = widgets.BoundedFloatText(value=0, min=0, max=1000, step=1, description=\"Tmax\")\n",
    "t_n_input = widgets.BoundedIntText(value=0, min=0, max=10e4, step=1, description=\"N\")\n",
    "\n",
    "display(widgets.Label(\"Время моделирования\"))\n",
    "display(t_max_input)\n",
    "display(t_n_input)"
   ]
  },
  {
   "cell_type": "code",
   "execution_count": 10,
   "id": "501e7941",
   "metadata": {},
   "outputs": [],
   "source": [
    "def find_steady_ps(matrix: np.ndarray) -> np.ndarray:\n",
    "    b = np.array([0] * (len(matrix) - 1) + [1])\n",
    "\n",
    "    matrix_to_solve = matrix.copy().transpose()\n",
    "    matrix_to_solve -= np.diag(matrix.sum(axis=1))\n",
    "    matrix_to_solve[-1] = np.ones(len(matrix_to_solve))\n",
    "\n",
    "    return np.linalg.solve(matrix_to_solve, b)"
   ]
  },
  {
   "cell_type": "code",
   "execution_count": 11,
   "id": "57f9d23b",
   "metadata": {},
   "outputs": [],
   "source": [
    "def find_steady_ts(\n",
    "    ts: np.ndarray, ps: np.ndarray, steady_ps: np.ndarray, eps: float = 1e-6\n",
    ") -> np.ndarray:\n",
    "    steady_ts = np.zeros(len(steady_ps))\n",
    "\n",
    "    for i, row in enumerate(ps):\n",
    "        for p, t in reversed(list(zip(row, ts))):\n",
    "            if abs(steady_ps[i] - p) > eps:\n",
    "                steady_ts[i] = t\n",
    "                break\n",
    "\n",
    "    return steady_ts"
   ]
  },
  {
   "cell_type": "code",
   "execution_count": 12,
   "id": "01d964b4",
   "metadata": {},
   "outputs": [],
   "source": [
    "def solve_ode(matrix: np.ndarray, start_probs: np.ndarray, tn: int, tmax: int):\n",
    "    matrix_to_solve = matrix.copy().transpose()\n",
    "    matrix_to_solve -= np.diag(matrix.sum(axis=1))\n",
    "\n",
    "    ts = np.linspace(0, tmax, tn)\n",
    "\n",
    "    ps = integrate.odeint(\n",
    "        lambda w, _: matrix_to_solve @ w, start_probs, ts, atol=1.0e-8, rtol=1.0e-6\n",
    "    ).transpose()\n",
    "    return ts, ps"
   ]
  },
  {
   "cell_type": "markdown",
   "id": "7213cee3",
   "metadata": {},
   "source": [
    "### Plot"
   ]
  },
  {
   "cell_type": "code",
   "execution_count": 13,
   "id": "ede74f11",
   "metadata": {},
   "outputs": [
    {
     "data": {
      "image/png": "[encoded data removed]",
      "text/plain": [
       "<Figure size 640x480 with 1 Axes>"
      ]
     },
     "metadata": {},
     "output_type": "display_data"
    }
   ],
   "source": [
    "def draw_plot(ts: np.ndarray, ps: np.ndarray) -> None:\n",
    "    for i, p in enumerate(ps):\n",
    "        plt.plot(ts, p, label=f\"$P_{{{i}}}$\")\n",
    "    plt.legend()\n",
    "    plt.show()\n",
    "    \n",
    "tn = t_n_input.value\n",
    "tmax = t_max_input.value\n",
    "\n",
    "m = get_matrix()\n",
    "ts, ps = solve_ode(m, m[0].copy(), tn, tmax)\n",
    "\n",
    "draw_plot(ts, ps)"
   ]
  },
  {
   "cell_type": "markdown",
   "id": "81702348",
   "metadata": {},
   "source": [
    "### Math"
   ]
  },
  {
   "cell_type": "code",
   "execution_count": 14,
   "id": "5009cb1b",
   "metadata": {},
   "outputs": [
    {
     "data": {
      "text/html": [
       "<style type=\"text/css\">\n",
       "</style>\n",
       "<table id=\"T_362d8\">\n",
       "  <thead>\n",
       "    <tr>\n",
       "      <th class=\"blank level0\" >&nbsp;</th>\n",
       "      <th id=\"T_362d8_level0_col0\" class=\"col_heading level0 col0\" >$S_{1}$</th>\n",
       "      <th id=\"T_362d8_level0_col1\" class=\"col_heading level0 col1\" >$S_{2}$</th>\n",
       "      <th id=\"T_362d8_level0_col2\" class=\"col_heading level0 col2\" >$S_{3}$</th>\n",
       "      <th id=\"T_362d8_level0_col3\" class=\"col_heading level0 col3\" >$S_{4}$</th>\n",
       "    </tr>\n",
       "  </thead>\n",
       "  <tbody>\n",
       "    <tr>\n",
       "      <th id=\"T_362d8_level0_row0\" class=\"row_heading level0 row0\" >Вероятностная константа</th>\n",
       "      <td id=\"T_362d8_row0_col0\" class=\"data row0 col0\" >0.435</td>\n",
       "      <td id=\"T_362d8_row0_col1\" class=\"data row0 col1\" >0.109</td>\n",
       "      <td id=\"T_362d8_row0_col2\" class=\"data row0 col2\" >0.152</td>\n",
       "      <td id=\"T_362d8_row0_col3\" class=\"data row0 col3\" >0.304</td>\n",
       "    </tr>\n",
       "    <tr>\n",
       "      <th id=\"T_362d8_level0_row1\" class=\"row_heading level0 row1\" >Время достижения вероятностной константы</th>\n",
       "      <td id=\"T_362d8_row1_col0\" class=\"data row1 col0\" >7.520</td>\n",
       "      <td id=\"T_362d8_row1_col1\" class=\"data row1 col1\" >6.499</td>\n",
       "      <td id=\"T_362d8_row1_col2\" class=\"data row1 col2\" >5.840</td>\n",
       "      <td id=\"T_362d8_row1_col3\" class=\"data row1 col3\" >7.357</td>\n",
       "    </tr>\n",
       "  </tbody>\n",
       "</table>\n"
      ],
      "text/plain": [
       "<pandas.io.formats.style.Styler at 0x12dc19e80>"
      ]
     },
     "execution_count": 14,
     "metadata": {},
     "output_type": "execute_result"
    }
   ],
   "source": [
    "steady_ps = find_steady_ps(get_matrix())\n",
    "steady_ts = find_steady_ts(ts, ps, steady_ps)\n",
    "\n",
    "df = pd.DataFrame.from_dict(\n",
    "    {\n",
    "        \"Вероятностная константа\": steady_ps,\n",
    "        \"Время достижения вероятностной константы\": steady_ts,\n",
    "    },\n",
    "    orient=\"index\",\n",
    "    columns=[f\"$S_{{{i+1}}}$\" for i in range(len(m))],\n",
    ")\n",
    "df.style.format(\"{:.3f}\")"
   ]
  },
  {
   "cell_type": "code",
   "execution_count": null,
   "id": "c81d19e6",
   "metadata": {},
   "outputs": [],
   "source": []
  }
 ],
 "metadata": {
  "kernelspec": {
   "display_name": "Python 3 (ipykernel)",
   "language": "python",
   "name": "python3"
  },
  "language_info": {
   "codemirror_mode": {
    "name": "ipython",
    "version": 3
   },
   "file_extension": ".py",
   "mimetype": "text/x-python",
   "name": "python",
   "nbconvert_exporter": "python",
   "pygments_lexer": "ipython3",
   "version": "3.9.13"
  }
 },
 "nbformat": 4,
 "nbformat_minor": 5
}
