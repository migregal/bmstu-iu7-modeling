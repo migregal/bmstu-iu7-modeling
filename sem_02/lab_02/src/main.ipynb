{
 "cells": [
  {
   "cell_type": "code",
   "execution_count": 36,
   "id": "2e12397f",
   "metadata": {},
   "outputs": [],
   "source": [
    "import random\n",
    "import time\n",
    "random.seed(time.time())"
   ]
  },
  {
   "cell_type": "code",
   "execution_count": null,
   "id": "093baa17",
   "metadata": {},
   "outputs": [],
   "source": [
    "import matplotlib.pyplot as plt\n",
    "import scipy.integrate as integrate\n",
    "import numpy as np\n",
    "import pandas as pd\n",
    "import networkx as nx"
   ]
  },
  {
   "cell_type": "code",
   "execution_count": 11,
   "id": "d32b7410",
   "metadata": {},
   "outputs": [],
   "source": [
    "%matplotlib inline\n",
    "import matplotlib_inline\n",
    "matplotlib_inline.backend_inline.set_matplotlib_formats('svg')"
   ]
  },
  {
   "cell_type": "code",
   "execution_count": null,
   "id": "9ec78160",
   "metadata": {},
   "outputs": [],
   "source": [
    "import ipywidgets as widgets"
   ]
  },
  {
   "cell_type": "markdown",
   "id": "ab1f23b1",
   "metadata": {},
   "source": [
    "### Matrix input"
   ]
  },
  {
   "cell_type": "code",
   "execution_count": 12,
   "id": "33a0a80c",
   "metadata": {},
   "outputs": [
    {
     "data": {
      "application/vnd.jupyter.widget-view+json": {
       "model_id": "8764e914d6fc4cf5b2f91f067502d3b6",
       "version_major": 2,
       "version_minor": 0
      },
      "text/plain": [
       "Label(value='Количество состояний в системе')"
      ]
     },
     "metadata": {},
     "output_type": "display_data"
    },
    {
     "data": {
      "application/vnd.jupyter.widget-view+json": {
       "model_id": "6c4e4710c7d5467e941f1c2b89cac592",
       "version_major": 2,
       "version_minor": 0
      },
      "text/plain": [
       "BoundedIntText(value=0, layout=Layout(width='50px'))"
      ]
     },
     "metadata": {},
     "output_type": "display_data"
    },
    {
     "data": {
      "application/vnd.jupyter.widget-view+json": {
       "model_id": "442efb15a73346d7b6b002555287a606",
       "version_major": 2,
       "version_minor": 0
      },
      "text/plain": [
       "Checkbox(value=False, description='Случайное заполнение', indent=False)"
      ]
     },
     "metadata": {},
     "output_type": "display_data"
    }
   ],
   "source": [
    "states_number_input = widgets.BoundedIntText(value=0, min=0, max=100, step=1,\n",
    "                                             layout=widgets.Layout(width=\"50px\"))\n",
    "\n",
    "randomize_input = widgets.Checkbox(value=False, description='Случайное заполнение', indent=False)\n",
    "\n",
    "display(widgets.Label(\"Количество состояний в системе\"))\n",
    "display(states_number_input)\n",
    "display(randomize_input)"
   ]
  },
  {
   "cell_type": "code",
   "execution_count": 94,
   "id": "886f1cf0",
   "metadata": {},
   "outputs": [
    {
     "data": {
      "application/vnd.jupyter.widget-view+json": {
       "model_id": "98d08b2af6f744c5a25d0616a299ed31",
       "version_major": 2,
       "version_minor": 0
      },
      "text/plain": [
       "Label(value='Таблица вероятностей перехода')"
      ]
     },
     "metadata": {},
     "output_type": "display_data"
    },
    {
     "data": {
      "application/vnd.jupyter.widget-view+json": {
       "model_id": "0fa10f063fa64f6cbccb19a562264671",
       "version_major": 2,
       "version_minor": 0
      },
      "text/plain": [
       "GridBox(children=(Label(value='Состояния'), Label(value='$\\\\text{в }S_{1}$'), Label(value='$\\\\text{в }S_{2}$')…"
      ]
     },
     "metadata": {},
     "output_type": "display_data"
    }
   ],
   "source": [
    "states_n = states_number_input.value\n",
    "\n",
    "matrix_inputs = []\n",
    "items = []\n",
    "\n",
    "items += [widgets.Label(\"Состояния\")]\n",
    "items += [widgets.Label(f\"$\\\\text{{в }}S_{{{i+1}}}$\") for i in range(states_n)]\n",
    "\n",
    "for i in range(states_n):\n",
    "    items += [widgets.Label(f\"$\\\\text{{из }}S_{{{i+1}}}$\")]\n",
    "    \n",
    "    inputs = [\n",
    "        widgets.BoundedFloatText(value=0 if not randomize_input.value else round(random.random(), 2), min=0, max=10, step=0.01,\n",
    "                                 layout=widgets.Layout(width=\"50px\"))\n",
    "        for _ in range(states_n)\n",
    "    ]\n",
    "    matrix_inputs += [inputs]\n",
    "    items += inputs\n",
    "\n",
    "display(widgets.Label(\"Таблица вероятностей перехода\"))\n",
    "display(widgets.GridBox(items, layout=widgets.Layout(grid_template_columns=f\"repeat({states_n + 1}, 1fr)\", overflow=\"auto\")))"
   ]
  },
  {
   "cell_type": "code",
   "execution_count": 99,
   "id": "9d3411ef",
   "metadata": {},
   "outputs": [],
   "source": [
    "def get_matrix():\n",
    "    return np.array([[float(matrix_inputs[i][j].value) for j in range(states_n)] \n",
    "             for i in range(states_n)])"
   ]
  },
  {
   "cell_type": "markdown",
   "id": "9f43f601",
   "metadata": {},
   "source": [
    "### Graph"
   ]
  },
  {
   "cell_type": "code",
   "execution_count": 100,
   "id": "a3c28283",
   "metadata": {},
   "outputs": [
    {
     "data": {
      "image/svg+xml": "<?xml version=\"1.0\" encoding=\"utf-8\" standalone=\"no\"?>\n<!DOCTYPE svg PUBLIC \"-//W3C//DTD SVG 1.1//EN\"\n  \"http://www.w3.org/Graphics/SVG/1.1/DTD/svg11.dtd\">\n<svg xmlns:xlink=\"http://www.w3.org/1999/xlink\" width=\"475.2pt\" height=\"360pt\" viewBox=\"0 0 475.2 360\" xmlns=\"http://www.w3.org/2000/svg\" version=\"1.1\">\n <metadata>\n  <rdf:RDF xmlns:dc=\"http://purl.org/dc/elements/1.1/\" xmlns:cc=\"http://creativecommons.org/ns#\" xmlns:rdf=\"http://www.w3.org/1999/02/22-rdf-syntax-ns#\">\n   <cc:Work>\n    <dc:type rdf:resource=\"http://purl.org/dc/dcmitype/StillImage\"/>\n    <dc:date>2022-10-29T22:13:08.143568</dc:date>\n    <dc:format>image/svg+xml</dc:format>\n    <dc:creator>\n     <cc:Agent>\n      <dc:title>Matplotlib v3.6.0, https://matplotlib.org/</dc:title>\n     </cc:Agent>\n    </dc:creator>\n   </cc:Work>\n  </rdf:RDF>\n </metadata>\n <defs>\n  <style type=\"text/css\">*{stroke-linejoin: round; stroke-linecap: butt}</style>\n </defs>\n <g id=\"figure_1\">\n  <g id=\"patch_1\">\n   <path d=\"M 0 360 \nL 475.2 360 \nL 475.2 0 \nL 0 0 \nz\n\" style=\"fill: #ffffff\"/>\n  </g>\n  <g id=\"axes_1\">\n   <g id=\"patch_2\">\n    <path d=\"M 415.766645 180 \nQ 237.599931 180.000006 60.55125 180.000012 \n\" clip-path=\"url(#pf21365ceec)\" style=\"fill: none; stroke: #000000; stroke-linecap: round\"/>\n    <path d=\"M 64.55125 182.000012 \nL 60.55125 180.000012 \nL 64.55125 178.000012 \nL 64.55125 182.000012 \nz\n\" clip-path=\"url(#pf21365ceec)\" style=\"stroke: #000000; stroke-linecap: round\"/>\n   </g>\n   <g id=\"patch_3\">\n    <path d=\"M 247.40016 44.540209 \nQ 332.808014 108.596096 417.321441 171.981164 \n\" clip-path=\"url(#pf21365ceec)\" style=\"fill: none; stroke: #000000; stroke-linecap: round\"/>\n    <path d=\"M 415.321441 167.981164 \nL 417.321441 171.981164 \nL 412.921441 171.181164 \nL 415.321441 167.981164 \nz\n\" clip-path=\"url(#pf21365ceec)\" style=\"stroke: #000000; stroke-linecap: round\"/>\n   </g>\n   <g id=\"patch_4\">\n    <path d=\"M 227.799824 44.540209 \nQ 142.391977 108.596103 57.878558 171.981176 \n\" clip-path=\"url(#pf21365ceec)\" style=\"fill: none; stroke: #000000; stroke-linecap: round\"/>\n    <path d=\"M 62.278558 171.181175 \nL 57.878558 171.981176 \nL 59.878558 167.981176 \nL 62.278558 171.181175 \nz\n\" clip-path=\"url(#pf21365ceec)\" style=\"stroke: #000000; stroke-linecap: round\"/>\n   </g>\n   <g id=\"patch_5\">\n    <path d=\"M 56.986944 172.649886 \nQ 142.394791 108.593992 226.908211 45.208919 \n\" clip-path=\"url(#pf21365ceec)\" style=\"fill: none; stroke: #000000; stroke-linecap: round\"/>\n    <path d=\"M 222.508211 46.00892 \nL 226.908211 45.208919 \nL 224.908211 49.20892 \nL 222.508211 46.00892 \nz\n\" clip-path=\"url(#pf21365ceec)\" style=\"stroke: #000000; stroke-linecap: round\"/>\n   </g>\n   <g id=\"patch_6\">\n    <path d=\"M 56.986945 187.350138 \nQ 142.394796 251.40602 226.908221 314.791082 \n\" clip-path=\"url(#pf21365ceec)\" style=\"fill: none; stroke: #000000; stroke-linecap: round\"/>\n    <path d=\"M 224.90822 310.791082 \nL 226.908221 314.791082 \nL 222.508221 313.991082 \nL 224.90822 310.791082 \nz\n\" clip-path=\"url(#pf21365ceec)\" style=\"stroke: #000000; stroke-linecap: round\"/>\n   </g>\n   <g id=\"patch_7\">\n    <path d=\"M 237.600002 310.558981 \nQ 237.599997 180.000054 237.599992 50.559161 \n\" clip-path=\"url(#pf21365ceec)\" style=\"fill: none; stroke: #000000; stroke-linecap: round\"/>\n    <path d=\"M 235.599992 54.559161 \nL 237.599992 50.559161 \nL 239.599992 54.559161 \nL 235.599992 54.559161 \nz\n\" clip-path=\"url(#pf21365ceec)\" style=\"stroke: #000000; stroke-linecap: round\"/>\n   </g>\n   <g id=\"patch_8\">\n    <path d=\"M 227.799834 315.459792 \nQ 142.391983 251.40391 57.878559 188.018848 \n\" clip-path=\"url(#pf21365ceec)\" style=\"fill: none; stroke: #000000; stroke-linecap: round\"/>\n    <path d=\"M 59.878559 192.018848 \nL 57.878559 188.018848 \nL 62.278559 188.818848 \nL 59.878559 192.018848 \nz\n\" clip-path=\"url(#pf21365ceec)\" style=\"stroke: #000000; stroke-linecap: round\"/>\n   </g>\n   <g id=\"text_1\">\n    <g id=\"patch_9\">\n     <path d=\"M 115.400504 187.839073 \nL 131.303629 187.839072 \nQ 134.303629 187.839072 134.303629 184.839072 \nL 134.303628 175.160947 \nQ 134.303628 172.160947 131.303628 172.160947 \nL 115.400503 172.160948 \nQ 112.400503 172.160948 112.400503 175.160948 \nL 112.400504 184.839073 \nQ 112.400504 187.839073 115.400504 187.839073 \nz\n\" clip-path=\"url(#pf21365ceec)\" style=\"fill: #ffffff; stroke: #ffffff; stroke-linejoin: miter\"/>\n    </g>\n    <g clip-path=\"url(#pf21365ceec)\">\n     <!-- 1.0 -->\n     <g transform=\"translate(115.400504 182.759385) rotate(-0.000002) scale(0.1 -0.1)\">\n      <defs>\n       <path id=\"DejaVuSans-31\" d=\"M 794 531 \nL 1825 531 \nL 1825 4091 \nL 703 3866 \nL 703 4441 \nL 1819 4666 \nL 2450 4666 \nL 2450 531 \nL 3481 531 \nL 3481 0 \nL 794 0 \nL 794 531 \nz\n\" transform=\"scale(0.015625)\"/>\n       <path id=\"DejaVuSans-2e\" d=\"M 684 794 \nL 1344 794 \nL 1344 0 \nL 684 0 \nL 684 794 \nz\n\" transform=\"scale(0.015625)\"/>\n       <path id=\"DejaVuSans-30\" d=\"M 2034 4250 \nQ 1547 4250 1301 3770 \nQ 1056 3291 1056 2328 \nQ 1056 1369 1301 889 \nQ 1547 409 2034 409 \nQ 2525 409 2770 889 \nQ 3016 1369 3016 2328 \nQ 3016 3291 2770 3770 \nQ 2525 4250 2034 4250 \nz\nM 2034 4750 \nQ 2819 4750 3233 4129 \nQ 3647 3509 3647 2328 \nQ 3647 1150 3233 529 \nQ 2819 -91 2034 -91 \nQ 1250 -91 836 529 \nQ 422 1150 422 2328 \nQ 422 3509 836 4129 \nQ 1250 4750 2034 4750 \nz\n\" transform=\"scale(0.015625)\"/>\n      </defs>\n      <use xlink:href=\"#DejaVuSans-31\"/>\n      <use xlink:href=\"#DejaVuSans-2e\" x=\"63.623047\"/>\n      <use xlink:href=\"#DejaVuSans-30\" x=\"95.410156\"/>\n     </g>\n    </g>\n   </g>\n   <g id=\"text_2\">\n    <g id=\"patch_10\">\n     <path d=\"M 378.865889 152.938329 \nL 391.58839 162.480204 \nQ 393.98839 164.280204 395.78839 161.880204 \nL 401.595264 154.137704 \nQ 403.395264 151.737704 400.995264 149.937704 \nL 388.272764 140.395829 \nQ 385.872764 138.595829 384.072764 140.995829 \nL 378.265889 148.738329 \nQ 376.465889 151.138329 378.865889 152.938329 \nz\n\" clip-path=\"url(#pf21365ceec)\" style=\"fill: #ffffff; stroke: #ffffff; stroke-linejoin: miter\"/>\n    </g>\n    <g clip-path=\"url(#pf21365ceec)\">\n     <!-- 3.0 -->\n     <g transform=\"translate(381.913702 148.874579) rotate(-323.130104) scale(0.1 -0.1)\">\n      <defs>\n       <path id=\"DejaVuSans-33\" d=\"M 2597 2516 \nQ 3050 2419 3304 2112 \nQ 3559 1806 3559 1356 \nQ 3559 666 3084 287 \nQ 2609 -91 1734 -91 \nQ 1441 -91 1130 -33 \nQ 819 25 488 141 \nL 488 750 \nQ 750 597 1062 519 \nQ 1375 441 1716 441 \nQ 2309 441 2620 675 \nQ 2931 909 2931 1356 \nQ 2931 1769 2642 2001 \nQ 2353 2234 1838 2234 \nL 1294 2234 \nL 1294 2753 \nL 1863 2753 \nQ 2328 2753 2575 2939 \nQ 2822 3125 2822 3475 \nQ 2822 3834 2567 4026 \nQ 2313 4219 1838 4219 \nQ 1578 4219 1281 4162 \nQ 984 4106 628 3988 \nL 628 4550 \nQ 988 4650 1302 4700 \nQ 1616 4750 1894 4750 \nQ 2613 4750 3031 4423 \nQ 3450 4097 3450 3541 \nQ 3450 3153 3228 2886 \nQ 3006 2619 2597 2516 \nz\n\" transform=\"scale(0.015625)\"/>\n      </defs>\n      <use xlink:href=\"#DejaVuSans-33\"/>\n      <use xlink:href=\"#DejaVuSans-2e\" x=\"63.623047\"/>\n      <use xlink:href=\"#DejaVuSans-30\" x=\"95.410156\"/>\n     </g>\n    </g>\n   </g>\n   <g id=\"text_3\">\n    <g id=\"patch_11\">\n     <path d=\"M 83.611608 162.480214 \nL 96.334107 152.938338 \nQ 98.734107 151.138338 96.934107 148.738338 \nL 91.127232 140.995839 \nQ 89.327232 138.595839 86.927232 140.395839 \nL 74.204732 149.937715 \nQ 71.804732 151.737715 73.604732 154.137715 \nL 79.411608 161.880214 \nQ 81.211608 164.280214 83.611608 162.480214 \nz\n\" clip-path=\"url(#pf21365ceec)\" style=\"fill: #ffffff; stroke: #ffffff; stroke-linejoin: miter\"/>\n    </g>\n    <g clip-path=\"url(#pf21365ceec)\">\n     <!-- 4.0 -->\n     <g transform=\"translate(80.563795 158.416464) rotate(-36.869901) scale(0.1 -0.1)\">\n      <defs>\n       <path id=\"DejaVuSans-34\" d=\"M 2419 4116 \nL 825 1625 \nL 2419 1625 \nL 2419 4116 \nz\nM 2253 4666 \nL 3047 4666 \nL 3047 1625 \nL 3713 1625 \nL 3713 1100 \nL 3047 1100 \nL 3047 0 \nL 2419 0 \nL 2419 1100 \nL 313 1100 \nL 313 1709 \nL 2253 4666 \nz\n\" transform=\"scale(0.015625)\"/>\n      </defs>\n      <use xlink:href=\"#DejaVuSans-34\"/>\n      <use xlink:href=\"#DejaVuSans-2e\" x=\"63.623047\"/>\n      <use xlink:href=\"#DejaVuSans-30\" x=\"95.410156\"/>\n     </g>\n    </g>\n   </g>\n   <g id=\"text_4\">\n    <g id=\"patch_12\">\n     <path d=\"M 197.859537 76.794256 \nL 210.582036 67.25238 \nQ 212.982036 65.45238 211.182036 63.05238 \nL 205.375161 55.309881 \nQ 203.57516 52.909881 201.175161 54.709881 \nL 188.452661 64.251757 \nQ 186.052661 66.051757 187.852661 68.451757 \nL 193.659537 76.194256 \nQ 195.459537 78.594256 197.859537 76.794256 \nz\n\" clip-path=\"url(#pf21365ceec)\" style=\"fill: #ffffff; stroke: #ffffff; stroke-linejoin: miter\"/>\n    </g>\n    <g clip-path=\"url(#pf21365ceec)\">\n     <!-- 3.0 -->\n     <g transform=\"translate(194.811724 72.730506) rotate(-36.869901) scale(0.1 -0.1)\">\n      <use xlink:href=\"#DejaVuSans-33\"/>\n      <use xlink:href=\"#DejaVuSans-2e\" x=\"63.623047\"/>\n      <use xlink:href=\"#DejaVuSans-30\" x=\"95.410156\"/>\n     </g>\n    </g>\n   </g>\n   <g id=\"text_5\">\n    <g id=\"patch_13\">\n     <path d=\"M 188.45267 295.748249 \nL 201.17517 305.290124 \nQ 203.57517 307.090124 205.37517 304.690124 \nL 211.182045 296.947623 \nQ 212.982045 294.547623 210.582045 292.747623 \nL 197.859544 283.205749 \nQ 195.459544 281.405749 193.659544 283.805749 \nL 187.85267 291.548249 \nQ 186.05267 293.94825 188.45267 295.748249 \nz\n\" clip-path=\"url(#pf21365ceec)\" style=\"fill: #ffffff; stroke: #ffffff; stroke-linejoin: miter\"/>\n    </g>\n    <g clip-path=\"url(#pf21365ceec)\">\n     <!-- 4.0 -->\n     <g transform=\"translate(191.500482 291.684499) rotate(-323.130105) scale(0.1 -0.1)\">\n      <use xlink:href=\"#DejaVuSans-34\"/>\n      <use xlink:href=\"#DejaVuSans-2e\" x=\"63.623047\"/>\n      <use xlink:href=\"#DejaVuSans-30\" x=\"95.410156\"/>\n     </g>\n    </g>\n   </g>\n   <g id=\"text_6\">\n    <g id=\"patch_14\">\n     <path d=\"M 229.760931 86.362487 \nL 229.760932 102.265612 \nQ 229.760932 105.265612 232.760932 105.265612 \nL 242.439057 105.265612 \nQ 245.439057 105.265612 245.439057 102.265612 \nL 245.439056 86.362487 \nQ 245.439056 83.362487 242.439056 83.362487 \nL 232.760931 83.362487 \nQ 229.760931 83.362487 229.760931 86.362487 \nz\n\" clip-path=\"url(#pf21365ceec)\" style=\"fill: #ffffff; stroke: #ffffff; stroke-linejoin: miter\"/>\n    </g>\n    <g clip-path=\"url(#pf21365ceec)\">\n     <!-- 1.0 -->\n     <g transform=\"translate(234.840619 86.362487) rotate(-270.000002) scale(0.1 -0.1)\">\n      <use xlink:href=\"#DejaVuSans-31\"/>\n      <use xlink:href=\"#DejaVuSans-2e\" x=\"63.623047\"/>\n      <use xlink:href=\"#DejaVuSans-30\" x=\"95.410156\"/>\n     </g>\n    </g>\n   </g>\n   <g id=\"text_7\">\n    <g id=\"patch_15\">\n     <path d=\"M 74.204735 210.062306 \nL 86.927235 219.604181 \nQ 89.327235 221.404181 91.127235 219.004181 \nL 96.93411 211.26168 \nQ 98.734109 208.86168 96.334109 207.06168 \nL 83.611609 197.519806 \nQ 81.211609 195.719806 79.411609 198.119806 \nL 73.604734 205.862307 \nQ 71.804734 208.262307 74.204735 210.062306 \nz\n\" clip-path=\"url(#pf21365ceec)\" style=\"fill: #ffffff; stroke: #ffffff; stroke-linejoin: miter\"/>\n    </g>\n    <g clip-path=\"url(#pf21365ceec)\">\n     <!-- 1.0 -->\n     <g transform=\"translate(77.252547 205.998556) rotate(-323.130105) scale(0.1 -0.1)\">\n      <use xlink:href=\"#DejaVuSans-31\"/>\n      <use xlink:href=\"#DejaVuSans-2e\" x=\"63.623047\"/>\n      <use xlink:href=\"#DejaVuSans-30\" x=\"95.410156\"/>\n     </g>\n    </g>\n   </g>\n   <g id=\"PathCollection_1\">\n    <defs>\n     <path id=\"m6bcdf8bf22\" d=\"M 0 12.247449 \nC 3.248061 12.247449 6.363528 10.95698 8.660254 8.660254 \nC 10.95698 6.363528 12.247449 3.248061 12.247449 0 \nC 12.247449 -3.248061 10.95698 -6.363528 8.660254 -8.660254 \nC 6.363528 -10.95698 3.248061 -12.247449 0 -12.247449 \nC -3.248061 -12.247449 -6.363528 -10.95698 -8.660254 -8.660254 \nC -10.95698 -6.363528 -12.247449 -3.248061 -12.247449 0 \nC -12.247449 3.248061 -10.95698 6.363528 -8.660254 8.660254 \nC -6.363528 10.95698 -3.248061 12.247449 0 12.247449 \nz\n\" style=\"stroke: #1f78b4\"/>\n    </defs>\n    <g clip-path=\"url(#pf21365ceec)\">\n     <use xlink:href=\"#m6bcdf8bf22\" x=\"428.013223\" y=\"180\" style=\"fill: #1f78b4; stroke: #1f78b4\"/>\n     <use xlink:href=\"#m6bcdf8bf22\" x=\"237.599992\" y=\"37.190083\" style=\"fill: #1f78b4; stroke: #1f78b4\"/>\n     <use xlink:href=\"#m6bcdf8bf22\" x=\"47.186777\" y=\"180.000012\" style=\"fill: #1f78b4; stroke: #1f78b4\"/>\n     <use xlink:href=\"#m6bcdf8bf22\" x=\"237.600002\" y=\"322.809917\" style=\"fill: #1f78b4; stroke: #1f78b4\"/>\n    </g>\n   </g>\n   <g id=\"text_8\">\n    <g clip-path=\"url(#pf21365ceec)\">\n     <!-- S_1 -->\n     <g style=\"fill: #ffff00\" transform=\"translate(417.386661 183.038437) scale(0.12 -0.12)\">\n      <defs>\n       <path id=\"DejaVuSans-53\" d=\"M 3425 4513 \nL 3425 3897 \nQ 3066 4069 2747 4153 \nQ 2428 4238 2131 4238 \nQ 1616 4238 1336 4038 \nQ 1056 3838 1056 3469 \nQ 1056 3159 1242 3001 \nQ 1428 2844 1947 2747 \nL 2328 2669 \nQ 3034 2534 3370 2195 \nQ 3706 1856 3706 1288 \nQ 3706 609 3251 259 \nQ 2797 -91 1919 -91 \nQ 1588 -91 1214 -16 \nQ 841 59 441 206 \nL 441 856 \nQ 825 641 1194 531 \nQ 1563 422 1919 422 \nQ 2459 422 2753 634 \nQ 3047 847 3047 1241 \nQ 3047 1584 2836 1778 \nQ 2625 1972 2144 2069 \nL 1759 2144 \nQ 1053 2284 737 2584 \nQ 422 2884 422 3419 \nQ 422 4038 858 4394 \nQ 1294 4750 2059 4750 \nQ 2388 4750 2728 4690 \nQ 3069 4631 3425 4513 \nz\n\" transform=\"scale(0.015625)\"/>\n       <path id=\"DejaVuSans-5f\" d=\"M 3263 -1063 \nL 3263 -1509 \nL -63 -1509 \nL -63 -1063 \nL 3263 -1063 \nz\n\" transform=\"scale(0.015625)\"/>\n      </defs>\n      <use xlink:href=\"#DejaVuSans-53\"/>\n      <use xlink:href=\"#DejaVuSans-5f\" x=\"63.476562\"/>\n      <use xlink:href=\"#DejaVuSans-31\" x=\"113.476562\"/>\n     </g>\n    </g>\n   </g>\n   <g id=\"text_9\">\n    <g clip-path=\"url(#pf21365ceec)\">\n     <!-- S_2 -->\n     <g style=\"fill: #ffff00\" transform=\"translate(226.973429 40.22852) scale(0.12 -0.12)\">\n      <defs>\n       <path id=\"DejaVuSans-32\" d=\"M 1228 531 \nL 3431 531 \nL 3431 0 \nL 469 0 \nL 469 531 \nQ 828 903 1448 1529 \nQ 2069 2156 2228 2338 \nQ 2531 2678 2651 2914 \nQ 2772 3150 2772 3378 \nQ 2772 3750 2511 3984 \nQ 2250 4219 1831 4219 \nQ 1534 4219 1204 4116 \nQ 875 4013 500 3803 \nL 500 4441 \nQ 881 4594 1212 4672 \nQ 1544 4750 1819 4750 \nQ 2544 4750 2975 4387 \nQ 3406 4025 3406 3419 \nQ 3406 3131 3298 2873 \nQ 3191 2616 2906 2266 \nQ 2828 2175 2409 1742 \nQ 1991 1309 1228 531 \nz\n\" transform=\"scale(0.015625)\"/>\n      </defs>\n      <use xlink:href=\"#DejaVuSans-53\"/>\n      <use xlink:href=\"#DejaVuSans-5f\" x=\"63.476562\"/>\n      <use xlink:href=\"#DejaVuSans-32\" x=\"113.476562\"/>\n     </g>\n    </g>\n   </g>\n   <g id=\"text_10\">\n    <g clip-path=\"url(#pf21365ceec)\">\n     <!-- S_3 -->\n     <g style=\"fill: #ffff00\" transform=\"translate(36.560214 183.03845) scale(0.12 -0.12)\">\n      <use xlink:href=\"#DejaVuSans-53\"/>\n      <use xlink:href=\"#DejaVuSans-5f\" x=\"63.476562\"/>\n      <use xlink:href=\"#DejaVuSans-33\" x=\"113.476562\"/>\n     </g>\n    </g>\n   </g>\n   <g id=\"text_11\">\n    <g clip-path=\"url(#pf21365ceec)\">\n     <!-- S_4 -->\n     <g style=\"fill: #ffff00\" transform=\"translate(226.97344 325.848355) scale(0.12 -0.12)\">\n      <use xlink:href=\"#DejaVuSans-53\"/>\n      <use xlink:href=\"#DejaVuSans-5f\" x=\"63.476562\"/>\n      <use xlink:href=\"#DejaVuSans-34\" x=\"113.476562\"/>\n     </g>\n    </g>\n   </g>\n  </g>\n </g>\n <defs>\n  <clipPath id=\"pf21365ceec\">\n   <rect x=\"7.2\" y=\"7.2\" width=\"460.8\" height=\"345.6\"/>\n  </clipPath>\n </defs>\n</svg>\n",
      "text/plain": [
       "<Figure size 640x480 with 1 Axes>"
      ]
     },
     "metadata": {},
     "output_type": "display_data"
    }
   ],
   "source": [
    "def draw_graph(matrix) -> None:\n",
    "    G = nx.from_numpy_matrix(matrix, create_using=nx.DiGraph)\n",
    "    layout = nx.circular_layout(G)\n",
    "\n",
    "    nx.draw(G, layout, node_size=600)\n",
    "    nx.draw_networkx_labels(\n",
    "        G,\n",
    "        pos=layout,\n",
    "        labels={i: f\"S_{i+1}\" for i in range(len(matrix))},\n",
    "        font_color=\"yellow\",\n",
    "        font_size=12,\n",
    "    )\n",
    "    nx.draw_networkx_edge_labels(\n",
    "        G, pos=layout, edge_labels=nx.get_edge_attributes(G, \"weight\"), label_pos=0.2\n",
    "    )\n",
    "    plt.show()\n",
    "    \n",
    "draw_graph(get_matrix())"
   ]
  },
  {
   "cell_type": "markdown",
   "id": "ef9576e2",
   "metadata": {},
   "source": [
    "### Solution"
   ]
  },
  {
   "cell_type": "code",
   "execution_count": 66,
   "id": "6911aaa0",
   "metadata": {},
   "outputs": [
    {
     "data": {
      "application/vnd.jupyter.widget-view+json": {
       "model_id": "fa2b941f0b014f869306a30a0acc572a",
       "version_major": 2,
       "version_minor": 0
      },
      "text/plain": [
       "Label(value='Время моделирования')"
      ]
     },
     "metadata": {},
     "output_type": "display_data"
    },
    {
     "data": {
      "application/vnd.jupyter.widget-view+json": {
       "model_id": "084beedb5a404561b22081e228c9acb9",
       "version_major": 2,
       "version_minor": 0
      },
      "text/plain": [
       "BoundedFloatText(value=0.0, description='Tmax', max=1000.0, step=1.0)"
      ]
     },
     "metadata": {},
     "output_type": "display_data"
    },
    {
     "data": {
      "application/vnd.jupyter.widget-view+json": {
       "model_id": "ceb08322a11a4ef2b51efdb72f6722f2",
       "version_major": 2,
       "version_minor": 0
      },
      "text/plain": [
       "BoundedIntText(value=0, description='N', max=100000)"
      ]
     },
     "metadata": {},
     "output_type": "display_data"
    }
   ],
   "source": [
    "t_max_input = widgets.BoundedFloatText(value=0, min=0, max=1000, step=1, description=\"Tmax\")\n",
    "t_n_input = widgets.BoundedIntText(value=0, min=0, max=10e4, step=1, description=\"N\")\n",
    "\n",
    "display(widgets.Label(\"Время моделирования\"))\n",
    "display(t_max_input)\n",
    "display(t_n_input)"
   ]
  },
  {
   "cell_type": "code",
   "execution_count": 109,
   "id": "501e7941",
   "metadata": {},
   "outputs": [],
   "source": [
    "def find_steady_ps(matrix: np.ndarray) -> np.ndarray:\n",
    "    b = np.array([0] * (len(matrix) - 1) + [1])\n",
    "\n",
    "    matrix_to_solve = matrix.copy().transpose()\n",
    "    matrix_to_solve -= np.diag(matrix.sum(axis=1))\n",
    "    matrix_to_solve[-1] = np.ones(len(matrix_to_solve))\n",
    "\n",
    "    return np.linalg.solve(matrix_to_solve, b)"
   ]
  },
  {
   "cell_type": "code",
   "execution_count": 110,
   "id": "57f9d23b",
   "metadata": {},
   "outputs": [],
   "source": [
    "def find_steady_ts(\n",
    "    ts: np.ndarray, ps: np.ndarray, steady_ps: np.ndarray, eps: float = 1e-6\n",
    ") -> np.ndarray:\n",
    "    steady_ts = np.zeros(len(steady_ps))\n",
    "\n",
    "    for i, row in enumerate(ps):\n",
    "        for p, t in reversed(list(zip(row, ts))):\n",
    "            if abs(steady_ps[i] - p) > eps:\n",
    "                steady_ts[i] = t\n",
    "                break\n",
    "\n",
    "    return steady_ts"
   ]
  },
  {
   "cell_type": "code",
   "execution_count": 111,
   "id": "01d964b4",
   "metadata": {},
   "outputs": [],
   "source": [
    "def solve_ode(matrix: np.ndarray, start_probs: np.ndarray, tn: int, tmax: int):\n",
    "    matrix_to_solve = matrix.copy().transpose()\n",
    "    matrix_to_solve -= np.diag(matrix.sum(axis=1))\n",
    "\n",
    "    ts = np.linspace(0, tmax, tn)\n",
    "\n",
    "    ps = integrate.odeint(\n",
    "        lambda w, _: matrix_to_solve @ w, start_probs, ts, atol=1.0e-8, rtol=1.0e-6\n",
    "    ).transpose()\n",
    "    return ts, ps"
   ]
  },
  {
   "cell_type": "markdown",
   "id": "7213cee3",
   "metadata": {},
   "source": [
    "### Plot"
   ]
  },
  {
   "cell_type": "code",
   "execution_count": 114,
   "id": "ede74f11",
   "metadata": {},
   "outputs": [
    {
     "data": {
      "image/svg+xml": "<?xml version=\"1.0\" encoding=\"utf-8\" standalone=\"no\"?>\n<!DOCTYPE svg PUBLIC \"-//W3C//DTD SVG 1.1//EN\"\n  \"http://www.w3.org/Graphics/SVG/1.1/DTD/svg11.dtd\">\n<svg xmlns:xlink=\"http://www.w3.org/1999/xlink\" width=\"394.423125pt\" height=\"297.190125pt\" viewBox=\"0 0 394.423125 297.190125\" xmlns=\"http://www.w3.org/2000/svg\" version=\"1.1\">\n <metadata>\n  <rdf:RDF xmlns:dc=\"http://purl.org/dc/elements/1.1/\" xmlns:cc=\"http://creativecommons.org/ns#\" xmlns:rdf=\"http://www.w3.org/1999/02/22-rdf-syntax-ns#\">\n   <cc:Work>\n    <dc:type rdf:resource=\"http://purl.org/dc/dcmitype/StillImage\"/>\n    <dc:date>2022-10-29T22:14:23.426994</dc:date>\n    <dc:format>image/svg+xml</dc:format>\n    <dc:creator>\n     <cc:Agent>\n      <dc:title>Matplotlib v3.6.0, https://matplotlib.org/</dc:title>\n     </cc:Agent>\n    </dc:creator>\n   </cc:Work>\n  </rdf:RDF>\n </metadata>\n <defs>\n  <style type=\"text/css\">*{stroke-linejoin: round; stroke-linecap: butt}</style>\n </defs>\n <g id=\"figure_1\">\n  <g id=\"patch_1\">\n   <path d=\"M 0 297.190125 \nL 394.423125 297.190125 \nL 394.423125 0 \nL 0 0 \nz\n\" style=\"fill: #ffffff\"/>\n  </g>\n  <g id=\"axes_1\">\n   <g id=\"patch_2\">\n    <path d=\"M 30.103125 273.312 \nL 387.223125 273.312 \nL 387.223125 7.2 \nL 30.103125 7.2 \nz\n\" style=\"fill: #ffffff\"/>\n   </g>\n   <g id=\"matplotlib.axis_1\">\n    <g id=\"xtick_1\">\n     <g id=\"line2d_1\">\n      <defs>\n       <path id=\"mb3cc383265\" d=\"M 0 0 \nL 0 3.5 \n\" style=\"stroke: #000000; stroke-width: 0.8\"/>\n      </defs>\n      <g>\n       <use xlink:href=\"#mb3cc383265\" x=\"46.335852\" y=\"273.312\" style=\"stroke: #000000; stroke-width: 0.8\"/>\n      </g>\n     </g>\n     <g id=\"text_1\">\n      <!-- 0 -->\n      <g transform=\"translate(43.154602 287.910437) scale(0.1 -0.1)\">\n       <defs>\n        <path id=\"DejaVuSans-30\" d=\"M 2034 4250 \nQ 1547 4250 1301 3770 \nQ 1056 3291 1056 2328 \nQ 1056 1369 1301 889 \nQ 1547 409 2034 409 \nQ 2525 409 2770 889 \nQ 3016 1369 3016 2328 \nQ 3016 3291 2770 3770 \nQ 2525 4250 2034 4250 \nz\nM 2034 4750 \nQ 2819 4750 3233 4129 \nQ 3647 3509 3647 2328 \nQ 3647 1150 3233 529 \nQ 2819 -91 2034 -91 \nQ 1250 -91 836 529 \nQ 422 1150 422 2328 \nQ 422 3509 836 4129 \nQ 1250 4750 2034 4750 \nz\n\" transform=\"scale(0.015625)\"/>\n       </defs>\n       <use xlink:href=\"#DejaVuSans-30\"/>\n      </g>\n     </g>\n    </g>\n    <g id=\"xtick_2\">\n     <g id=\"line2d_2\">\n      <g>\n       <use xlink:href=\"#mb3cc383265\" x=\"111.266761\" y=\"273.312\" style=\"stroke: #000000; stroke-width: 0.8\"/>\n      </g>\n     </g>\n     <g id=\"text_2\">\n      <!-- 2 -->\n      <g transform=\"translate(108.085511 287.910437) scale(0.1 -0.1)\">\n       <defs>\n        <path id=\"DejaVuSans-32\" d=\"M 1228 531 \nL 3431 531 \nL 3431 0 \nL 469 0 \nL 469 531 \nQ 828 903 1448 1529 \nQ 2069 2156 2228 2338 \nQ 2531 2678 2651 2914 \nQ 2772 3150 2772 3378 \nQ 2772 3750 2511 3984 \nQ 2250 4219 1831 4219 \nQ 1534 4219 1204 4116 \nQ 875 4013 500 3803 \nL 500 4441 \nQ 881 4594 1212 4672 \nQ 1544 4750 1819 4750 \nQ 2544 4750 2975 4387 \nQ 3406 4025 3406 3419 \nQ 3406 3131 3298 2873 \nQ 3191 2616 2906 2266 \nQ 2828 2175 2409 1742 \nQ 1991 1309 1228 531 \nz\n\" transform=\"scale(0.015625)\"/>\n       </defs>\n       <use xlink:href=\"#DejaVuSans-32\"/>\n      </g>\n     </g>\n    </g>\n    <g id=\"xtick_3\">\n     <g id=\"line2d_3\">\n      <g>\n       <use xlink:href=\"#mb3cc383265\" x=\"176.19767\" y=\"273.312\" style=\"stroke: #000000; stroke-width: 0.8\"/>\n      </g>\n     </g>\n     <g id=\"text_3\">\n      <!-- 4 -->\n      <g transform=\"translate(173.01642 287.910437) scale(0.1 -0.1)\">\n       <defs>\n        <path id=\"DejaVuSans-34\" d=\"M 2419 4116 \nL 825 1625 \nL 2419 1625 \nL 2419 4116 \nz\nM 2253 4666 \nL 3047 4666 \nL 3047 1625 \nL 3713 1625 \nL 3713 1100 \nL 3047 1100 \nL 3047 0 \nL 2419 0 \nL 2419 1100 \nL 313 1100 \nL 313 1709 \nL 2253 4666 \nz\n\" transform=\"scale(0.015625)\"/>\n       </defs>\n       <use xlink:href=\"#DejaVuSans-34\"/>\n      </g>\n     </g>\n    </g>\n    <g id=\"xtick_4\">\n     <g id=\"line2d_4\">\n      <g>\n       <use xlink:href=\"#mb3cc383265\" x=\"241.12858\" y=\"273.312\" style=\"stroke: #000000; stroke-width: 0.8\"/>\n      </g>\n     </g>\n     <g id=\"text_4\">\n      <!-- 6 -->\n      <g transform=\"translate(237.94733 287.910437) scale(0.1 -0.1)\">\n       <defs>\n        <path id=\"DejaVuSans-36\" d=\"M 2113 2584 \nQ 1688 2584 1439 2293 \nQ 1191 2003 1191 1497 \nQ 1191 994 1439 701 \nQ 1688 409 2113 409 \nQ 2538 409 2786 701 \nQ 3034 994 3034 1497 \nQ 3034 2003 2786 2293 \nQ 2538 2584 2113 2584 \nz\nM 3366 4563 \nL 3366 3988 \nQ 3128 4100 2886 4159 \nQ 2644 4219 2406 4219 \nQ 1781 4219 1451 3797 \nQ 1122 3375 1075 2522 \nQ 1259 2794 1537 2939 \nQ 1816 3084 2150 3084 \nQ 2853 3084 3261 2657 \nQ 3669 2231 3669 1497 \nQ 3669 778 3244 343 \nQ 2819 -91 2113 -91 \nQ 1303 -91 875 529 \nQ 447 1150 447 2328 \nQ 447 3434 972 4092 \nQ 1497 4750 2381 4750 \nQ 2619 4750 2861 4703 \nQ 3103 4656 3366 4563 \nz\n\" transform=\"scale(0.015625)\"/>\n       </defs>\n       <use xlink:href=\"#DejaVuSans-36\"/>\n      </g>\n     </g>\n    </g>\n    <g id=\"xtick_5\">\n     <g id=\"line2d_5\">\n      <g>\n       <use xlink:href=\"#mb3cc383265\" x=\"306.059489\" y=\"273.312\" style=\"stroke: #000000; stroke-width: 0.8\"/>\n      </g>\n     </g>\n     <g id=\"text_5\">\n      <!-- 8 -->\n      <g transform=\"translate(302.878239 287.910437) scale(0.1 -0.1)\">\n       <defs>\n        <path id=\"DejaVuSans-38\" d=\"M 2034 2216 \nQ 1584 2216 1326 1975 \nQ 1069 1734 1069 1313 \nQ 1069 891 1326 650 \nQ 1584 409 2034 409 \nQ 2484 409 2743 651 \nQ 3003 894 3003 1313 \nQ 3003 1734 2745 1975 \nQ 2488 2216 2034 2216 \nz\nM 1403 2484 \nQ 997 2584 770 2862 \nQ 544 3141 544 3541 \nQ 544 4100 942 4425 \nQ 1341 4750 2034 4750 \nQ 2731 4750 3128 4425 \nQ 3525 4100 3525 3541 \nQ 3525 3141 3298 2862 \nQ 3072 2584 2669 2484 \nQ 3125 2378 3379 2068 \nQ 3634 1759 3634 1313 \nQ 3634 634 3220 271 \nQ 2806 -91 2034 -91 \nQ 1263 -91 848 271 \nQ 434 634 434 1313 \nQ 434 1759 690 2068 \nQ 947 2378 1403 2484 \nz\nM 1172 3481 \nQ 1172 3119 1398 2916 \nQ 1625 2713 2034 2713 \nQ 2441 2713 2670 2916 \nQ 2900 3119 2900 3481 \nQ 2900 3844 2670 4047 \nQ 2441 4250 2034 4250 \nQ 1625 4250 1398 4047 \nQ 1172 3844 1172 3481 \nz\n\" transform=\"scale(0.015625)\"/>\n       </defs>\n       <use xlink:href=\"#DejaVuSans-38\"/>\n      </g>\n     </g>\n    </g>\n    <g id=\"xtick_6\">\n     <g id=\"line2d_6\">\n      <g>\n       <use xlink:href=\"#mb3cc383265\" x=\"370.990398\" y=\"273.312\" style=\"stroke: #000000; stroke-width: 0.8\"/>\n      </g>\n     </g>\n     <g id=\"text_6\">\n      <!-- 10 -->\n      <g transform=\"translate(364.627898 287.910437) scale(0.1 -0.1)\">\n       <defs>\n        <path id=\"DejaVuSans-31\" d=\"M 794 531 \nL 1825 531 \nL 1825 4091 \nL 703 3866 \nL 703 4441 \nL 1819 4666 \nL 2450 4666 \nL 2450 531 \nL 3481 531 \nL 3481 0 \nL 794 0 \nL 794 531 \nz\n\" transform=\"scale(0.015625)\"/>\n       </defs>\n       <use xlink:href=\"#DejaVuSans-31\"/>\n       <use xlink:href=\"#DejaVuSans-30\" x=\"63.623047\"/>\n      </g>\n     </g>\n    </g>\n   </g>\n   <g id=\"matplotlib.axis_2\">\n    <g id=\"ytick_1\">\n     <g id=\"line2d_7\">\n      <defs>\n       <path id=\"md8477f90d1\" d=\"M 0 0 \nL -3.5 0 \n\" style=\"stroke: #000000; stroke-width: 0.8\"/>\n      </defs>\n      <g>\n       <use xlink:href=\"#md8477f90d1\" x=\"30.103125\" y=\"261.216\" style=\"stroke: #000000; stroke-width: 0.8\"/>\n      </g>\n     </g>\n     <g id=\"text_7\">\n      <!-- 0.0 -->\n      <g transform=\"translate(7.2 265.015219) scale(0.1 -0.1)\">\n       <defs>\n        <path id=\"DejaVuSans-2e\" d=\"M 684 794 \nL 1344 794 \nL 1344 0 \nL 684 0 \nL 684 794 \nz\n\" transform=\"scale(0.015625)\"/>\n       </defs>\n       <use xlink:href=\"#DejaVuSans-30\"/>\n       <use xlink:href=\"#DejaVuSans-2e\" x=\"63.623047\"/>\n       <use xlink:href=\"#DejaVuSans-30\" x=\"95.410156\"/>\n      </g>\n     </g>\n    </g>\n    <g id=\"ytick_2\">\n     <g id=\"line2d_8\">\n      <g>\n       <use xlink:href=\"#md8477f90d1\" x=\"30.103125\" y=\"212.832\" style=\"stroke: #000000; stroke-width: 0.8\"/>\n      </g>\n     </g>\n     <g id=\"text_8\">\n      <!-- 0.2 -->\n      <g transform=\"translate(7.2 216.631219) scale(0.1 -0.1)\">\n       <use xlink:href=\"#DejaVuSans-30\"/>\n       <use xlink:href=\"#DejaVuSans-2e\" x=\"63.623047\"/>\n       <use xlink:href=\"#DejaVuSans-32\" x=\"95.410156\"/>\n      </g>\n     </g>\n    </g>\n    <g id=\"ytick_3\">\n     <g id=\"line2d_9\">\n      <g>\n       <use xlink:href=\"#md8477f90d1\" x=\"30.103125\" y=\"164.448\" style=\"stroke: #000000; stroke-width: 0.8\"/>\n      </g>\n     </g>\n     <g id=\"text_9\">\n      <!-- 0.4 -->\n      <g transform=\"translate(7.2 168.247219) scale(0.1 -0.1)\">\n       <use xlink:href=\"#DejaVuSans-30\"/>\n       <use xlink:href=\"#DejaVuSans-2e\" x=\"63.623047\"/>\n       <use xlink:href=\"#DejaVuSans-34\" x=\"95.410156\"/>\n      </g>\n     </g>\n    </g>\n    <g id=\"ytick_4\">\n     <g id=\"line2d_10\">\n      <g>\n       <use xlink:href=\"#md8477f90d1\" x=\"30.103125\" y=\"116.064\" style=\"stroke: #000000; stroke-width: 0.8\"/>\n      </g>\n     </g>\n     <g id=\"text_10\">\n      <!-- 0.6 -->\n      <g transform=\"translate(7.2 119.863219) scale(0.1 -0.1)\">\n       <use xlink:href=\"#DejaVuSans-30\"/>\n       <use xlink:href=\"#DejaVuSans-2e\" x=\"63.623047\"/>\n       <use xlink:href=\"#DejaVuSans-36\" x=\"95.410156\"/>\n      </g>\n     </g>\n    </g>\n    <g id=\"ytick_5\">\n     <g id=\"line2d_11\">\n      <g>\n       <use xlink:href=\"#md8477f90d1\" x=\"30.103125\" y=\"67.68\" style=\"stroke: #000000; stroke-width: 0.8\"/>\n      </g>\n     </g>\n     <g id=\"text_11\">\n      <!-- 0.8 -->\n      <g transform=\"translate(7.2 71.479219) scale(0.1 -0.1)\">\n       <use xlink:href=\"#DejaVuSans-30\"/>\n       <use xlink:href=\"#DejaVuSans-2e\" x=\"63.623047\"/>\n       <use xlink:href=\"#DejaVuSans-38\" x=\"95.410156\"/>\n      </g>\n     </g>\n    </g>\n    <g id=\"ytick_6\">\n     <g id=\"line2d_12\">\n      <g>\n       <use xlink:href=\"#md8477f90d1\" x=\"30.103125\" y=\"19.296\" style=\"stroke: #000000; stroke-width: 0.8\"/>\n      </g>\n     </g>\n     <g id=\"text_12\">\n      <!-- 1.0 -->\n      <g transform=\"translate(7.2 23.095219) scale(0.1 -0.1)\">\n       <use xlink:href=\"#DejaVuSans-31\"/>\n       <use xlink:href=\"#DejaVuSans-2e\" x=\"63.623047\"/>\n       <use xlink:href=\"#DejaVuSans-30\" x=\"95.410156\"/>\n      </g>\n     </g>\n    </g>\n   </g>\n   <g id=\"line2d_13\">\n    <path d=\"M 46.335852 261.216 \nL 46.67025 261.105767 \nL 47.066332 260.717913 \nL 47.576045 259.876144 \nL 48.25458 258.285128 \nL 49.186348 255.479655 \nL 50.605102 250.417175 \nL 56.15675 229.977253 \nL 58.172875 223.706158 \nL 60.120822 218.358344 \nL 62.065522 213.658633 \nL 64.032949 209.476846 \nL 66.045827 205.713713 \nL 68.12039 202.301633 \nL 70.266378 199.195962 \nL 72.496777 196.356178 \nL 74.821327 193.754176 \nL 77.253014 191.364608 \nL 79.804824 189.168331 \nL 82.489744 187.151048 \nL 85.324007 185.300129 \nL 88.330338 183.603238 \nL 91.537957 182.049611 \nL 94.976083 180.633232 \nL 98.690168 179.345982 \nL 102.732157 178.183123 \nL 107.176722 177.139196 \nL 112.114768 176.21169 \nL 117.679402 175.397347 \nL 124.055681 174.694363 \nL 131.526057 174.100947 \nL 140.541804 173.615766 \nL 151.895087 173.237529 \nL 167.183222 172.964444 \nL 190.376775 172.793668 \nL 236.614538 172.718133 \nL 370.990398 172.708717 \nL 370.990398 172.708717 \n\" clip-path=\"url(#pcd2696dee1)\" style=\"fill: none; stroke: #1f77b4; stroke-width: 1.5; stroke-linecap: square\"/>\n   </g>\n   <g id=\"line2d_14\">\n    <path d=\"M 46.335852 261.216 \nL 47.124771 246.063391 \nL 47.897456 235.256673 \nL 48.653909 227.624101 \nL 49.387636 222.348347 \nL 50.092143 218.793188 \nL 50.767431 216.454272 \nL 51.407007 214.985393 \nL 52.01087 214.117287 \nL 52.585515 213.657482 \nL 53.153666 213.478213 \nL 53.764023 213.522289 \nL 54.481516 213.80908 \nL 55.400298 214.433494 \nL 56.728148 215.632243 \nL 62.961578 221.590753 \nL 65.055621 223.118358 \nL 67.208102 224.413093 \nL 69.513172 225.537878 \nL 72.061736 226.530273 \nL 74.96093 227.415528 \nL 78.350357 228.211782 \nL 82.418319 228.93164 \nL 87.411556 229.581105 \nL 93.644986 230.15889 \nL 101.527677 230.657081 \nL 111.660247 231.064503 \nL 125.17575 231.372805 \nL 144.762355 231.579285 \nL 179.098163 231.6873 \nL 289.118196 231.713422 \nL 370.990398 231.713555 \nL 370.990398 231.713555 \n\" clip-path=\"url(#pcd2696dee1)\" style=\"fill: none; stroke: #ff7f0e; stroke-width: 1.5; stroke-linecap: square\"/>\n   </g>\n   <g id=\"line2d_15\">\n    <path d=\"M 46.335852 19.296 \nL 47.25788 61.594788 \nL 48.186402 94.407562 \nL 49.121416 119.918239 \nL 50.06617 139.865237 \nL 51.020664 155.497091 \nL 51.984898 167.781448 \nL 52.962118 177.495737 \nL 53.952324 185.200643 \nL 54.958763 191.351134 \nL 55.984682 196.290668 \nL 57.033327 200.280565 \nL 58.107944 203.521029 \nL 59.215027 206.173434 \nL 60.364315 208.364497 \nL 61.568796 210.191891 \nL 62.847948 211.733314 \nL 64.22125 213.042337 \nL 65.724416 214.167786 \nL 67.39965 215.14235 \nL 69.311884 215.993436 \nL 71.542283 216.737289 \nL 74.217463 217.388173 \nL 77.528973 217.956307 \nL 81.785237 218.450169 \nL 87.505707 218.877308 \nL 95.589686 219.243049 \nL 107.475408 219.542059 \nL 125.594559 219.757282 \nL 156.833132 219.87742 \nL 243.893365 219.912024 \nL 370.990398 219.912582 \nL 370.990398 219.912582 \n\" clip-path=\"url(#pcd2696dee1)\" style=\"fill: none; stroke: #2ca02c; stroke-width: 1.5; stroke-linecap: square\"/>\n   </g>\n   <g id=\"line2d_16\">\n    <path d=\"M 46.335852 261.216 \nL 47.270867 236.659658 \nL 48.209128 217.626847 \nL 49.147389 202.920374 \nL 50.08565 191.555847 \nL 51.023911 182.782128 \nL 51.958925 176.044674 \nL 52.887447 170.903056 \nL 53.809475 166.997238 \nL 54.718516 164.070843 \nL 55.617819 161.892917 \nL 56.504134 160.303597 \nL 57.383957 159.164588 \nL 58.26378 158.377131 \nL 59.163082 157.864419 \nL 60.107836 157.580341 \nL 61.137001 157.505279 \nL 62.305769 157.648383 \nL 63.695304 158.051693 \nL 65.432224 158.799695 \nL 67.824952 160.091516 \nL 72.847408 163.127808 \nL 77.64585 165.900695 \nL 81.515771 167.879043 \nL 85.278554 169.553235 \nL 89.119256 171.018053 \nL 93.148259 172.315121 \nL 97.459715 173.467056 \nL 102.15102 174.487166 \nL 107.342298 175.384576 \nL 113.192631 176.165486 \nL 119.919541 176.833358 \nL 127.857424 177.391092 \nL 137.548459 177.840528 \nL 149.986099 178.183529 \nL 167.264387 178.421889 \nL 195.207683 178.559533 \nL 263.165052 178.607214 \nL 370.990398 178.609145 \nL 370.990398 178.609145 \n\" clip-path=\"url(#pcd2696dee1)\" style=\"fill: none; stroke: #d62728; stroke-width: 1.5; stroke-linecap: square\"/>\n   </g>\n   <g id=\"patch_3\">\n    <path d=\"M 30.103125 273.312 \nL 30.103125 7.2 \n\" style=\"fill: none; stroke: #000000; stroke-width: 0.8; stroke-linejoin: miter; stroke-linecap: square\"/>\n   </g>\n   <g id=\"patch_4\">\n    <path d=\"M 387.223125 273.312 \nL 387.223125 7.2 \n\" style=\"fill: none; stroke: #000000; stroke-width: 0.8; stroke-linejoin: miter; stroke-linecap: square\"/>\n   </g>\n   <g id=\"patch_5\">\n    <path d=\"M 30.103125 273.312 \nL 387.223125 273.312 \n\" style=\"fill: none; stroke: #000000; stroke-width: 0.8; stroke-linejoin: miter; stroke-linecap: square\"/>\n   </g>\n   <g id=\"patch_6\">\n    <path d=\"M 30.103125 7.2 \nL 387.223125 7.2 \n\" style=\"fill: none; stroke: #000000; stroke-width: 0.8; stroke-linejoin: miter; stroke-linecap: square\"/>\n   </g>\n   <g id=\"legend_1\">\n    <g id=\"patch_7\">\n     <path d=\"M 337.423125 73.9125 \nL 380.223125 73.9125 \nQ 382.223125 73.9125 382.223125 71.9125 \nL 382.223125 14.2 \nQ 382.223125 12.2 380.223125 12.2 \nL 337.423125 12.2 \nQ 335.423125 12.2 335.423125 14.2 \nL 335.423125 71.9125 \nQ 335.423125 73.9125 337.423125 73.9125 \nz\n\" style=\"fill: #ffffff; opacity: 0.8; stroke: #cccccc; stroke-linejoin: miter\"/>\n    </g>\n    <g id=\"line2d_17\">\n     <path d=\"M 339.423125 20.298437 \nL 349.423125 20.298437 \nL 359.423125 20.298437 \n\" style=\"fill: none; stroke: #1f77b4; stroke-width: 1.5; stroke-linecap: square\"/>\n    </g>\n    <g id=\"text_13\">\n     <!-- $P_{0}$ -->\n     <g transform=\"translate(367.423125 23.798437) scale(0.1 -0.1)\">\n      <defs>\n       <path id=\"DejaVuSans-Oblique-50\" d=\"M 1081 4666 \nL 2541 4666 \nQ 3178 4666 3512 4369 \nQ 3847 4072 3847 3500 \nQ 3847 2731 3353 2303 \nQ 2859 1875 1966 1875 \nL 1172 1875 \nL 806 0 \nL 172 0 \nL 1081 4666 \nz\nM 1613 4147 \nL 1275 2394 \nL 2069 2394 \nQ 2606 2394 2893 2669 \nQ 3181 2944 3181 3456 \nQ 3181 3784 2986 3965 \nQ 2791 4147 2438 4147 \nL 1613 4147 \nz\n\" transform=\"scale(0.015625)\"/>\n      </defs>\n      <use xlink:href=\"#DejaVuSans-Oblique-50\" transform=\"translate(0 0.09375)\"/>\n      <use xlink:href=\"#DejaVuSans-30\" transform=\"translate(60.302734 -16.3125) scale(0.7)\"/>\n     </g>\n    </g>\n    <g id=\"line2d_18\">\n     <path d=\"M 339.423125 34.976562 \nL 349.423125 34.976562 \nL 359.423125 34.976562 \n\" style=\"fill: none; stroke: #ff7f0e; stroke-width: 1.5; stroke-linecap: square\"/>\n    </g>\n    <g id=\"text_14\">\n     <!-- $P_{1}$ -->\n     <g transform=\"translate(367.423125 38.476562) scale(0.1 -0.1)\">\n      <use xlink:href=\"#DejaVuSans-Oblique-50\" transform=\"translate(0 0.09375)\"/>\n      <use xlink:href=\"#DejaVuSans-31\" transform=\"translate(60.302734 -16.3125) scale(0.7)\"/>\n     </g>\n    </g>\n    <g id=\"line2d_19\">\n     <path d=\"M 339.423125 49.654687 \nL 349.423125 49.654687 \nL 359.423125 49.654687 \n\" style=\"fill: none; stroke: #2ca02c; stroke-width: 1.5; stroke-linecap: square\"/>\n    </g>\n    <g id=\"text_15\">\n     <!-- $P_{2}$ -->\n     <g transform=\"translate(367.423125 53.154687) scale(0.1 -0.1)\">\n      <use xlink:href=\"#DejaVuSans-Oblique-50\" transform=\"translate(0 0.09375)\"/>\n      <use xlink:href=\"#DejaVuSans-32\" transform=\"translate(60.302734 -16.3125) scale(0.7)\"/>\n     </g>\n    </g>\n    <g id=\"line2d_20\">\n     <path d=\"M 339.423125 64.332812 \nL 349.423125 64.332812 \nL 359.423125 64.332812 \n\" style=\"fill: none; stroke: #d62728; stroke-width: 1.5; stroke-linecap: square\"/>\n    </g>\n    <g id=\"text_16\">\n     <!-- $P_{3}$ -->\n     <g transform=\"translate(367.423125 67.832812) scale(0.1 -0.1)\">\n      <defs>\n       <path id=\"DejaVuSans-33\" d=\"M 2597 2516 \nQ 3050 2419 3304 2112 \nQ 3559 1806 3559 1356 \nQ 3559 666 3084 287 \nQ 2609 -91 1734 -91 \nQ 1441 -91 1130 -33 \nQ 819 25 488 141 \nL 488 750 \nQ 750 597 1062 519 \nQ 1375 441 1716 441 \nQ 2309 441 2620 675 \nQ 2931 909 2931 1356 \nQ 2931 1769 2642 2001 \nQ 2353 2234 1838 2234 \nL 1294 2234 \nL 1294 2753 \nL 1863 2753 \nQ 2328 2753 2575 2939 \nQ 2822 3125 2822 3475 \nQ 2822 3834 2567 4026 \nQ 2313 4219 1838 4219 \nQ 1578 4219 1281 4162 \nQ 984 4106 628 3988 \nL 628 4550 \nQ 988 4650 1302 4700 \nQ 1616 4750 1894 4750 \nQ 2613 4750 3031 4423 \nQ 3450 4097 3450 3541 \nQ 3450 3153 3228 2886 \nQ 3006 2619 2597 2516 \nz\n\" transform=\"scale(0.015625)\"/>\n      </defs>\n      <use xlink:href=\"#DejaVuSans-Oblique-50\" transform=\"translate(0 0.09375)\"/>\n      <use xlink:href=\"#DejaVuSans-33\" transform=\"translate(60.302734 -16.3125) scale(0.7)\"/>\n     </g>\n    </g>\n   </g>\n  </g>\n </g>\n <defs>\n  <clipPath id=\"pcd2696dee1\">\n   <rect x=\"30.103125\" y=\"7.2\" width=\"357.12\" height=\"266.112\"/>\n  </clipPath>\n </defs>\n</svg>\n",
      "text/plain": [
       "<Figure size 640x480 with 1 Axes>"
      ]
     },
     "metadata": {},
     "output_type": "display_data"
    }
   ],
   "source": [
    "def draw_plot(ts: np.ndarray, ps: np.ndarray) -> None:\n",
    "    for i, p in enumerate(ps):\n",
    "        plt.plot(ts, p, label=f\"$P_{{{i}}}$\")\n",
    "    plt.legend()\n",
    "    plt.show()\n",
    "    \n",
    "tn = t_n_input.value\n",
    "tmax = t_max_input.value\n",
    "\n",
    "m = get_matrix()\n",
    "ts, ps = solve_ode(m, m[0].copy(), tn, tmax)\n",
    "\n",
    "draw_plot(ts, ps)"
   ]
  },
  {
   "cell_type": "markdown",
   "id": "81702348",
   "metadata": {},
   "source": [
    "### Math"
   ]
  },
  {
   "cell_type": "code",
   "execution_count": 113,
   "id": "5009cb1b",
   "metadata": {},
   "outputs": [
    {
     "data": {
      "text/html": [
       "<style type=\"text/css\">\n",
       "</style>\n",
       "<table id=\"T_567b9\">\n",
       "  <thead>\n",
       "    <tr>\n",
       "      <th class=\"blank level0\" >&nbsp;</th>\n",
       "      <th id=\"T_567b9_level0_col0\" class=\"col_heading level0 col0\" >$S_{1}$</th>\n",
       "      <th id=\"T_567b9_level0_col1\" class=\"col_heading level0 col1\" >$S_{2}$</th>\n",
       "      <th id=\"T_567b9_level0_col2\" class=\"col_heading level0 col2\" >$S_{3}$</th>\n",
       "      <th id=\"T_567b9_level0_col3\" class=\"col_heading level0 col3\" >$S_{4}$</th>\n",
       "    </tr>\n",
       "  </thead>\n",
       "  <tbody>\n",
       "    <tr>\n",
       "      <th id=\"T_567b9_level0_row0\" class=\"row_heading level0 row0\" >Стабильное состояние</th>\n",
       "      <td id=\"T_567b9_row0_col0\" class=\"data row0 col0\" >0.366</td>\n",
       "      <td id=\"T_567b9_row0_col1\" class=\"data row0 col1\" >0.122</td>\n",
       "      <td id=\"T_567b9_row0_col2\" class=\"data row0 col2\" >0.171</td>\n",
       "      <td id=\"T_567b9_row0_col3\" class=\"data row0 col3\" >0.341</td>\n",
       "    </tr>\n",
       "    <tr>\n",
       "      <th id=\"T_567b9_level0_row1\" class=\"row_heading level0 row1\" >Время</th>\n",
       "      <td id=\"T_567b9_row1_col0\" class=\"data row1 col0\" >8.195</td>\n",
       "      <td id=\"T_567b9_row1_col1\" class=\"data row1 col1\" >7.156</td>\n",
       "      <td id=\"T_567b9_row1_col2\" class=\"data row1 col2\" >6.626</td>\n",
       "      <td id=\"T_567b9_row1_col3\" class=\"data row1 col3\" >8.006</td>\n",
       "    </tr>\n",
       "  </tbody>\n",
       "</table>\n"
      ],
      "text/plain": [
       "<pandas.io.formats.style.Styler at 0x12c159fa0>"
      ]
     },
     "execution_count": 113,
     "metadata": {},
     "output_type": "execute_result"
    }
   ],
   "source": [
    "steady_ps = find_steady_ps(get_matrix())\n",
    "steady_ts = find_steady_ts(ts, ps, steady_ps)\n",
    "\n",
    "df = pd.DataFrame.from_dict(\n",
    "    {\n",
    "        \"Вероятностная константа\": steady_ps,\n",
    "        \"Время достижения вероятностной константы\": steady_ts,\n",
    "    },\n",
    "    orient=\"index\",\n",
    "    columns=[f\"$S_{{{i+1}}}$\" for i in range(len(m))],\n",
    ")\n",
    "df.style.format(\"{:.3f}\")"
   ]
  },
  {
   "cell_type": "code",
   "execution_count": null,
   "id": "c81d19e6",
   "metadata": {},
   "outputs": [],
   "source": []
  }
 ],
 "metadata": {
  "kernelspec": {
   "display_name": "Python 3 (ipykernel)",
   "language": "python",
   "name": "python3"
  },
  "language_info": {
   "codemirror_mode": {
    "name": "ipython",
    "version": 3
   },
   "file_extension": ".py",
   "mimetype": "text/x-python",
   "name": "python",
   "nbconvert_exporter": "python",
   "pygments_lexer": "ipython3",
   "version": "3.9.13"
  }
 },
 "nbformat": 4,
 "nbformat_minor": 5
}
