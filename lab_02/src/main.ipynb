{
 "cells": [
  {
   "cell_type": "code",
   "execution_count": 1,
   "metadata": {},
   "outputs": [],
   "source": [
    "import numpy as np\n",
    "import matplotlib.pyplot as plt"
   ]
  },
  {
   "cell_type": "code",
   "execution_count": 2,
   "metadata": {},
   "outputs": [],
   "source": [
    "%matplotlib inline"
   ]
  },
  {
   "cell_type": "markdown",
   "metadata": {},
   "source": [
    "### Предопределенные константы"
   ]
  },
  {
   "cell_type": "code",
   "execution_count": 3,
   "metadata": {},
   "outputs": [],
   "source": [
    "lightSpeed = 3e10"
   ]
  },
  {
   "cell_type": "code",
   "execution_count": 4,
   "metadata": {},
   "outputs": [],
   "source": [
    "R = 0.35\n",
    "T_w = 2000\n",
    "T_0 = 1e4\n",
    "k_0 = 8e-4\n",
    "p = 15\n",
    "\n",
    "F_CONST = 0.393"
   ]
  },
  {
   "cell_type": "code",
   "execution_count": 5,
   "metadata": {},
   "outputs": [],
   "source": [
    "NUMBER_OF_STEPS = 100\n",
    "HALF_DIVISION_STEP_LIMIT = 100"
   ]
  },
  {
   "cell_type": "markdown",
   "metadata": {},
   "source": [
    "### Базовые функции"
   ]
  },
  {
   "cell_type": "code",
   "execution_count": 6,
   "metadata": {},
   "outputs": [],
   "source": [
    "def Tz(z: float):\n",
    "    return (T_w - T_0)*z**p + T_0\n",
    "\n",
    "def Kz(z: float):\n",
    "    return k_0 * (Tz(z) / 300)**2\n",
    "\n",
    "def Up(z: float):\n",
    "    return 3.084e-4 / (np.exp(4.799e4 / Tz(z)) -1)"
   ]
  },
  {
   "cell_type": "code",
   "execution_count": 7,
   "metadata": {},
   "outputs": [],
   "source": [
    "def dU_dz(z: float, f: float):\n",
    "    return -(3 * R * f * Kz(z)) / lightSpeed\n",
    "\n",
    "def dF_dz(z, f, u):\n",
    "    if abs(z - 0) < 1e-4:\n",
    "        return 0.5 * R * lightSpeed * Kz(z) * (Up(z) - u)\n",
    "    \n",
    "    return R * lightSpeed * Kz(z) * (Up(z) - u) - (f / z)"
   ]
  },
  {
   "cell_type": "code",
   "execution_count": 8,
   "metadata": {},
   "outputs": [],
   "source": [
    "def RungeCutt4(f0: float, u0: float, z0: float, z_max: float):\n",
    "    zs = np.linspace(z0, z_max, NUMBER_OF_STEPS+1)\n",
    "    zp = z0\n",
    "    \n",
    "    f_res = np.zeros(zs.shape)\n",
    "    f_res[0] = f0\n",
    "    u_res = np.zeros(zs.shape)\n",
    "    u_res[0] = u0\n",
    "\n",
    "    for i, zi in enumerate(zs[1:]):\n",
    "        h = zi - zp\n",
    "\n",
    "        f_n = f_res[i]\n",
    "        u_n = u_res[i]\n",
    "\n",
    "        k1 = h * dU_dz(zi, f_n)\n",
    "        g1 = h * dF_dz(zi, f_n, u_n)\n",
    "\n",
    "        k2 = h * dU_dz(zi + 0.5 * h, f_n + 0.5 * g1)\n",
    "        g2 = h * dF_dz(zi + 0.5 * h, f_n + 0.5 * g1, u_n + 0.5 * k1)\n",
    "\n",
    "        k3 = h * dU_dz(zi + 0.5 * h, f_n + 0.5 * g2)\n",
    "        g3 = h * dF_dz(zi + 0.5 * h, f_n + 0.5 * g2, u_n + 0.5 * k2)\n",
    "\n",
    "        k4 = h * dU_dz(zi + h, f_n + g3)\n",
    "        g4 = h * dF_dz(zi + h, f_n + g3, u_n + k3)\n",
    "\n",
    "        f_res[i + 1] = f_n + (g1 + 2 * g2 + 2 * g3 + g4) / 6\n",
    "        u_res[i + 1] = u_n + (k1 + 2 * k2 + 2 * k3 + k4) / 6\n",
    "\n",
    "        zp = zi\n",
    "\n",
    "    return zs, f_res, u_res\n"
   ]
  },
  {
   "cell_type": "code",
   "execution_count": 9,
   "metadata": {},
   "outputs": [],
   "source": [
    "def get_Δ(f, u):\n",
    "    return f - F_CONST * lightSpeed * u / 2\n",
    "\n",
    "def get_last_Δ(_, fs, us):\n",
    "    return get_Δ(fs[-1], us[-1])\n",
    "\n",
    "def find_ξ():\n",
    "    ξs = np.linspace(1e-2, 1, NUMBER_OF_STEPS + 1)\n",
    "\n",
    "    ξa = ξb = ξs[0]\n",
    "\n",
    "    up0 = Up(0)\n",
    "    for ξ in ξs:\n",
    "        Δ = get_last_Δ(*RungeCutt4(0, ξ * up0, 0, 1))\n",
    "        \n",
    "        if Δ < 0:\n",
    "            ξb = ξ\n",
    "            break\n",
    "        else:\n",
    "            ξa = ξ\n",
    "\n",
    "    return ξa, ξb\n"
   ]
  },
  {
   "cell_type": "markdown",
   "metadata": {},
   "source": [
    "### Метод половинного деления"
   ]
  },
  {
   "cell_type": "code",
   "execution_count": 10,
   "metadata": {},
   "outputs": [],
   "source": [
    "def halfDivision():\n",
    "    ε = 1e-4\n",
    "\n",
    "    ξa, ξb = find_ξ()\n",
    "    ξ = (ξa + ξb) / 2\n",
    "\n",
    "    up0 = Up(0)\n",
    "    step = 0\n",
    "    while (abs((ξa - ξb) / ξ) > ε) and step < HALF_DIVISION_STEP_LIMIT:\n",
    "        ξ = (ξa + ξb) / 2\n",
    "\n",
    "        Δa = get_last_Δ(*RungeCutt4(0, ξa * up0, 0, 1))\n",
    "        Δ = get_last_Δ(*RungeCutt4(0, ξ * up0, 0, 1))\n",
    "\n",
    "        if Δa * Δ >= 0:\n",
    "            ξa = ξ\n",
    "        else:\n",
    "            ξb = ξ\n",
    "\n",
    "        step += 1\n",
    "\n",
    "    return ξ\n"
   ]
  },
  {
   "cell_type": "markdown",
   "metadata": {},
   "source": [
    "### Отрисовка"
   ]
  },
  {
   "cell_type": "code",
   "execution_count": 11,
   "metadata": {},
   "outputs": [],
   "source": [
    "ξ = halfDivision()\n",
    "z_res, f_res, u_res = RungeCutt4(0, ξ * Up(0), 0,  1)\n",
    "Δs = get_Δ(f_res, u_res)\n",
    "\n",
    "t_res = Tz(z_res)\n",
    "up_res = Up(z_res)"
   ]
  },
  {
   "cell_type": "code",
   "execution_count": 12,
   "metadata": {},
   "outputs": [
    {
     "data": {
      "text/plain": [
       "Text(0.5, 1.0, 'U(z)')"
      ]
     },
     "execution_count": 12,
     "metadata": {},
     "output_type": "execute_result"
    },
    {
     "data": {
      "image/png": "[encoded data removed]",
      "text/plain": [
       "<Figure size 432x288 with 1 Axes>"
      ]
     },
     "metadata": {
      "needs_background": "light"
     },
     "output_type": "display_data"
    }
   ],
   "source": [
    "plt.plot(z_res, u_res, 'r')\n",
    "plt.plot(z_res, up_res, 'g')\n",
    "plt.title('U(z)')"
   ]
  },
  {
   "cell_type": "code",
   "execution_count": 13,
   "metadata": {},
   "outputs": [
    {
     "data": {
      "text/plain": [
       "Text(0.5, 1.0, 'F(z)')"
      ]
     },
     "execution_count": 13,
     "metadata": {},
     "output_type": "execute_result"
    },
    {
     "data": {
      "image/png": "[encoded data removed]",
      "text/plain": [
       "<Figure size 432x288 with 1 Axes>"
      ]
     },
     "metadata": {
      "needs_background": "light"
     },
     "output_type": "display_data"
    }
   ],
   "source": [
    "\n",
    "plt.plot(z_res, f_res, 'g')\n",
    "plt.title('F(z)')"
   ]
  },
  {
   "cell_type": "code",
   "execution_count": 14,
   "metadata": {},
   "outputs": [
    {
     "data": {
      "text/plain": [
       "Text(0.5, 1.0, 'ξ = 0.376203')"
      ]
     },
     "execution_count": 14,
     "metadata": {},
     "output_type": "execute_result"
    },
    {
     "data": {
      "image/png": "[encoded data removed]",
      "text/plain": [
       "<Figure size 432x288 with 1 Axes>"
      ]
     },
     "metadata": {
      "needs_background": "light"
     },
     "output_type": "display_data"
    }
   ],
   "source": [
    "plt.plot(z_res, Δs, 'b')\n",
    "plt.title(f\"ξ = {ξ:.6f}\")\n"
   ]
  },
  {
   "cell_type": "code",
   "execution_count": 15,
   "metadata": {},
   "outputs": [
    {
     "data": {
      "text/plain": [
       "Text(0.5, 1.0, 'T(z)')"
      ]
     },
     "execution_count": 15,
     "metadata": {},
     "output_type": "execute_result"
    },
    {
     "data": {
      "image/png": "[encoded data removed]",
      "text/plain": [
       "<Figure size 432x288 with 1 Axes>"
      ]
     },
     "metadata": {
      "needs_background": "light"
     },
     "output_type": "display_data"
    }
   ],
   "source": [
    "plt.plot(z_res, t_res, 'g')\n",
    "plt.title(\"T(z)\")"
   ]
  },
  {
   "cell_type": "code",
   "execution_count": null,
   "metadata": {},
   "outputs": [],
   "source": []
  }
 ],
 "metadata": {
  "interpreter": {
   "hash": "e7370f93d1d0cde622a1f8e1c04877d8463912d04d973331ad4851f04de6915a"
  },
  "kernelspec": {
   "display_name": "Python 3 (ipykernel)",
   "language": "python",
   "name": "python3"
  },
  "language_info": {
   "codemirror_mode": {
    "name": "ipython",
    "version": 3
   },
   "file_extension": ".py",
   "mimetype": "text/x-python",
   "name": "python",
   "nbconvert_exporter": "python",
   "pygments_lexer": "ipython3",
   "version": "3.10.2"
  }
 },
 "nbformat": 4,
 "nbformat_minor": 2
}
