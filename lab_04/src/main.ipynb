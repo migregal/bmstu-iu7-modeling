{
 "cells": [
  {
   "cell_type": "code",
   "execution_count": 1,
   "metadata": {},
   "outputs": [],
   "source": [
    "import numpy as np\n",
    "import matplotlib.pyplot as plt\n",
    "import pandas as pd\n",
    "import numba as nb\n",
    "from math import exp\n",
    "from tqdm.auto import tqdm"
   ]
  },
  {
   "cell_type": "code",
   "execution_count": 2,
   "metadata": {},
   "outputs": [],
   "source": [
    "# %pip install ipywidgets"
   ]
  },
  {
   "cell_type": "code",
   "execution_count": 3,
   "metadata": {},
   "outputs": [],
   "source": [
    "# %pip install numba"
   ]
  },
  {
   "cell_type": "code",
   "execution_count": 4,
   "metadata": {},
   "outputs": [],
   "source": [
    "%matplotlib inline"
   ]
  },
  {
   "cell_type": "code",
   "execution_count": 5,
   "metadata": {},
   "outputs": [],
   "source": [
    "k_0 = 1\n",
    "a_1 = 0.0134\n",
    "a_2 = 2.049\n",
    "b_1 = 1\n",
    "b_2 = 0.563 * 1e-3\n",
    "c_1 = 4.35 * 1e-4\n",
    "c_2 = 0.528 * 1e+5\n",
    "m_1 = 1\n",
    "m_2 = 1\n",
    "alpha_0 = 0.05\n",
    "alpha_n = 0.01\n",
    "l = 10\n",
    "T_0 = 300\n",
    "r = 0.5\n",
    "f_max = 50\n",
    "t_max = 60\n",
    "ac = alpha_0 * alpha_n * l / (alpha_0 - alpha_n)\n",
    "ad = alpha_n * l / (alpha_n - alpha_0)\n",
    "\n",
    "h = 1e-3\n",
    "tau = 2e-2"
   ]
  },
  {
   "cell_type": "code",
   "execution_count": 6,
   "metadata": {},
   "outputs": [
    {
     "ename": "AttributeError",
     "evalue": "module 'numba' has no attribute 'jit'",
     "output_type": "error",
     "traceback": [
      "\u001b[0;31m---------------------------------------------------------------------------\u001b[0m",
      "\u001b[0;31mAttributeError\u001b[0m                            Traceback (most recent call last)",
      "Input \u001b[0;32mIn [6]\u001b[0m, in \u001b[0;36m<cell line: 1>\u001b[0;34m()\u001b[0m\n\u001b[0;32m----> 1\u001b[0m \u001b[38;5;129m@nb\u001b[39m\u001b[38;5;241;43m.\u001b[39;49m\u001b[43mjit\u001b[49m\n\u001b[1;32m      2\u001b[0m \u001b[38;5;28;01mdef\u001b[39;00m \u001b[38;5;21mlmbda\u001b[39m(T):\n\u001b[1;32m      3\u001b[0m     \u001b[38;5;28;01mreturn\u001b[39;00m a_1 \u001b[38;5;241m*\u001b[39m (b_1 \u001b[38;5;241m+\u001b[39m c_1 \u001b[38;5;241m*\u001b[39m T \u001b[38;5;241m*\u001b[39m\u001b[38;5;241m*\u001b[39m m_1)\n\u001b[1;32m      5\u001b[0m \u001b[38;5;129m@nb\u001b[39m\u001b[38;5;241m.\u001b[39mjit\n\u001b[1;32m      6\u001b[0m \u001b[38;5;28;01mdef\u001b[39;00m \u001b[38;5;21mc\u001b[39m(T, a_2):\n",
      "\u001b[0;31mAttributeError\u001b[0m: module 'numba' has no attribute 'jit'"
     ]
    }
   ],
   "source": [
    "@nb.jit\n",
    "def lmbda(T):\n",
    "    return a_1 * (b_1 + c_1 * T ** m_1)\n",
    "\n",
    "@nb.jit\n",
    "def c(T, a_2):\n",
    "    return a_2 + b_2 * T ** m_2 - c_2 / T / T\n",
    "\n",
    "@nb.jit\n",
    "def k(T):\n",
    "    return k_0 * T * T / 90000\n",
    "\n",
    "@nb.jit\n",
    "def alpha(x):\n",
    "    return ac / (x - ad)\n",
    "\n",
    "@nb.jit\n",
    "def p(x):\n",
    "    return 2 / r * alpha(x)\n",
    "\n",
    "@nb.jit\n",
    "def F0(t):\n",
    "    return f_max / t_max * t * exp(-(t / t_max - 1))\n",
    "\n",
    "@nb.jit\n",
    "def F0_const(t):\n",
    "    return f_max / t_max\n",
    "\n",
    "@nb.jit\n",
    "def F0_freq(t, freq):\n",
    "    period = 1 / freq\n",
    "    if abs(t / period - int(t / period)) < 1e-4:\n",
    "        return f_max / t_max * t * np.exp(-(t / t_max - 1))\n",
    "    else:\n",
    "        return 0"
   ]
  },
  {
   "cell_type": "code",
   "execution_count": null,
   "metadata": {},
   "outputs": [],
   "source": [
    "@nb.jit\n",
    "def f(x, T, t, f_freq):\n",
    "    if f_freq == 0:\n",
    "        return k(T) * F0(t) * exp(-k(T) * x) + 2 * T_0 / r * alpha(x)\n",
    "    return k(T) * F0_freq(t, f_freq) * exp(-k(T) * x) + 2 * T_0 / r * alpha(x)\n",
    "\n",
    "@nb.jit\n",
    "def kappa(z_this, z_next):\n",
    "    return 2 * lmbda(z_this) * lmbda(z_next) / (lmbda(z_this) + lmbda(z_next))\n",
    "\n",
    "def stop_condition(z_relax_iter, z_next_iter):\n",
    "    eps = 1e-2\n",
    "    max_err = np.max(np.abs((z_next_iter - z_relax_iter) / z_next_iter))\n",
    "\n",
    "    return max_err < eps"
   ]
  },
  {
   "cell_type": "code",
   "execution_count": null,
   "metadata": {},
   "outputs": [],
   "source": [
    "@nb.jit\n",
    "def tridiagonal(x_s, prev, cur_layer, cur_time, a_2, f_freq):\n",
    "    half_z = (prev[0] + prev[1]) / 2\n",
    "    half_last = (prev[-1] + prev[-2]) / 2\n",
    "    prev_half = (cur_layer[0] + cur_layer[1]) / 2\n",
    "    prev_last_half = (cur_layer[-1] + cur_layer[-2]) / 2\n",
    "    \n",
    "    h = x_s[1] - x_s[0]\n",
    "    K_0 = h / 8 * c(half_z, a_2) + h / 4 * c(prev[0], a_2) + kappa(prev[0], prev[1]) * tau / h + alpha_0 * tau + h * tau / 4 * p(0) + h * tau / 8 * p(h / 2)\n",
    "    M_0 = h / 8 * c(half_z, a_2) - kappa(prev[0], prev[1]) / h * tau + h * tau / 8 * p(h / 2)\n",
    "    P_0 = h / 4 * (prev_half * c(half_z, a_2) + cur_layer[0] * c(prev[0], a_2)) + alpha_0 * T_0 * tau + h * tau / 4 * (f(0, prev[0], cur_time, f_freq) + f(h/2, half_z, cur_time, f_freq))\n",
    "\n",
    "    xi = np.zeros(x_s.shape)\n",
    "    etha = np.zeros(x_s.shape)\n",
    "    xi[1] = -M_0 / K_0\n",
    "    etha[1] = P_0 / K_0\n",
    "    \n",
    "    for i in range(1, len(prev) - 1):\n",
    "        a_n = kappa(prev[i - 1], prev[i]) * tau / (x_s[i] - x_s[i - 1])\n",
    "        c_n = kappa(prev[i], prev[i + 1]) * tau / (x_s[i + 1] - x_s[i])\n",
    "        h = (x_s[i + 1] - x_s[i])\n",
    "        b_n = a_n + c_n + c(prev[i], a_2) * h + p(h * i) * tau * h\n",
    "        f_n = c(prev[i], a_2) * cur_layer[i] * h + f(h * i, prev[i], cur_time, f_freq) * tau * h\n",
    "\n",
    "        xi[i+1] = c_n / (b_n - a_n * xi[i])\n",
    "        etha[i+1] = (f_n + a_n * etha[i])/(b_n - a_n * xi[i])\n",
    "    \n",
    "    z = np.zeros(x_s.shape)\n",
    "\n",
    "    K_N = h / 8 * c(half_last, a_2) - kappa(prev[-2], prev[-1]) * tau / h + tau * h / 8 * p(l - h / 2)\n",
    "    M_N = h / 4 * c(prev[-1], a_2) + h / 8 * c(half_last, a_2) + tau / h * kappa(prev[-2], prev[-1]) + tau * alpha_n + tau * h / 4 * p(l) + tau * h / 8 * p(l - h / 2)\n",
    "    P_N = alpha_n * T_0 * tau + tau * h / 4 * (f(l, prev[-1], cur_time, f_freq) + f(l - h/2, half_last, cur_time, f_freq)) + h / 4 * (c(prev[-1], a_2) * cur_layer[-1] + c(half_last, a_2) * prev_last_half)\n",
    "\n",
    "    z[-1] = (P_N - M_N * etha[-1]) / (K_N + M_N * xi[-1])\n",
    "\n",
    "    for i in range(len(z) - 2, -1, -1):\n",
    "        z[i] = z[i+1] * xi[i+1] + etha[i+1]\n",
    "\n",
    "    return z"
   ]
  },
  {
   "cell_type": "code",
   "execution_count": null,
   "metadata": {},
   "outputs": [],
   "source": [
    "def get_next_layer(x_s, cur_layer, cur_time, a_2, f_freq):\n",
    "    xi = 0.5\n",
    "    next_iter = cur_layer\n",
    "    relax_iter = cur_layer\n",
    "\n",
    "    while True:\n",
    "        next_iter = tridiagonal(x_s, relax_iter, cur_layer, cur_time, a_2, f_freq)\n",
    "\n",
    "        if stop_condition(relax_iter, next_iter):\n",
    "            break\n",
    "\n",
    "        relax_iter += xi * (next_iter - relax_iter)\n",
    "\n",
    "    return next_iter"
   ]
  },
  {
   "cell_type": "code",
   "execution_count": null,
   "metadata": {},
   "outputs": [],
   "source": [
    "def solve(x_s, a_2, f_freq = 0):\n",
    "    t_s = []\n",
    "    t = 0\n",
    "    while t <= t_max * 3:\n",
    "        t_s.append(t)\n",
    "        t += tau\n",
    "    t_s.append(t)\n",
    "#     t_s = [i * tau for i in range(int(t_max * 3 / tau))]\n",
    "#     t_s.append(t_max * 3)\n",
    "    t_s = np.array(t_s)\n",
    "    \n",
    "    \n",
    "    res = [\n",
    "        [T_0 for j in range(len(x_s))],\n",
    "    ]\n",
    "    \n",
    "    res = [\n",
    "        np.ones(x_s.shape) * T_0\n",
    "    ]\n",
    "\n",
    "    for i in tqdm(range(len(t_s)-1)):\n",
    "        layer = get_next_layer(x_s, res[i], t_s[i + 1], a_2, f_freq)\n",
    "        res.append(layer)\n",
    "\n",
    "    return res, t_s"
   ]
  },
  {
   "cell_type": "code",
   "execution_count": null,
   "metadata": {},
   "outputs": [],
   "source": [
    "x = np.linspace(0, 1, int(l/h) + 1)]\n",
    "x = x / np.max(x) * l\n",
    "\n",
    "T, t = solve(x, a_2)"
   ]
  },
  {
   "cell_type": "code",
   "execution_count": null,
   "metadata": {},
   "outputs": [],
   "source": [
    "M = len(t)\n",
    "view = slice(int(len(x)))\n",
    "T_for_graph = [T[0], T[M // 4], T[M // 2], T[3 * M // 4], T[-1]]\n",
    "plt.plot(x[view], T_for_graph[0][view], '#00f', label='t = 0')\n",
    "plt.plot(x[view], T_for_graph[1][view], '#40c', label=f't = {t_max//4}')\n",
    "plt.plot(x[view], T_for_graph[2][view], '#808', label=f't = {t_max // 2}')\n",
    "plt.plot(x[view], T_for_graph[3][view], '#c04', label=f't = {3 * t_max // 4}')\n",
    "plt.plot(x[view], T_for_graph[4][view], '#f00', label=f't = {t_max}')\n",
    "plt.legend()\n",
    "\n",
    "plt.grid()"
   ]
  },
  {
   "cell_type": "code",
   "execution_count": null,
   "metadata": {},
   "outputs": [],
   "source": [
    "M = len(t)\n",
    "T_for_graph = [T[0], T[M // 4], T[M // 2], T[3 * M // 4], T[-1]]\n",
    "df = pd.DataFrame({\n",
    "    'x': x,\n",
    "    't = 0': T_for_graph[0],\n",
    "    f't = {t_max//4}': T_for_graph[1],\n",
    "    f't = {t_max // 2}': T_for_graph[2],\n",
    "    f't = {3 * t_max // 4}': T_for_graph[3],\n",
    "    f't = {t_max}': T_for_graph[4],\n",
    "})\n",
    "df"
   ]
  },
  {
   "cell_type": "code",
   "execution_count": null,
   "metadata": {},
   "outputs": [],
   "source": [
    "T_c = [[T[i][0] for i in range(len(T))]]\n",
    "for a_2 in (1.549, 2.549, 3.049):\n",
    "    T_this, _, = solve(x, a_2)\n",
    "    T_c.append([T_this[i][0] for i in range(len(T_this))])\n",
    "\n",
    "plt.plot(t, T_c[1], 'b', label='a2 = 1.549')\n",
    "plt.plot(t, T_c[0], 'r', label='a2 = 2.049')\n",
    "plt.plot(t, T_c[2], 'g', label='a2 = 2.549')\n",
    "plt.plot(t, T_c[3], 'm', label='a2 = 3.049')\n",
    "plt.legend()\n",
    "\n",
    "plt.grid()"
   ]
  },
  {
   "cell_type": "code",
   "execution_count": null,
   "metadata": {},
   "outputs": [],
   "source": [
    "T_f = []\n",
    "a_2 = 2.049\n",
    "\n",
    "for freq in (1, 2, 5, 10, 20):\n",
    "    T_this, _ = solve(x, a_2, freq)\n",
    "    T_f.append([T_this[i][0] for i in range(len(T_this) // 2)])\n",
    "\n",
    "t = t[:len(T_f[0])]\n",
    "\n",
    "plt.plot(t, T_f[0], 'r', label='v = 1')\n",
    "plt.plot(t, T_f[1], 'b', label='v = 2')\n",
    "plt.plot(t, T_f[2], 'g', label='v = 5')\n",
    "plt.plot(t, T_f[3], 'm', label='v = 10')\n",
    "plt.plot(t, T_f[4], 'k', label='v = 20')\n",
    "plt.legend()\n",
    "\n",
    "plt.grid()"
   ]
  },
  {
   "cell_type": "code",
   "execution_count": null,
   "metadata": {},
   "outputs": [],
   "source": []
  }
 ],
 "metadata": {
  "kernelspec": {
   "display_name": "Python 3 (ipykernel)",
   "language": "python",
   "name": "python3"
  },
  "language_info": {
   "codemirror_mode": {
    "name": "ipython",
    "version": 3
   },
   "file_extension": ".py",
   "mimetype": "text/x-python",
   "name": "python",
   "nbconvert_exporter": "python",
   "pygments_lexer": "ipython3",
   "version": "3.10.4"
  }
 },
 "nbformat": 4,
 "nbformat_minor": 2
}
